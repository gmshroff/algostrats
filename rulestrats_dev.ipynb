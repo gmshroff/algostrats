{
 "cells": [
  {
   "cell_type": "code",
   "execution_count": null,
   "id": "d7889ded-dd8c-4c73-aadd-687cf98ddbb0",
   "metadata": {},
   "outputs": [],
   "source": [
    "import import_ipynb\n",
    "import pandas as pd\n",
    "import numpy as np\n",
    "import torch\n",
    "from datetime import datetime\n",
    "from datetime import datetime as dt\n",
    "from torch.utils.data import Dataset\n",
    "from sklearn.preprocessing import StandardScaler\n",
    "import pickle"
   ]
  },
  {
   "cell_type": "code",
   "execution_count": null,
   "id": "27681588-e85b-4818-b7f9-9e8aca7d87cf",
   "metadata": {},
   "outputs": [],
   "source": [
    "from feeds import BackFeed,DataFeed\n",
    "from featfuncs import feat_aug,add_addl_features_feed,add_ta_features_feed,add_sym_feature_feed\n",
    "from featfuncs import add_global_indices_feed"
   ]
  },
  {
   "cell_type": "code",
   "execution_count": null,
   "id": "f2b00b2b-5075-43a3-af92-2268c1122515",
   "metadata": {},
   "outputs": [],
   "source": [
    "from rulestrats import AdaMomCMOADF, GapBet"
   ]
  },
  {
   "cell_type": "code",
   "execution_count": null,
   "id": "60e90844-5b84-45c2-a37a-9d8741cc98ae",
   "metadata": {},
   "outputs": [],
   "source": [
    "def do_nothing(dfD):\n",
    "    empty={t:0 for t in dfD}\n",
    "    return empty,empty,empty\n",
    "def always_buy(dfD):\n",
    "    buy={t:1 for t in dfD}\n",
    "    empty={t:0 for t in dfD}\n",
    "    return buy,empty,empty\n",
    "def always_sell(dfD):\n",
    "    sell={t:-1 for t in dfD}\n",
    "    empty={t:0 for t in dfD}\n",
    "    return sell,empty,empty"
   ]
  },
  {
   "cell_type": "code",
   "execution_count": null,
   "id": "0dcef68c-7c7f-4309-bb90-0c155890a0d0",
   "metadata": {},
   "outputs": [],
   "source": [
    "def get_alt_data():\n",
    "    global feed\n",
    "    aD={'gdata':feed.gdata}\n",
    "    return aD"
   ]
  },
  {
   "cell_type": "markdown",
   "id": "2d968479-dbed-4d41-b7f5-46316cd68ec6",
   "metadata": {},
   "source": [
    "Host Service via Anvil"
   ]
  },
  {
   "cell_type": "code",
   "execution_count": null,
   "id": "f232463e-1584-4b8a-a719-9cfe9c141b49",
   "metadata": {},
   "outputs": [],
   "source": [
    "import anvil.server"
   ]
  },
  {
   "cell_type": "code",
   "execution_count": null,
   "id": "4ca41874-ef9b-48e0-826d-593869e527c4",
   "metadata": {
    "tags": []
   },
   "outputs": [],
   "source": [
    "# DeepTrader:\n",
    "anvil.server.connect(\"STKYCIXUMGFV2CURGMCMOFUV-MBK5ZXFC4MCKYKOE\")"
   ]
  },
  {
   "cell_type": "code",
   "execution_count": null,
   "id": "e0f0d28b-e885-4670-920e-e81178ce27ac",
   "metadata": {},
   "outputs": [],
   "source": [
    "momStrat=MomStrat()"
   ]
  },
  {
   "cell_type": "code",
   "execution_count": null,
   "id": "e9edb3fd-6d0b-4a51-ba55-6c487c791c1f",
   "metadata": {},
   "outputs": [],
   "source": [
    "momStrat=AdaMomCMOADF()"
   ]
  },
  {
   "cell_type": "code",
   "execution_count": null,
   "id": "1b285b6a-687b-4a88-b2b1-b0a9100d0b0f",
   "metadata": {
    "tags": []
   },
   "outputs": [],
   "source": [
    "@anvil.server.callable\n",
    "def check_entry_batch_mom2(dfD):\n",
    "    global momStrat\n",
    "    dfDloc={}\n",
    "    for t in dfD.keys():\n",
    "        dfDloc[t]=pd.DataFrame(dfD[t])\n",
    "    return MomStrat.Check(momStrat,dfDloc)"
   ]
  },
  {
   "cell_type": "code",
   "execution_count": null,
   "id": "e1cac41a-f277-4a55-8d9c-d4c0912fb00e",
   "metadata": {},
   "outputs": [],
   "source": [
    "@anvil.server.callable\n",
    "def check_exit_batch_mom2(dfD,posf):\n",
    "    global momStrat\n",
    "    posloc=pd.DataFrame(posf)\n",
    "    dfDloc={}\n",
    "    for t in dfD.keys():\n",
    "        dfDloc[t]=pd.DataFrame(dfD[t])\n",
    "    return MomStrat.Exit(momStrat,dfDloc,posloc)"
   ]
  },
  {
   "cell_type": "markdown",
   "id": "f05c2614-221c-4490-aa27-ab4e3e12bb5b",
   "metadata": {},
   "source": [
    "Strategy Development: ADF Momentum"
   ]
  },
  {
   "cell_type": "code",
   "execution_count": null,
   "id": "6db830b3-32e5-4ac4-99e5-f077166076c8",
   "metadata": {},
   "outputs": [],
   "source": [
    "from backtest import Backtest\n",
    "from feeds import BackFeed,DataFeed\n",
    "from validation import Validate"
   ]
  },
  {
   "cell_type": "code",
   "execution_count": null,
   "id": "0742b6ae-da3c-4d24-a392-762ca2433314",
   "metadata": {},
   "outputs": [],
   "source": [
    "data=pd.read_csv('./capvol100.csv')"
   ]
  },
  {
   "cell_type": "code",
   "execution_count": null,
   "id": "87f1cb97-c120-45e8-b2f1-90e739766b85",
   "metadata": {},
   "outputs": [],
   "source": [
    "tickers=list(data.iloc[0:10]['ticker'].values)"
   ]
  },
  {
   "cell_type": "code",
   "execution_count": null,
   "id": "3d631e0b-8315-46d0-b418-152ad969c3ed",
   "metadata": {},
   "outputs": [],
   "source": [
    "feed=BackFeed(tickers=tickers,nd=3,nw=1,interval='5m')"
   ]
  },
  {
   "cell_type": "code",
   "execution_count": null,
   "id": "799f3a40-5ba4-4952-a394-2e0e3bc42634",
   "metadata": {},
   "outputs": [],
   "source": [
    "add_addl_features_feed(feed,tickers=feed.tickers)"
   ]
  },
  {
   "cell_type": "code",
   "execution_count": null,
   "id": "015607c8-374e-4c6c-8271-e9b98ba17dfb",
   "metadata": {},
   "outputs": [],
   "source": [
    "add_sym_feature_feed(feed,tickers=feed.tickers)"
   ]
  },
  {
   "cell_type": "code",
   "execution_count": null,
   "id": "2a62a116-e96b-416d-a3fc-0d9b248c57b4",
   "metadata": {},
   "outputs": [],
   "source": [
    "add_global_indices_feed(feed)"
   ]
  },
  {
   "cell_type": "code",
   "execution_count": null,
   "id": "11e90f95-49f6-4a10-a166-3db58bf88098",
   "metadata": {},
   "outputs": [],
   "source": [
    "import pickle"
   ]
  },
  {
   "cell_type": "code",
   "execution_count": null,
   "id": "c95866e2-fb0c-4540-9395-008e39d64f58",
   "metadata": {},
   "outputs": [],
   "source": [
    "# with open('../../temp_data/btfeed.pickle','wb') as f: pickle.dump(feed,f)"
   ]
  },
  {
   "cell_type": "code",
   "execution_count": null,
   "id": "f93c402f-62b6-4518-be78-999cc546f2f2",
   "metadata": {},
   "outputs": [],
   "source": [
    "with open('../../temp_data/btfeed.pickle','rb') as f: feed=pickle.load(f)"
   ]
  },
  {
   "cell_type": "code",
   "execution_count": null,
   "id": "d30e7a77-d7c9-4531-8990-102faa8f05cd",
   "metadata": {},
   "outputs": [],
   "source": [
    "gapbet=GapBet(direction=-1)"
   ]
  },
  {
   "cell_type": "code",
   "execution_count": null,
   "id": "4bf1ea77-acc2-4def-a738-5d78f7a691aa",
   "metadata": {},
   "outputs": [],
   "source": [
    "gapbet.set_alt_data(alt_data_func=get_alt_data)"
   ]
  },
  {
   "cell_type": "code",
   "execution_count": null,
   "id": "51966e37-f9c0-4a59-965e-c5b9a1bef3d9",
   "metadata": {},
   "outputs": [],
   "source": [
    "adamom=AdaMomCMOADF()"
   ]
  },
  {
   "cell_type": "code",
   "execution_count": null,
   "id": "5d57f282-63cf-4353-8e64-9549e646b817",
   "metadata": {},
   "outputs": [],
   "source": [
    "import importlib\n",
    "import sys,os"
   ]
  },
  {
   "cell_type": "code",
   "execution_count": null,
   "id": "9c889f01-e9db-4653-b8ea-f54e8f910371",
   "metadata": {},
   "outputs": [],
   "source": [
    "importlib.reload(sys.modules['feed_env'])\n",
    "from feed_env import Episode"
   ]
  },
  {
   "cell_type": "code",
   "execution_count": null,
   "id": "c01aad11-6e06-4bb4-b83a-85b1640972a8",
   "metadata": {},
   "outputs": [],
   "source": [
    "importlib.reload(sys.modules['backtest'])\n",
    "from backtest import Backtest"
   ]
  },
  {
   "cell_type": "code",
   "execution_count": null,
   "id": "6502f41a-7546-495b-9f15-15d29c057a55",
   "metadata": {},
   "outputs": [],
   "source": [
    "importlib.reload(sys.modules['rulestrats'])\n",
    "from rulestrats import AdaMomCMOADF,GapBet"
   ]
  },
  {
   "cell_type": "code",
   "execution_count": null,
   "id": "a39e73b0-954d-490e-990f-3f1ac72a7a6a",
   "metadata": {},
   "outputs": [],
   "source": [
    "# def save_func(df): return(df.iloc[-1]['CMO_14'])"
   ]
  },
  {
   "cell_type": "code",
   "execution_count": null,
   "id": "7fde12ee-eb14-4405-8e41-0a7ce44f132b",
   "metadata": {},
   "outputs": [],
   "source": [
    "bt=Backtest(feed,tickers=feed.tickers,add_features=False,target=.5,stop=.5,txcost=0.001,\n",
    "            loc_exit=True,scan=True,topk=3,deploy=True,save_dfs=True,\n",
    "            save_func=None)"
   ]
  },
  {
   "cell_type": "code",
   "execution_count": null,
   "id": "bf4912c9-a523-4745-9bb5-28435865526e",
   "metadata": {},
   "outputs": [],
   "source": [
    "bt.run_all(tickers=feed.tickers,model=gapbet,verbose=False)"
   ]
  },
  {
   "cell_type": "code",
   "execution_count": null,
   "id": "c08c91c6-d3e5-432c-bf55-770b53a23058",
   "metadata": {},
   "outputs": [],
   "source": [
    "bt.returns"
   ]
  },
  {
   "cell_type": "code",
   "execution_count": null,
   "id": "35551367-ab39-478c-beaf-5bf9758c593b",
   "metadata": {
    "tags": []
   },
   "outputs": [],
   "source": [
    "bt.results"
   ]
  },
  {
   "cell_type": "code",
   "execution_count": null,
   "id": "460170a3-2307-4c44-a447-17d2fadac7b4",
   "metadata": {},
   "outputs": [],
   "source": []
  }
 ],
 "metadata": {
  "kernelspec": {
   "display_name": "Python 3 (ipykernel)",
   "language": "python",
   "name": "python3"
  },
  "language_info": {
   "codemirror_mode": {
    "name": "ipython",
    "version": 3
   },
   "file_extension": ".py",
   "mimetype": "text/x-python",
   "name": "python",
   "nbconvert_exporter": "python",
   "pygments_lexer": "ipython3",
   "version": "3.8.12"
  }
 },
 "nbformat": 4,
 "nbformat_minor": 5
}
