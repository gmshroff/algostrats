{
 "cells": [
  {
   "cell_type": "code",
   "execution_count": 1,
   "id": "d7889ded-dd8c-4c73-aadd-687cf98ddbb0",
   "metadata": {},
   "outputs": [],
   "source": [
    "import import_ipynb\n",
    "import pandas as pd\n",
    "import numpy as np\n",
    "import torch\n",
    "from datetime import datetime\n",
    "from datetime import datetime as dt\n",
    "from torch.utils.data import Dataset\n",
    "from sklearn.preprocessing import StandardScaler\n",
    "import pickle"
   ]
  },
  {
   "cell_type": "code",
   "execution_count": 2,
   "id": "27681588-e85b-4818-b7f9-9e8aca7d87cf",
   "metadata": {},
   "outputs": [
    {
     "name": "stdout",
     "output_type": "stream",
     "text": [
      "importing Jupyter notebook from feeds.ipynb\n",
      "importing Jupyter notebook from featfuncs.ipynb\n",
      "importing Jupyter notebook from india_calendar.ipynb\n"
     ]
    }
   ],
   "source": [
    "from feeds import BackFeed,DataFeed\n",
    "from featfuncs import feat_aug,add_addl_features_feed,add_ta_features_feed,add_sym_feature_feed\n",
    "from featfuncs import add_global_indices_feed"
   ]
  },
  {
   "cell_type": "code",
   "execution_count": 3,
   "id": "f2b00b2b-5075-43a3-af92-2268c1122515",
   "metadata": {},
   "outputs": [
    {
     "name": "stdout",
     "output_type": "stream",
     "text": [
      "importing Jupyter notebook from rulestrats.ipynb\n"
     ]
    }
   ],
   "source": [
    "from rulestrats import AdaMomCMOADF, GapBet"
   ]
  },
  {
   "cell_type": "code",
   "execution_count": 4,
   "id": "60e90844-5b84-45c2-a37a-9d8741cc98ae",
   "metadata": {},
   "outputs": [],
   "source": [
    "def do_nothing(dfD):\n",
    "    empty={t:0 for t in dfD}\n",
    "    return empty,empty,empty\n",
    "def always_buy(dfD):\n",
    "    buy={t:1 for t in dfD}\n",
    "    empty={t:0 for t in dfD}\n",
    "    return buy,empty,empty\n",
    "def always_sell(dfD):\n",
    "    sell={t:-1 for t in dfD}\n",
    "    empty={t:0 for t in dfD}\n",
    "    return sell,empty,empty"
   ]
  },
  {
   "cell_type": "markdown",
   "id": "2d968479-dbed-4d41-b7f5-46316cd68ec6",
   "metadata": {},
   "source": [
    "Host Service via Anvil"
   ]
  },
  {
   "cell_type": "code",
   "execution_count": 5,
   "id": "f232463e-1584-4b8a-a719-9cfe9c141b49",
   "metadata": {},
   "outputs": [],
   "source": [
    "import anvil.server"
   ]
  },
  {
   "cell_type": "code",
   "execution_count": 6,
   "id": "4ca41874-ef9b-48e0-826d-593869e527c4",
   "metadata": {
    "tags": []
   },
   "outputs": [
    {
     "name": "stdout",
     "output_type": "stream",
     "text": [
      "Connecting to wss://anvil.works/uplink\n",
      "Anvil websocket open\n",
      "Connected to \"Default environment\" as SERVER\n"
     ]
    }
   ],
   "source": [
    "# DeepTrader:\n",
    "anvil.server.connect(\"STKYCIXUMGFV2CURGMCMOFUV-MBK5ZXFC4MCKYKOE\")"
   ]
  },
  {
   "cell_type": "code",
   "execution_count": 5,
   "id": "e0f0d28b-e885-4670-920e-e81178ce27ac",
   "metadata": {},
   "outputs": [
    {
     "ename": "NameError",
     "evalue": "name 'MomStrat' is not defined",
     "output_type": "error",
     "traceback": [
      "\u001b[0;31m---------------------------------------------------------------------------\u001b[0m",
      "\u001b[0;31mNameError\u001b[0m                                 Traceback (most recent call last)",
      "\u001b[0;32m/var/folders/jz/466kbks91q3glsb0kx0kfwk80000gq/T/ipykernel_5196/285902052.py\u001b[0m in \u001b[0;36m<module>\u001b[0;34m\u001b[0m\n\u001b[0;32m----> 1\u001b[0;31m \u001b[0mmomStrat\u001b[0m\u001b[0;34m=\u001b[0m\u001b[0mMomStrat\u001b[0m\u001b[0;34m(\u001b[0m\u001b[0;34m)\u001b[0m\u001b[0;34m\u001b[0m\u001b[0;34m\u001b[0m\u001b[0m\n\u001b[0m",
      "\u001b[0;31mNameError\u001b[0m: name 'MomStrat' is not defined"
     ]
    }
   ],
   "source": [
    "momStrat=MomStrat()"
   ]
  },
  {
   "cell_type": "code",
   "execution_count": 6,
   "id": "e9edb3fd-6d0b-4a51-ba55-6c487c791c1f",
   "metadata": {},
   "outputs": [],
   "source": [
    "momStrat=AdaMomCMOADF()"
   ]
  },
  {
   "cell_type": "code",
   "execution_count": null,
   "id": "1b285b6a-687b-4a88-b2b1-b0a9100d0b0f",
   "metadata": {
    "tags": []
   },
   "outputs": [],
   "source": [
    "@anvil.server.callable\n",
    "def check_entry_batch_mom2(dfD):\n",
    "    global momStrat\n",
    "    dfDloc={}\n",
    "    for t in dfD.keys():\n",
    "        dfDloc[t]=pd.DataFrame(dfD[t])\n",
    "    return MomStrat.Check(momStrat,dfDloc)"
   ]
  },
  {
   "cell_type": "code",
   "execution_count": null,
   "id": "e1cac41a-f277-4a55-8d9c-d4c0912fb00e",
   "metadata": {},
   "outputs": [],
   "source": [
    "@anvil.server.callable\n",
    "def check_exit_batch_mom2(dfD,posf):\n",
    "    global momStrat\n",
    "    posloc=pd.DataFrame(posf)\n",
    "    dfDloc={}\n",
    "    for t in dfD.keys():\n",
    "        dfDloc[t]=pd.DataFrame(dfD[t])\n",
    "    return MomStrat.Exit(momStrat,dfDloc,posloc)"
   ]
  },
  {
   "cell_type": "markdown",
   "id": "f05c2614-221c-4490-aa27-ab4e3e12bb5b",
   "metadata": {},
   "source": [
    "Strategy Development: ADF Momentum"
   ]
  },
  {
   "cell_type": "code",
   "execution_count": 6,
   "id": "6db830b3-32e5-4ac4-99e5-f077166076c8",
   "metadata": {},
   "outputs": [
    {
     "name": "stdout",
     "output_type": "stream",
     "text": [
      "importing Jupyter notebook from backtest.ipynb\n",
      "importing Jupyter notebook from feed_env.ipynb\n",
      "importing Jupyter notebook from validation.ipynb\n"
     ]
    }
   ],
   "source": [
    "from backtest import Backtest\n",
    "from feeds import BackFeed,DataFeed\n",
    "from validation import Validate"
   ]
  },
  {
   "cell_type": "code",
   "execution_count": 7,
   "id": "0742b6ae-da3c-4d24-a392-762ca2433314",
   "metadata": {},
   "outputs": [],
   "source": [
    "data=pd.read_csv('./capvol100.csv')"
   ]
  },
  {
   "cell_type": "code",
   "execution_count": 8,
   "id": "87f1cb97-c120-45e8-b2f1-90e739766b85",
   "metadata": {},
   "outputs": [],
   "source": [
    "tickers=list(data.iloc[0:10]['ticker'].values)"
   ]
  },
  {
   "cell_type": "code",
   "execution_count": 9,
   "id": "3d631e0b-8315-46d0-b418-152ad969c3ed",
   "metadata": {},
   "outputs": [],
   "source": [
    "feed=BackFeed(tickers=tickers,nd=3,nw=1)"
   ]
  },
  {
   "cell_type": "code",
   "execution_count": 10,
   "id": "799f3a40-5ba4-4952-a394-2e0e3bc42634",
   "metadata": {},
   "outputs": [],
   "source": [
    "add_addl_features_feed(feed,tickers=feed.tickers)"
   ]
  },
  {
   "cell_type": "code",
   "execution_count": 11,
   "id": "015607c8-374e-4c6c-8271-e9b98ba17dfb",
   "metadata": {},
   "outputs": [],
   "source": [
    "add_sym_feature_feed(feed,tickers=feed.tickers)"
   ]
  },
  {
   "cell_type": "code",
   "execution_count": 12,
   "id": "2a62a116-e96b-416d-a3fc-0d9b248c57b4",
   "metadata": {},
   "outputs": [],
   "source": [
    "add_global_indices_feed(feed)"
   ]
  },
  {
   "cell_type": "code",
   "execution_count": 13,
   "id": "0d681130-9410-4168-8bb9-a47329dc85d0",
   "metadata": {
    "tags": []
   },
   "outputs": [
    {
     "data": {
      "text/plain": [
       "{'21-Oct-2022': [{'Open_^NSEI': 1.0,\n",
       "   'High_^NSEI': 1.0092435206628414,\n",
       "   'Low_^NSEI': 0.9998794927755639,\n",
       "   'Close_^NSEI': 1.0080840730141503,\n",
       "   'Volume_^NSEI': 0.8740952623756619,\n",
       "   'Open_^NYA': 0.989925586426494,\n",
       "   'High_^NYA': 1.0004606531446092,\n",
       "   'Low_^NYA': 0.9801343851233572,\n",
       "   'Close_^NYA': 0.9823460192699404,\n",
       "   'Volume_^NYA': 1.1989233047831307,\n",
       "   'Open_LSEG.L': 0.9954496788008566,\n",
       "   'High_LSEG.L': 1.0001054718867104,\n",
       "   'Low_LSEG.L': 0.9692184154175589,\n",
       "   'Close_LSEG.L': 0.9925053533190579,\n",
       "   'Volume_LSEG.L': 0.6986482844205889,\n",
       "   'Open_^IXIC': 0.9970157647832472,\n",
       "   'High_^IXIC': 1.0138446953380427,\n",
       "   'Low_^IXIC': 0.9892640619237258,\n",
       "   'Close_^IXIC': 0.9930332519539592,\n",
       "   'Volume_^IXIC': 0.9315169680571723}],\n",
       " '25-Oct-2022': [{'Open_^NSEI': 1.0,\n",
       "   'High_^NSEI': 1.0023229792365629,\n",
       "   'Low_^NSEI': 0.9983678028800979,\n",
       "   'Close_^NSEI': 0.9996842862540305,\n",
       "   'Volume_^NSEI': 0.15758929009176598,\n",
       "   'Open_^NYA': 1.0,\n",
       "   'High_^NYA': 1.0088581446468732,\n",
       "   'Low_^NYA': 0.9958548022933948,\n",
       "   'Close_^NYA': 1.0058017716289294,\n",
       "   'Volume_^NYA': 1.2659295040450316,\n",
       "   'Open_LSEG.L': 1.0,\n",
       "   'High_LSEG.L': 1.0096722192369694,\n",
       "   'Low_LSEG.L': 0.9830736163353035,\n",
       "   'Close_LSEG.L': 0.9895217624932832,\n",
       "   'Volume_LSEG.L': 0.6843971311761904,\n",
       "   'Open_^IXIC': 1.0,\n",
       "   'High_^IXIC': 1.0107157877331532,\n",
       "   'Low_^IXIC': 0.9858526511788409,\n",
       "   'Close_^IXIC': 1.0078714903467687,\n",
       "   'Volume_^IXIC': 0.9678792404245603}]}"
      ]
     },
     "execution_count": 13,
     "metadata": {},
     "output_type": "execute_result"
    }
   ],
   "source": [
    "feed.gdata"
   ]
  },
  {
   "cell_type": "code",
   "execution_count": 27,
   "id": "90c169b0-8c52-4c49-aa1d-bc5bdb7bb263",
   "metadata": {},
   "outputs": [],
   "source": [
    "def global_direction(gdata):\n",
    "    global_tickers=['^NYA','LSEG.L','^IXIC']\n",
    "    direction={}\n",
    "    for g in global_tickers:\n",
    "        direction[g]=gdata['Close_'+g]-gdata['Open_'+g]\n",
    "    return 100*sum([direction[k] for k in direction])/len(direction)\n",
    "def domestic_direction(gdata):\n",
    "    tickers=['^NSEI']\n",
    "    direction={}\n",
    "    for g in tickers:\n",
    "        direction[g]=gdata['Close_'+g]-gdata['Open_'+g]\n",
    "    return 100*sum([direction[k] for k in direction])/len(direction)"
   ]
  },
  {
   "cell_type": "code",
   "execution_count": 18,
   "id": "bb823162-4048-476a-8ba6-84f9dec6383d",
   "metadata": {
    "collapsed": true,
    "jupyter": {
     "outputs_hidden": true
    },
    "tags": []
   },
   "outputs": [
    {
     "data": {
      "text/plain": [
       "[{'Open_^NSEI': 1.0,\n",
       "  'High_^NSEI': 1.0092435206628414,\n",
       "  'Low_^NSEI': 0.9998794927755639,\n",
       "  'Close_^NSEI': 1.0080840730141503,\n",
       "  'Volume_^NSEI': 0.8740952623756619,\n",
       "  'Open_^NYA': 0.989925586426494,\n",
       "  'High_^NYA': 1.0004606531446092,\n",
       "  'Low_^NYA': 0.9801343851233572,\n",
       "  'Close_^NYA': 0.9823460192699404,\n",
       "  'Volume_^NYA': 1.1989233047831307,\n",
       "  'Open_LSEG.L': 0.9954496788008566,\n",
       "  'High_LSEG.L': 1.0001054718867104,\n",
       "  'Low_LSEG.L': 0.9692184154175589,\n",
       "  'Close_LSEG.L': 0.9925053533190579,\n",
       "  'Volume_LSEG.L': 0.6986482844205889,\n",
       "  'Open_^IXIC': 0.9970157647832472,\n",
       "  'High_^IXIC': 1.0138446953380427,\n",
       "  'Low_^IXIC': 0.9892640619237258,\n",
       "  'Close_^IXIC': 0.9930332519539592,\n",
       "  'Volume_^IXIC': 0.9315169680571723}]"
      ]
     },
     "execution_count": 18,
     "metadata": {},
     "output_type": "execute_result"
    }
   ],
   "source": [
    "feed.gdata['21-Oct-2022']"
   ]
  },
  {
   "cell_type": "code",
   "execution_count": 28,
   "id": "bbd8e55b-d5df-4d8b-a406-9d05893ea93e",
   "metadata": {},
   "outputs": [
    {
     "data": {
      "text/plain": [
       "-0.483546848921342"
      ]
     },
     "execution_count": 28,
     "metadata": {},
     "output_type": "execute_result"
    }
   ],
   "source": [
    "global_direction(feed.gdata['21-Oct-2022'][0])"
   ]
  },
  {
   "cell_type": "code",
   "execution_count": 29,
   "id": "3eb2cdee-8c5f-492c-9be8-2f5c834eee0b",
   "metadata": {},
   "outputs": [
    {
     "data": {
      "text/plain": [
       "0.8084073014150261"
      ]
     },
     "execution_count": 29,
     "metadata": {},
     "output_type": "execute_result"
    }
   ],
   "source": [
    "domestic_direction(feed.gdata['21-Oct-2022'][0])"
   ]
  },
  {
   "cell_type": "code",
   "execution_count": 14,
   "id": "11e90f95-49f6-4a10-a166-3db58bf88098",
   "metadata": {},
   "outputs": [],
   "source": [
    "import pickle"
   ]
  },
  {
   "cell_type": "code",
   "execution_count": 15,
   "id": "c95866e2-fb0c-4540-9395-008e39d64f58",
   "metadata": {},
   "outputs": [],
   "source": [
    "# with open('../../temp_data/btfeed.pickle','wb') as f: pickle.dump(feed,f)"
   ]
  },
  {
   "cell_type": "code",
   "execution_count": 11,
   "id": "f93c402f-62b6-4518-be78-999cc546f2f2",
   "metadata": {},
   "outputs": [],
   "source": [
    "with open('../../temp_data/btfeed.pickle','rb') as f: feed=pickle.load(f)"
   ]
  },
  {
   "cell_type": "code",
   "execution_count": 23,
   "id": "d30e7a77-d7c9-4531-8990-102faa8f05cd",
   "metadata": {},
   "outputs": [],
   "source": [
    "gapbet=GapBet(direction=-1)"
   ]
  },
  {
   "cell_type": "code",
   "execution_count": 17,
   "id": "51966e37-f9c0-4a59-965e-c5b9a1bef3d9",
   "metadata": {},
   "outputs": [],
   "source": [
    "adamom=AdaMomCMOADF()"
   ]
  },
  {
   "cell_type": "code",
   "execution_count": 18,
   "id": "5d57f282-63cf-4353-8e64-9549e646b817",
   "metadata": {},
   "outputs": [],
   "source": [
    "import importlib\n",
    "import sys,os"
   ]
  },
  {
   "cell_type": "code",
   "execution_count": 14,
   "id": "9c889f01-e9db-4653-b8ea-f54e8f910371",
   "metadata": {},
   "outputs": [
    {
     "name": "stdout",
     "output_type": "stream",
     "text": [
      "importing Jupyter notebook from feed_env.ipynb\n"
     ]
    }
   ],
   "source": [
    "importlib.reload(sys.modules['feed_env'])\n",
    "from feed_env import Episode"
   ]
  },
  {
   "cell_type": "code",
   "execution_count": 14,
   "id": "c01aad11-6e06-4bb4-b83a-85b1640972a8",
   "metadata": {},
   "outputs": [
    {
     "name": "stdout",
     "output_type": "stream",
     "text": [
      "importing Jupyter notebook from backtest.ipynb\n"
     ]
    }
   ],
   "source": [
    "importlib.reload(sys.modules['backtest'])\n",
    "from backtest import Backtest"
   ]
  },
  {
   "cell_type": "code",
   "execution_count": 22,
   "id": "6502f41a-7546-495b-9f15-15d29c057a55",
   "metadata": {},
   "outputs": [
    {
     "name": "stdout",
     "output_type": "stream",
     "text": [
      "importing Jupyter notebook from rulestrats.ipynb\n"
     ]
    }
   ],
   "source": [
    "importlib.reload(sys.modules['rulestrats'])\n",
    "from rulestrats import AdaMomCMOADF,GapBet"
   ]
  },
  {
   "cell_type": "code",
   "execution_count": 16,
   "id": "a39e73b0-954d-490e-990f-3f1ac72a7a6a",
   "metadata": {},
   "outputs": [],
   "source": [
    "# def save_func(df): return(df.iloc[-1]['CMO_14'])"
   ]
  },
  {
   "cell_type": "code",
   "execution_count": 24,
   "id": "7fde12ee-eb14-4405-8e41-0a7ce44f132b",
   "metadata": {},
   "outputs": [],
   "source": [
    "bt=Backtest(feed,tickers=feed.tickers,add_features=False,target=.5,stop=.5,txcost=0.001,\n",
    "            loc_exit=True,scan=True,topk=3,deploy=True,save_dfs=True,\n",
    "            save_func=None)"
   ]
  },
  {
   "cell_type": "code",
   "execution_count": 27,
   "id": "bf4912c9-a523-4745-9bb5-28435865526e",
   "metadata": {},
   "outputs": [
    {
     "data": {
      "application/vnd.jupyter.widget-view+json": {
       "model_id": "51f828fc85c0467a8b7ad2cccc4b778a",
       "version_major": 2,
       "version_minor": 0
      },
      "text/plain": [
       "  0%|          | 0/3 [00:00<?, ?it/s]"
      ]
     },
     "metadata": {},
     "output_type": "display_data"
    },
    {
     "data": {
      "application/vnd.jupyter.widget-view+json": {
       "model_id": "e9d00b4486184d82a2c83c82be658b3d",
       "version_major": 2,
       "version_minor": 0
      },
      "text/plain": [
       "  0%|          | 0/3 [00:00<?, ?it/s]"
      ]
     },
     "metadata": {},
     "output_type": "display_data"
    },
    {
     "data": {
      "application/vnd.jupyter.widget-view+json": {
       "model_id": "1d8ca32d9d224a79b991b0d0224989c6",
       "version_major": 2,
       "version_minor": 0
      },
      "text/plain": [
       "0it [00:00, ?it/s]"
      ]
     },
     "metadata": {},
     "output_type": "display_data"
    },
    {
     "data": {
      "application/vnd.jupyter.widget-view+json": {
       "model_id": "aed8c39be161430c89f591448cf5d8d5",
       "version_major": 2,
       "version_minor": 0
      },
      "text/plain": [
       "  0%|          | 0/3 [00:00<?, ?it/s]"
      ]
     },
     "metadata": {},
     "output_type": "display_data"
    }
   ],
   "source": [
    "bt.run_all(tickers=feed.tickers,model=adamom,verbose=False)"
   ]
  },
  {
   "cell_type": "code",
   "execution_count": 28,
   "id": "a3dc5b45-bdf1-4255-91b2-0d16e7bdb015",
   "metadata": {},
   "outputs": [
    {
     "data": {
      "text/plain": [
       "{'NESTLEIND.NS': 0.8173776696842956,\n",
       " 'ULTRACEMCO.NS': -0.5695858653864828,\n",
       " 'NTPC.NS': -1.7962502197683683,\n",
       " 'DMART.NS': -0.014734645213544652,\n",
       " 'ADANITRANS.NS': -0.33599666635171693,\n",
       " 'KOTAKBANK.NS': 2.128687069220879}"
      ]
     },
     "execution_count": 28,
     "metadata": {},
     "output_type": "execute_result"
    }
   ],
   "source": [
    "bt.returns"
   ]
  },
  {
   "cell_type": "code",
   "execution_count": 21,
   "id": "c08c91c6-d3e5-432c-bf55-770b53a23058",
   "metadata": {},
   "outputs": [
    {
     "data": {
      "text/plain": [
       "{'NESTLEIND.NS': -2.8570876409569874,\n",
       " 'ULTRACEMCO.NS': -0.08909594517244862,\n",
       " 'NTPC.NS': 0.0,\n",
       " 'DMART.NS': 0.0,\n",
       " 'ADANITRANS.NS': 0.0,\n",
       " 'KOTAKBANK.NS': 0.0}"
      ]
     },
     "execution_count": 21,
     "metadata": {},
     "output_type": "execute_result"
    }
   ],
   "source": [
    "bt.returns"
   ]
  },
  {
   "cell_type": "code",
   "execution_count": null,
   "id": "4fa2b5c9-69ac-42ce-ab5a-f58f6a4e3cc5",
   "metadata": {
    "tags": []
   },
   "outputs": [],
   "source": [
    "# for i in range(10): \n",
    "#     dfD={'TCS.NS':feed.getDataN('TCS.NS',d='14-Oct-2022')}\n",
    "#     # print('entry',adamom.check_entry_batch(dfD))\n",
    "#     # adamom.regime='tr'\n",
    "#     # print('exit long tr',adamom.exit_predicate({'quant':1},dfD['TCS.NS']))\n",
    "#     # print('exit short tr',adamom.exit_predicate({'quant':-1},dfD['TCS.NS']))\n",
    "#     adamom.regime='mr'\n",
    "#     print(dfD['TCS.NS'].iloc[-1]['CMO_14'])\n",
    "#     print('exit long mr',adamom.exit_predicate({'quant':1},dfD['TCS.NS']))\n",
    "#     print('exit short mr',adamom.exit_predicate({'quant':-1},dfD['TCS.NS']))\n",
    "#     feed.step()"
   ]
  },
  {
   "cell_type": "code",
   "execution_count": null,
   "id": "205a037f-aa0a-4b2e-99f7-bf9d41d686d4",
   "metadata": {},
   "outputs": [],
   "source": [
    "feed.ndata"
   ]
  },
  {
   "cell_type": "code",
   "execution_count": null,
   "id": "35551367-ab39-478c-beaf-5bf9758c593b",
   "metadata": {},
   "outputs": [],
   "source": []
  }
 ],
 "metadata": {
  "kernelspec": {
   "display_name": "Python 3 (ipykernel)",
   "language": "python",
   "name": "python3"
  },
  "language_info": {
   "codemirror_mode": {
    "name": "ipython",
    "version": 3
   },
   "file_extension": ".py",
   "mimetype": "text/x-python",
   "name": "python",
   "nbconvert_exporter": "python",
   "pygments_lexer": "ipython3",
   "version": "3.8.12"
  }
 },
 "nbformat": 4,
 "nbformat_minor": 5
}
