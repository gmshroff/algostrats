{
 "cells": [
  {
   "cell_type": "code",
   "execution_count": 2,
   "metadata": {},
   "outputs": [],
   "source": [
    "import numpy as np"
   ]
  },
  {
   "cell_type": "markdown",
   "metadata": {},
   "source": [
    "# Compressing price/OHLC(V) series"
   ]
  },
  {
   "cell_type": "code",
   "execution_count": 39,
   "metadata": {},
   "outputs": [],
   "source": [
    "def compress_prices(prices,f,ret='ohlc'):\n",
    "    n=len(prices)\n",
    "    opens=[prices[i:i+f][0] for i in range(0,n,f)]\n",
    "    lows=[min(prices[i:i+f]) for i in range(0,n,f)]\n",
    "    highs=[max(prices[i:i+f]) for i in range(0,n,f)]\n",
    "    closes=[prices[i:i+f][-1] for i in range(0,n,f)]\n",
    "    if ret=='ohlc': return np.array([[o,h,l,c] for o,h,l,c in zip(opens,lows,highs,closes)])\n",
    "    else: return closes"
   ]
  },
  {
   "cell_type": "code",
   "execution_count": 40,
   "metadata": {},
   "outputs": [],
   "source": [
    "def compress_ohlc(prices,f):\n",
    "    n=len(prices)\n",
    "    opens=[prices[i:i+f][0][0] for i in range(0,n,f)]\n",
    "    lows=[min(prices[i:i+f][2]) for i in range(0,n,f)]\n",
    "    highs=[max(prices[i:i+f][1]) for i in range(0,n,f)]\n",
    "    closes=[prices[i:i+f][-1][3] for i in range(0,n,f)]\n",
    "    # return opens,lows,highs,closes\n",
    "    return np.array([[o,h,l,c] for o,h,l,c in zip(opens,lows,highs,closes)])"
   ]
  },
  {
   "cell_type": "markdown",
   "metadata": {},
   "source": [
    "# Features used in Fuzzy Rules"
   ]
  },
  {
   "cell_type": "code",
   "execution_count": 48,
   "metadata": {},
   "outputs": [],
   "source": [
    "def mva(prices,m,d=0):\n",
    "    n = len(prices)\n",
    "    mov_avg=sum(prices[n-m-d:n-d])/m\n",
    "    return mov_avg"
   ]
  },
  {
   "cell_type": "code",
   "execution_count": 50,
   "metadata": {},
   "outputs": [],
   "source": [
    "def mar(prices,m,n,d=0):\n",
    "    return np.log(mva(prices,m,d)/mva(prices,n,d))"
   ]
  },
  {
   "cell_type": "code",
   "execution_count": 1,
   "metadata": {},
   "outputs": [],
   "source": [
    "def res(prices,w=0):\n",
    "    if w>0: prices=np.array(prices[-w:-1])\n",
    "    else: prices=np.array(prices[:-1])\n",
    "    pks=[p for p,b,a in zip(prices,np.roll(prices,1),np.roll(prices,-1)) if p>b and p>a]\n",
    "    return max(pks)"
   ]
  },
  {
   "cell_type": "code",
   "execution_count": null,
   "metadata": {},
   "outputs": [],
   "source": [
    "def p_to_res(prices,w=0):\n",
    "    return np.log(prices[-1]/res(prices,w))"
   ]
  },
  {
   "cell_type": "code",
   "execution_count": 3,
   "metadata": {},
   "outputs": [],
   "source": [
    "def supp(prices,w=0):\n",
    "    if w>0: prices=np.array(prices[-w:-1])\n",
    "    else: prices=np.array(prices[:-1])\n",
    "    pks=[p for p,b,a in zip(prices,np.roll(prices,1),np.roll(prices,-1)) if p<b and p<a]\n",
    "    return min(pks)"
   ]
  },
  {
   "cell_type": "code",
   "execution_count": null,
   "metadata": {},
   "outputs": [],
   "source": [
    "def p_to_supp(prices,w=0):\n",
    "    return np.log(prices[-1]/supp(prices,w))"
   ]
  },
  {
   "cell_type": "code",
   "execution_count": null,
   "metadata": {},
   "outputs": [],
   "source": []
  }
 ],
 "metadata": {
  "kernelspec": {
   "display_name": "Python 3 (ipykernel)",
   "language": "python",
   "name": "python3"
  },
  "language_info": {
   "codemirror_mode": {
    "name": "ipython",
    "version": 3
   },
   "file_extension": ".py",
   "mimetype": "text/x-python",
   "name": "python",
   "nbconvert_exporter": "python",
   "pygments_lexer": "ipython3",
   "version": "3.8.12"
  }
 },
 "nbformat": 4,
 "nbformat_minor": 4
}
