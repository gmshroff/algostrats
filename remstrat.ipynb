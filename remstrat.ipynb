{
 "cells": [
  {
   "cell_type": "markdown",
   "id": "9490d059-d36e-4088-9c6f-123f74ffc25f",
   "metadata": {},
   "source": [
    "## Template for remote userid-based strategy"
   ]
  },
  {
   "cell_type": "code",
   "execution_count": 1,
   "id": "bb1270c8-fe70-439b-946e-6cd353dd218f",
   "metadata": {},
   "outputs": [],
   "source": [
    "import import_ipynb\n",
    "import pandas as pd\n",
    "import numpy as np\n",
    "import torch\n",
    "from datetime import datetime\n",
    "from datetime import datetime as dt\n",
    "from torch.utils.data import Dataset\n",
    "# from tqdm.notebook import tqdm\n",
    "from sklearn.preprocessing import StandardScaler\n",
    "import pickle"
   ]
  },
  {
   "cell_type": "code",
   "execution_count": 2,
   "id": "11dadd24-e563-40c3-8fb1-862f4cd68318",
   "metadata": {},
   "outputs": [],
   "source": [
    "import anvil.server"
   ]
  },
  {
   "cell_type": "code",
   "execution_count": 3,
   "id": "f3d9d7d3-335b-4842-96a5-970eccb3690d",
   "metadata": {},
   "outputs": [
    {
     "name": "stdout",
     "output_type": "stream",
     "text": [
      "Connecting to wss://anvil.works/uplink\n",
      "Anvil websocket open\n",
      "Connected to \"Default environment\" as SERVER\n"
     ]
    }
   ],
   "source": [
    "anvil.server.connect(\"STKYCIXUMGFV2CURGMCMOFUV-MBK5ZXFC4MCKYKOE\")"
   ]
  },
  {
   "cell_type": "code",
   "execution_count": 4,
   "id": "4aa30376",
   "metadata": {},
   "outputs": [],
   "source": [
    "from ipynb.fs.defs.rulestrats import MomStrat"
   ]
  },
  {
   "cell_type": "code",
   "execution_count": 5,
   "id": "736b582d",
   "metadata": {},
   "outputs": [],
   "source": [
    "MY_TICKERS=['TCS.NS','WIPRO.NS']"
   ]
  },
  {
   "cell_type": "code",
   "execution_count": 6,
   "id": "66526292-b3a8-40d7-9cec-e938dacef1f2",
   "metadata": {},
   "outputs": [],
   "source": [
    "def do_nothing(dfD):\n",
    "    empty={t:0 for t in dfD}\n",
    "    return empty,empty,empty\n",
    "def always_buy(dfD):\n",
    "    buy={t:1 for t in dfD}\n",
    "    empty={t:0 for t in dfD}\n",
    "    return buy,empty,empty\n",
    "def always_sell(dfD):\n",
    "    sell={t:-1 for t in dfD}\n",
    "    empty={t:0 for t in dfD}\n",
    "    return sell,empty,empty"
   ]
  },
  {
   "cell_type": "code",
   "execution_count": 7,
   "id": "dba59576",
   "metadata": {},
   "outputs": [
    {
     "data": {
      "text/plain": [
       "({'TCS.NS': 0, 'WIPRO.NS': 0},\n",
       " {'TCS.NS': 0, 'WIPRO.NS': 0},\n",
       " {'TCS.NS': 0, 'WIPRO.NS': 0})"
      ]
     },
     "execution_count": 7,
     "metadata": {},
     "output_type": "execute_result"
    }
   ],
   "source": [
    "do_nothing({'TCS.NS':0, 'WIPRO.NS':0})"
   ]
  },
  {
   "cell_type": "code",
   "execution_count": 8,
   "id": "25fa38f2",
   "metadata": {},
   "outputs": [],
   "source": [
    "momStrat=MomStrat()"
   ]
  },
  {
   "cell_type": "code",
   "execution_count": 9,
   "id": "e5b92fc8",
   "metadata": {},
   "outputs": [],
   "source": [
    "logL=[]"
   ]
  },
  {
   "cell_type": "code",
   "execution_count": 10,
   "id": "c3f9afdf-e543-45ae-b138-84e9acfeb424",
   "metadata": {},
   "outputs": [],
   "source": [
    "@anvil.server.callable\n",
    "def check_entry_batch_s0_at_a_dot_edu(dfD):\n",
    "    global momStrat,logL\n",
    "    dfDloc={}\n",
    "    for t in dfD.keys():\n",
    "        dfDloc[t]=pd.DataFrame(dfD[t])\n",
    "    logL+=[dfDloc]\n",
    "    return MomStrat.Check(momStrat,dfDloc)\n",
    "#     return always_buy(dfD)"
   ]
  },
  {
   "cell_type": "code",
   "execution_count": 11,
   "id": "c99e3489-0ef2-4aff-8168-f084b4ab4f31",
   "metadata": {},
   "outputs": [],
   "source": [
    "@anvil.server.callable\n",
    "def check_exit_batch_s0_at_a_dot_edu(dfD,posf):\n",
    "    global momStrat,logL\n",
    "    posloc=pd.DataFrame(posf)\n",
    "    dfDloc={}\n",
    "    for t in dfD.keys():\n",
    "        dfDloc[t]=pd.DataFrame(dfD[t])\n",
    "    posret=MomStrat.Exit(momStrat,dfDloc,posloc)\n",
    "    posr=posret.to_dict('records')\n",
    "    return posr"
   ]
  },
  {
   "cell_type": "code",
   "execution_count": 12,
   "id": "4a3633dc-c7cc-470e-8920-11fd596a6e8a",
   "metadata": {},
   "outputs": [],
   "source": [
    "@anvil.server.callable\n",
    "def exit_predicate_s0_at_a_dot_edu(pos,dR):\n",
    "    global momStrat,logL\n",
    "    df=pd.DataFrame(dR)\n",
    "    exit_met=momStrat.exit_predicate(pos,df)\n",
    "    return exit_met"
   ]
  },
  {
   "cell_type": "code",
   "execution_count": 13,
   "id": "5c3fc48f",
   "metadata": {},
   "outputs": [],
   "source": [
    "@anvil.server.callable\n",
    "def get_tickers_s0_at_a_dot_edu():\n",
    "    return MY_TICKERS"
   ]
  },
  {
   "cell_type": "code",
   "execution_count": 14,
   "id": "53c5783c",
   "metadata": {
    "collapsed": true,
    "jupyter": {
     "outputs_hidden": true
    },
    "tags": []
   },
   "outputs": [
    {
     "ename": "UplinkDisconnectedError",
     "evalue": "The uplink server for \"getRemStratErrors\" has been disconnected",
     "output_type": "error",
     "traceback": [
      "\u001b[0;31m---------------------------------------------------------------------------\u001b[0m",
      "\u001b[0;31mUplinkDisconnectedError\u001b[0m                   Traceback (most recent call last)",
      "\u001b[0;32m/var/folders/jz/466kbks91q3glsb0kx0kfwk80000gq/T/ipykernel_77848/2256273790.py\u001b[0m in \u001b[0;36m<module>\u001b[0;34m\u001b[0m\n\u001b[0;32m----> 1\u001b[0;31m \u001b[0manvil\u001b[0m\u001b[0;34m.\u001b[0m\u001b[0mserver\u001b[0m\u001b[0;34m.\u001b[0m\u001b[0mcall\u001b[0m\u001b[0;34m(\u001b[0m\u001b[0;34m'getRemStratErrors'\u001b[0m\u001b[0;34m,\u001b[0m\u001b[0;34m's0_at_a_dot_edu'\u001b[0m\u001b[0;34m)\u001b[0m\u001b[0;34m\u001b[0m\u001b[0;34m\u001b[0m\u001b[0m\n\u001b[0m",
      "\u001b[0;32m/opt/homebrew/Caskroom/miniforge/base/envs/py38/lib/python3.8/site-packages/anvil/server.py\u001b[0m in \u001b[0;36mcall\u001b[0;34m(fn_name, *args, **kwargs)\u001b[0m\n\u001b[1;32m    401\u001b[0m \u001b[0;32mdef\u001b[0m \u001b[0mcall\u001b[0m\u001b[0;34m(\u001b[0m\u001b[0mfn_name\u001b[0m\u001b[0;34m,\u001b[0m \u001b[0;34m*\u001b[0m\u001b[0margs\u001b[0m\u001b[0;34m,\u001b[0m \u001b[0;34m**\u001b[0m\u001b[0mkwargs\u001b[0m\u001b[0;34m)\u001b[0m\u001b[0;34m:\u001b[0m\u001b[0;34m\u001b[0m\u001b[0;34m\u001b[0m\u001b[0m\n\u001b[1;32m    402\u001b[0m     \u001b[0;32mtry\u001b[0m\u001b[0;34m:\u001b[0m\u001b[0;34m\u001b[0m\u001b[0;34m\u001b[0m\u001b[0m\n\u001b[0;32m--> 403\u001b[0;31m         \u001b[0;32mreturn\u001b[0m \u001b[0m_do_call\u001b[0m\u001b[0;34m(\u001b[0m\u001b[0margs\u001b[0m\u001b[0;34m,\u001b[0m \u001b[0mkwargs\u001b[0m\u001b[0;34m,\u001b[0m \u001b[0mfn_name\u001b[0m\u001b[0;34m=\u001b[0m\u001b[0mfn_name\u001b[0m\u001b[0;34m)\u001b[0m\u001b[0;34m\u001b[0m\u001b[0;34m\u001b[0m\u001b[0m\n\u001b[0m\u001b[1;32m    404\u001b[0m     \u001b[0;32mexcept\u001b[0m \u001b[0m_server\u001b[0m\u001b[0;34m.\u001b[0m\u001b[0mAnvilWrappedError\u001b[0m \u001b[0;32mas\u001b[0m \u001b[0me\u001b[0m\u001b[0;34m:\u001b[0m\u001b[0;34m\u001b[0m\u001b[0;34m\u001b[0m\u001b[0m\n\u001b[1;32m    405\u001b[0m         \u001b[0;31m# We need to re-raise here so that the right amount of traceback gets cut off by _report_exception\u001b[0m\u001b[0;34m\u001b[0m\u001b[0;34m\u001b[0m\u001b[0;34m\u001b[0m\u001b[0m\n",
      "\u001b[0;32m/opt/homebrew/Caskroom/miniforge/base/envs/py38/lib/python3.8/site-packages/anvil/server.py\u001b[0m in \u001b[0;36m_do_call\u001b[0;34m(args, kwargs, fn_name, live_object)\u001b[0m\n\u001b[1;32m    393\u001b[0m         \u001b[0;32mraise\u001b[0m \u001b[0mException\u001b[0m\u001b[0;34m(\u001b[0m\u001b[0;34m\"Anvil fatal error: \"\u001b[0m \u001b[0;34m+\u001b[0m \u001b[0mstr\u001b[0m\u001b[0;34m(\u001b[0m\u001b[0m_fatal_error\u001b[0m\u001b[0;34m)\u001b[0m\u001b[0;34m)\u001b[0m\u001b[0;34m\u001b[0m\u001b[0;34m\u001b[0m\u001b[0m\n\u001b[1;32m    394\u001b[0m \u001b[0;34m\u001b[0m\u001b[0m\n\u001b[0;32m--> 395\u001b[0;31m     \u001b[0;32mreturn\u001b[0m \u001b[0m_threaded_server\u001b[0m\u001b[0;34m.\u001b[0m\u001b[0mdo_call\u001b[0m\u001b[0;34m(\u001b[0m\u001b[0margs\u001b[0m\u001b[0;34m,\u001b[0m \u001b[0mkwargs\u001b[0m\u001b[0;34m,\u001b[0m \u001b[0mfn_name\u001b[0m\u001b[0;34m=\u001b[0m\u001b[0mfn_name\u001b[0m\u001b[0;34m,\u001b[0m \u001b[0mlive_object\u001b[0m\u001b[0;34m=\u001b[0m\u001b[0mlive_object\u001b[0m\u001b[0;34m)\u001b[0m\u001b[0;34m\u001b[0m\u001b[0;34m\u001b[0m\u001b[0m\n\u001b[0m\u001b[1;32m    396\u001b[0m \u001b[0;34m\u001b[0m\u001b[0m\n\u001b[1;32m    397\u001b[0m \u001b[0;34m\u001b[0m\u001b[0m\n",
      "\u001b[0;32m/opt/homebrew/Caskroom/miniforge/base/envs/py38/lib/python3.8/site-packages/anvil/_threaded_server.py\u001b[0m in \u001b[0;36mdo_call\u001b[0;34m(args, kwargs, fn_name, live_object)\u001b[0m\n\u001b[1;32m    421\u001b[0m     \u001b[0;32mif\u001b[0m \u001b[0;34m'error'\u001b[0m \u001b[0;32min\u001b[0m \u001b[0mr\u001b[0m\u001b[0;34m:\u001b[0m\u001b[0;34m\u001b[0m\u001b[0;34m\u001b[0m\u001b[0m\n\u001b[1;32m    422\u001b[0m         \u001b[0merror_from_server\u001b[0m \u001b[0;34m=\u001b[0m \u001b[0m_server\u001b[0m\u001b[0;34m.\u001b[0m\u001b[0m_deserialise_exception\u001b[0m\u001b[0;34m(\u001b[0m\u001b[0mr\u001b[0m\u001b[0;34m[\u001b[0m\u001b[0;34m\"error\"\u001b[0m\u001b[0;34m]\u001b[0m\u001b[0;34m)\u001b[0m\u001b[0;34m\u001b[0m\u001b[0;34m\u001b[0m\u001b[0m\n\u001b[0;32m--> 423\u001b[0;31m         \u001b[0;32mraise\u001b[0m \u001b[0merror_from_server\u001b[0m\u001b[0;34m\u001b[0m\u001b[0;34m\u001b[0m\u001b[0m\n\u001b[0m\u001b[1;32m    424\u001b[0m     \u001b[0;32melse\u001b[0m\u001b[0;34m:\u001b[0m\u001b[0;34m\u001b[0m\u001b[0;34m\u001b[0m\u001b[0m\n\u001b[1;32m    425\u001b[0m         \u001b[0;32mraise\u001b[0m \u001b[0mException\u001b[0m\u001b[0;34m(\u001b[0m\u001b[0;34m\"Bogus response from server: \"\u001b[0m \u001b[0;34m+\u001b[0m \u001b[0mrepr\u001b[0m\u001b[0;34m(\u001b[0m\u001b[0mr\u001b[0m\u001b[0;34m)\u001b[0m\u001b[0;34m)\u001b[0m\u001b[0;34m\u001b[0m\u001b[0;34m\u001b[0m\u001b[0m\n",
      "\u001b[0;31mUplinkDisconnectedError\u001b[0m: The uplink server for \"getRemStratErrors\" has been disconnected"
     ]
    }
   ],
   "source": [
    "# anvil.server.call('getRemStratErrors','s0_at_a_dot_edu')"
   ]
  },
  {
   "cell_type": "code",
   "execution_count": 27,
   "id": "1fe921ce",
   "metadata": {},
   "outputs": [
    {
     "data": {
      "text/plain": [
       "298"
      ]
     },
     "execution_count": 27,
     "metadata": {},
     "output_type": "execute_result"
    }
   ],
   "source": [
    "len(logL)"
   ]
  },
  {
   "cell_type": "code",
   "execution_count": 16,
   "id": "0ff4352c-d23c-4267-b02e-2a119e37dc34",
   "metadata": {},
   "outputs": [
    {
     "data": {
      "text/plain": [
       "(376, 1)"
      ]
     },
     "execution_count": 16,
     "metadata": {},
     "output_type": "execute_result"
    }
   ],
   "source": [
    "logL[0]['GRASIM.NS'].shape"
   ]
  },
  {
   "cell_type": "code",
   "execution_count": null,
   "id": "34155107-6c70-4d5a-a0c2-faa53b232d9f",
   "metadata": {},
   "outputs": [],
   "source": []
  }
 ],
 "metadata": {
  "kernelspec": {
   "display_name": "Python 3 (ipykernel)",
   "language": "python",
   "name": "python3"
  },
  "language_info": {
   "codemirror_mode": {
    "name": "ipython",
    "version": 3
   },
   "file_extension": ".py",
   "mimetype": "text/x-python",
   "name": "python",
   "nbconvert_exporter": "python",
   "pygments_lexer": "ipython3",
   "version": "3.8.12"
  }
 },
 "nbformat": 4,
 "nbformat_minor": 5
}
