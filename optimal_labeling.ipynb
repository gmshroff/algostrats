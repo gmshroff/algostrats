{
 "cells": [
  {
   "cell_type": "markdown",
   "id": "8168e619-06e0-48a8-b614-8bb3d854e1e6",
   "metadata": {},
   "source": [
    "# Computing Optimal Labels\n",
    "Backtesting a Always Buy/Sell Strategies to compute Optimal strategy for a day-ticker combination using MILP"
   ]
  },
  {
   "cell_type": "code",
   "execution_count": null,
   "id": "526024eb-64f7-4d6d-879a-cf7a5286fad6",
   "metadata": {},
   "outputs": [],
   "source": [
    "# !pip install import_ipynb --quiet\n",
    "# !pip install anvil-uplink --quiet\n",
    "# !pip install yfinance --quiet\n",
    "# !pip install pandas_ta --quiet\n",
    "# !pip install ipynb --quiet\n",
    "# !pip install rpyc --quiet\n",
    "# !pip install pulp"
   ]
  },
  {
   "cell_type": "code",
   "execution_count": null,
   "id": "7adafd0c-84d9-4ecd-9782-328a06119ee1",
   "metadata": {},
   "outputs": [],
   "source": [
    "# # pull files from Github\n",
    "# !git clone https://github.com/gmshroff/algostrats.git"
   ]
  },
  {
   "cell_type": "code",
   "execution_count": null,
   "id": "9094cdae-f2c2-4769-806a-f97ea40be2ce",
   "metadata": {},
   "outputs": [],
   "source": [
    "# %cd algostrats"
   ]
  },
  {
   "cell_type": "code",
   "execution_count": null,
   "id": "72040288-5059-4cdc-9558-21ebf2b86395",
   "metadata": {},
   "outputs": [],
   "source": [
    "# change to True if on colab\n",
    "colab=False"
   ]
  },
  {
   "cell_type": "code",
   "execution_count": null,
   "id": "0abacb72-0e8e-437c-b546-7389517972c0",
   "metadata": {},
   "outputs": [],
   "source": [
    "import pandas as pd\n",
    "import numpy as np\n",
    "import import_ipynb\n",
    "from backtest import Backtest\n",
    "from feeds import BackFeed,DataFeed\n",
    "from validation import Validate\n",
    "import pickle\n",
    "from itertools import product\n",
    "from tqdm.notebook import tqdm"
   ]
  },
  {
   "cell_type": "code",
   "execution_count": null,
   "id": "876a3d4a-a8ac-4e8c-bb8c-3e11101fe4a4",
   "metadata": {},
   "outputs": [],
   "source": [
    "from rulestrats import RuleStrat,do_nothing,always_buy,always_sell"
   ]
  },
  {
   "cell_type": "code",
   "execution_count": null,
   "id": "437a141c-13e2-491a-9c1e-891e261870f6",
   "metadata": {},
   "outputs": [],
   "source": [
    "from pulp_jobs import Jobs"
   ]
  },
  {
   "cell_type": "code",
   "execution_count": null,
   "id": "449d5b84-b234-4de1-9328-2dd70d338ffa",
   "metadata": {},
   "outputs": [],
   "source": [
    "import warnings\n",
    "warnings.simplefilter(\"ignore\")"
   ]
  },
  {
   "cell_type": "code",
   "execution_count": null,
   "id": "bbc35754-98b9-4057-ac9a-514a4fd5fc8d",
   "metadata": {},
   "outputs": [],
   "source": [
    "loadfeed=False\n",
    "savefeed=False\n",
    "synthetic=True"
   ]
  },
  {
   "cell_type": "markdown",
   "id": "25cda699-9818-4d20-9dcc-2ff23c4cc52c",
   "metadata": {},
   "source": [
    "Deterministic Strategy - 1 or -1"
   ]
  },
  {
   "cell_type": "code",
   "execution_count": null,
   "id": "13c439f6-ee0d-491b-9b98-b51634bac0d1",
   "metadata": {},
   "outputs": [],
   "source": [
    "class DetStrat(RuleStrat):\n",
    "    def __init__(self,action=0):\n",
    "        self.action=action\n",
    "        self.data_cols=['Close']\n",
    "        self.model_type='rule-based'\n",
    "        super().__init__()\n",
    "    def check_entry_batch(self,dfD):\n",
    "        if self.action==-1: return always_sell(dfD)\n",
    "        elif self.action==1: return always_buy(dfD)\n",
    "        else: return do_nothing(dfD)"
   ]
  },
  {
   "cell_type": "code",
   "execution_count": null,
   "id": "0742b6ae-da3c-4d24-a392-762ca2433314",
   "metadata": {},
   "outputs": [],
   "source": [
    "data=pd.read_csv('./capvol100.csv')"
   ]
  },
  {
   "cell_type": "code",
   "execution_count": null,
   "id": "87f1cb97-c120-45e8-b2f1-90e739766b85",
   "metadata": {},
   "outputs": [],
   "source": [
    "tickers=list(data.iloc[0:50]['ticker'].values)"
   ]
  },
  {
   "cell_type": "code",
   "execution_count": null,
   "id": "3d631e0b-8315-46d0-b418-152ad969c3ed",
   "metadata": {},
   "outputs": [],
   "source": [
    "if not loadfeed:\n",
    "    feed=BackFeed(tickers=tickers,nd=3,nw=1,synthetic=synthetic)\n",
    "    if savefeed: \n",
    "        with open('../../temp_data/feed.pickle','wb') as f: pickle.dump(feed,f)\n",
    "elif loadfeed:\n",
    "    with open('../../temp_data/feed.pickle','rb') as f: feed=pickle.load(f)"
   ]
  },
  {
   "cell_type": "markdown",
   "id": "b67c441f-371c-4c85-8287-78597e80ee49",
   "metadata": {},
   "source": [
    "Gather Data for Computing Optimal Strategies for a given Feed"
   ]
  },
  {
   "cell_type": "code",
   "execution_count": null,
   "id": "cb08d07a-f6c7-4878-8b2b-5107e2f58f91",
   "metadata": {},
   "outputs": [],
   "source": [
    "def assemble_backtests(feed,topk=3,actions=[-1,1],\n",
    "                       stops=[.01,.005,.02],\n",
    "                       targets=[.01,.005,.02]):\n",
    "    posD={}\n",
    "    print('Assembling backtests')\n",
    "    for (action,stop,target) in tqdm([c for c in product(actions,stops,targets)]):\n",
    "        detStrat=DetStrat(action)\n",
    "        bt=Backtest(feed,tickers=feed.tickers,add_features=True,target=target,stop=stop,txcost=0.001,\n",
    "                    loc_exit=True,scan=True,topk=3,deploy=False,save_dfs=False)\n",
    "        bt.run_all(tickers=feed.tickers,model=detStrat,verbose=False)\n",
    "        for t in bt.results:\n",
    "            if t not in posD: posD[t]={}\n",
    "            for d in bt.results[t]:\n",
    "                if d not in posD[t]: posD[t][d]=[]\n",
    "                max_r=0\n",
    "                max_e=0\n",
    "                for p in bt.results[t][d]['rew']:\n",
    "                    if p[1]>0 and (p[1]>max_r or p[0]>=max_e): \n",
    "                        posD[t][d]+=[(p[0],p[2],p[1],(p[0],action,stop,target,p[2],p[1]))]\n",
    "                        max_r,max_e=max(max_r,p[1]),max(max_e,p[2])\n",
    "    return posD"
   ]
  },
  {
   "cell_type": "code",
   "execution_count": null,
   "id": "2447c7d2-9637-4b94-abe6-a02886ed98c7",
   "metadata": {},
   "outputs": [],
   "source": [
    "def compute_optimal(posD):\n",
    "    optD={}\n",
    "    for t in posD:\n",
    "        if t not in optD: optD[t]={}\n",
    "        for d in posD[t]:\n",
    "            print(f'Computing optimal strategy for {t} on {d}')\n",
    "            jobs=Jobs()\n",
    "            for p in posD[t][d]:\n",
    "                jobs.add_job(p[0],p[1],p[2],p[3])\n",
    "            if jobs.k>0:\n",
    "                jobs.setup()\n",
    "                jobs.solve()\n",
    "                x=jobs.get_soln()\n",
    "                optD[t][d]=[j for i,j in enumerate(jobs.dL) if x[i]>0]\n",
    "            else: optD[t][d]=[]\n",
    "    [optD[t][d].sort(key=lambda x: x[0]) for t in optD for d in optD[t]]\n",
    "    optR={t+' '+d:(lambda x: sum(x) if len(x)>0 else 0)([o[5] for o in optD[t][d]]) for t in optD for d in optD[t]}\n",
    "    return optD,optR"
   ]
  },
  {
   "cell_type": "code",
   "execution_count": null,
   "id": "36fae416-425d-4550-8626-0b966830eac8",
   "metadata": {},
   "outputs": [],
   "source": [
    "loadposD=False"
   ]
  },
  {
   "cell_type": "code",
   "execution_count": null,
   "id": "2c8d4053-6db5-4e63-ba10-62830e4d086e",
   "metadata": {},
   "outputs": [],
   "source": [
    "if loadposD: \n",
    "    with open('../../temp_data/posD.pickle','rb') as f: posD=pickle.load(f)\n",
    "else: \n",
    "    posD=assemble_backtests(feed)\n",
    "    with open('../../temp_data/posD.pickle','wb') as f: pickle.dump(posD,f)"
   ]
  },
  {
   "cell_type": "code",
   "execution_count": null,
   "id": "a2a8a7e7-0194-4a03-8d89-20de53462458",
   "metadata": {},
   "outputs": [],
   "source": [
    "optD,optR=compute_optimal(posD)"
   ]
  },
  {
   "cell_type": "code",
   "execution_count": null,
   "id": "ae725b92-83f4-47d3-aeb9-a77ed566cc0b",
   "metadata": {
    "tags": []
   },
   "outputs": [],
   "source": [
    "optD,optR"
   ]
  },
  {
   "cell_type": "code",
   "execution_count": null,
   "id": "e363fbee-e72c-44f1-b938-b00b6b48afba",
   "metadata": {
    "tags": []
   },
   "outputs": [],
   "source": [
    "optD"
   ]
  },
  {
   "cell_type": "markdown",
   "id": "06f33c76-87ae-42b8-b4b7-71efa271d2e7",
   "metadata": {},
   "source": [
    "## Trading Plots of Optimal Strategy"
   ]
  },
  {
   "cell_type": "code",
   "execution_count": null,
   "id": "900c1c03-c40a-49e7-b243-136c867bc193",
   "metadata": {},
   "outputs": [],
   "source": [
    "import plotly.graph_objects as go"
   ]
  },
  {
   "cell_type": "code",
   "execution_count": null,
   "id": "0e963a70-1642-49ad-bd5c-907c1df6fb15",
   "metadata": {},
   "outputs": [],
   "source": [
    "import plotly.express as px"
   ]
  },
  {
   "cell_type": "code",
   "execution_count": null,
   "id": "2dab6411-3b8e-4631-9a06-f43be4721bae",
   "metadata": {},
   "outputs": [],
   "source": [
    "def annotate_action(rew,act,df):\n",
    "    if rew[1]>=0:color='Green'\n",
    "    else: color='Red'\n",
    "    if act[0]==1:text='Buy'\n",
    "    elif act[0]==-1:text='Sell'\n",
    "    ann=dict(font=dict(color=color,size=15),x=df.index[rew[0]],y=df.iloc[rew[0]]['Close'],\n",
    "             showarrow=True,text=text)\n",
    "    return ann"
   ]
  },
  {
   "cell_type": "code",
   "execution_count": null,
   "id": "fecc2e65-c76f-471e-bbe1-9b402dae0757",
   "metadata": {},
   "outputs": [],
   "source": [
    "def annotate_exit(rew,act,anns,df):\n",
    "    if rew[1]>=0:color='Green'\n",
    "    else: color='Red'\n",
    "    X=[a['x'] for a in anns if a is not None]\n",
    "    if df.index[rew[2]] in X: \n",
    "        idx=X.index(df.index[rew[2]])\n",
    "        anns[idx]['text']='Ex&'+anns[idx]['text']\n",
    "    else:\n",
    "        anns+=[dict(font=dict(color=color,size=15),x=df.index[rew[2]],y=df.iloc[rew[2]]['Close'],\n",
    "                    showarrow=True,text='Exit')]"
   ]
  },
  {
   "cell_type": "code",
   "execution_count": null,
   "id": "b6e9d9c1-6fdd-47b7-b7fd-38c9bfae5e39",
   "metadata": {},
   "outputs": [],
   "source": [
    "def plot_ticker_date(optD,ticker,date):\n",
    "    global fig\n",
    "    df=feed.ndata[ticker][date]\n",
    "    df=df.loc[df['Date']==date]\n",
    "    fig = go.Figure(data=\n",
    "        [go.Candlestick(x = df.index,\n",
    "                        open  = df[\"Open\"],\n",
    "                        high  = df[\"High\"],\n",
    "                        low   = df[\"Low\"],\n",
    "                        close = df[\"Close\"])]\n",
    "    )\n",
    "    # reward=np.round(bt.results[ticker][date][\"tot\"],2)\n",
    "    reward=(lambda x: sum(x) if len(x)>0 else 0)([o[5] for o in optD[ticker][date]])\n",
    "    fig.update_layout(\n",
    "        title=f'{ticker} on {date} return {reward}',\n",
    "        yaxis_title=\"Price\"\n",
    "    )\n",
    "    anns=[]\n",
    "    for s,a,_,_,e,r in optD[ticker][date]:\n",
    "        anns+=[annotate_action((s,r,e),(a,s),df)]\n",
    "    for s,a,_,_,e,r in optD[ticker][date]:\n",
    "        anns+=[annotate_exit((s,r,e),(a,s),anns,df)]\n",
    "    \n",
    "    # for r,a in zip(bt.results[ticker][date]['rew'],bt.results[ticker][date]['acts']):\n",
    "    #     anns+=[annotate_action(r,a,df)]\n",
    "    # for r,a in zip(bt.results[ticker][date]['rew'],bt.results[ticker][date]['acts']):\n",
    "    #     anns+=[annotate_exit(r,a,anns,df)]\n",
    "    for a in anns: \n",
    "        if a is not None: fig.add_annotation(a)\n",
    "    fig.show()\n",
    "    return fig"
   ]
  },
  {
   "cell_type": "code",
   "execution_count": null,
   "id": "5e44cdb1-80d9-424f-bc82-395bbf8fb641",
   "metadata": {},
   "outputs": [],
   "source": [
    "def combine_plotly_figs_to_html(plotly_figs, html_fname, include_plotlyjs='cdn', \n",
    "                                separator=None, auto_open=False):\n",
    "    with open(html_fname, 'w') as f:\n",
    "        f.write(plotly_figs[0].to_html(include_plotlyjs=include_plotlyjs))\n",
    "        for fig in plotly_figs[1:]:\n",
    "            if separator:\n",
    "                f.write(separator)\n",
    "            f.write(fig.to_html(full_html=False, include_plotlyjs=False))\n",
    "\n",
    "    if auto_open:\n",
    "        import pathlib, webbrowser\n",
    "        uri = pathlib.Path(html_fname).absolute().as_uri()\n",
    "        webbrowser.open(uri)"
   ]
  },
  {
   "cell_type": "code",
   "execution_count": null,
   "id": "a3ab5f21-e730-4958-9a51-438dda5d8764",
   "metadata": {
    "tags": []
   },
   "outputs": [],
   "source": [
    "figs=[]\n",
    "for t in optD:\n",
    "    for d in optD[t]:\n",
    "        figs+=[plot_ticker_date(optD,t,d)]"
   ]
  },
  {
   "cell_type": "code",
   "execution_count": null,
   "id": "ad7b9f51-d882-4556-beae-f02960455417",
   "metadata": {},
   "outputs": [],
   "source": [
    "# # upload kaggle.json\n",
    "# from google.colab import files\n",
    "# uploaded=files.upload()"
   ]
  },
  {
   "cell_type": "code",
   "execution_count": null,
   "id": "f1c6c247-a7e4-4d63-a6cf-7512bc5ead5b",
   "metadata": {},
   "outputs": [],
   "source": [
    "# !mkdir /root/.kaggle\n",
    "# !mv ./kaggle.json /root/.kaggle/.\n",
    "# !chmod 600 /root/.kaggle/kaggle.json"
   ]
  },
  {
   "cell_type": "code",
   "execution_count": null,
   "id": "9e108961-6918-4557-a69e-4f50114b0cee",
   "metadata": {},
   "outputs": [],
   "source": [
    "# %mkdir data\n",
    "# %cd data\n",
    "# !kaggle datasets download -d gmshroff/marketdatafivemin\n",
    "# !unzip marketdatafivemin.zip\n",
    "# %cd .."
   ]
  },
  {
   "cell_type": "code",
   "execution_count": null,
   "id": "4e98851e-d7ed-4c7a-89ff-5382091368cc",
   "metadata": {},
   "outputs": [],
   "source": [
    "# DATAFILE='augdata_16-Dec-2022_5m.csv'\n",
    "# if not colab: DATAPATH='~/DataLocal/algo_fin_new/five_min_data/'\n",
    "# else: DATAPATH='./data/'\n",
    "# df=pd.read_csv(DATAPATH+DATAFILE)"
   ]
  },
  {
   "cell_type": "code",
   "execution_count": null,
   "id": "be25c5c5-a944-4c06-8b85-1bdaac461d80",
   "metadata": {
    "tags": []
   },
   "outputs": [],
   "source": [
    "# dataFeed=DataFeed(tickers=list(df.ticker.unique()[0:50]),dfgiven=True,df=df)"
   ]
  },
  {
   "cell_type": "code",
   "execution_count": null,
   "id": "9c32a98d-a6be-4147-b5e3-b64e0b8c2ac2",
   "metadata": {
    "tags": []
   },
   "outputs": [],
   "source": [
    "# bt=Backtest(dataFeed,tickers=dataFeed.tickers,target=.05,stop=.01,txcost=0.001,\n",
    "#             loc_exit=True,scan=True,topk=3,deploy=True)"
   ]
  },
  {
   "cell_type": "code",
   "execution_count": null,
   "id": "cc1de9cb-3332-4eb5-9ff2-5f4a46ebdb3d",
   "metadata": {},
   "outputs": [],
   "source": [
    "# bt.run_all(tickers=dataFeed.tickers,model=momStrat)"
   ]
  },
  {
   "cell_type": "code",
   "execution_count": null,
   "id": "4e27fb95-3f5b-43ce-8c9b-779c2727a63b",
   "metadata": {
    "tags": []
   },
   "outputs": [],
   "source": [
    "# bt.results"
   ]
  },
  {
   "cell_type": "code",
   "execution_count": null,
   "id": "cdb94940-2c1a-4907-9804-9c7bc7ca95f4",
   "metadata": {},
   "outputs": [],
   "source": [
    "# bt.returns"
   ]
  },
  {
   "cell_type": "markdown",
   "id": "89991402-1831-42a5-b328-5792d425cfdf",
   "metadata": {},
   "source": [
    "Experiments"
   ]
  },
  {
   "cell_type": "code",
   "execution_count": null,
   "id": "4d6157e7-2cf5-44a8-bd22-cb39f117ec9a",
   "metadata": {},
   "outputs": [],
   "source": []
  }
 ],
 "metadata": {
  "kernelspec": {
   "display_name": "Python 3 (ipykernel)",
   "language": "python",
   "name": "python3"
  },
  "language_info": {
   "codemirror_mode": {
    "name": "ipython",
    "version": 3
   },
   "file_extension": ".py",
   "mimetype": "text/x-python",
   "name": "python",
   "nbconvert_exporter": "python",
   "pygments_lexer": "ipython3",
   "version": "3.8.12"
  }
 },
 "nbformat": 4,
 "nbformat_minor": 5
}
