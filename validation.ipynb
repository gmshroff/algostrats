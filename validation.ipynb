{
 "cells": [
  {
   "cell_type": "code",
   "execution_count": 1,
   "id": "89ee0770-d23c-493a-877c-52dc8b9960ae",
   "metadata": {},
   "outputs": [],
   "source": [
    "import random\n",
    "import anvil.server"
   ]
  },
  {
   "cell_type": "code",
   "execution_count": 1,
   "id": "e141d7fd-76e2-4a2f-89fa-4df0ca90d996",
   "metadata": {},
   "outputs": [],
   "source": [
    "class Validate():\n",
    "    def __init__(self,feed=None,verbose=True):\n",
    "        self.dfD={}\n",
    "        self.verbose=verbose\n",
    "        self.feed=feed\n",
    "        if feed!=None:\n",
    "            n=random.randint(3,10)\n",
    "            t=random.randint(5,10)\n",
    "            feed.init_counters()\n",
    "            for j in range(t): feed.step()\n",
    "            di=random.randint(0,len(feed.dates)-1)\n",
    "            for i in range(n):\n",
    "                ti=random.randint(0,len(feed.tickers)-1)\n",
    "                self.dfD[feed.tickers[ti]]=feed.getDataN(feed.tickers[ti],feed.dates[di])\n",
    "    def remote_check_entry_batch(dfD,rpcname):\n",
    "        if self.feed==None: return [{}]\n",
    "        # c = rpyc.connect(\"localhost\", 18861)\n",
    "        dfR={}\n",
    "        for t in dfD.keys():\n",
    "            dfR[t]=dfD[t].to_dict('records')\n",
    "        return anvil.server.call('check_entry_batch_'+rpcname,dfR)\n",
    "        # return c.root.check_entry(pickle.dumps(dfR),rpcname)       \n",
    "    def validate(self,rpcname=None,retval=None,dfD=None):\n",
    "        if dfD==None: dfD=self.dfD\n",
    "        if rpcname!=None: retval=Validate.remote_check_entry_batch(dfD,rpcname)\n",
    "        if type(retval)!=list: return('must return list')\n",
    "        elif len(retval)!=3: return('must return list of three dictionaries')\n",
    "        elif False in [type(le)==dict for le in retval]:\n",
    "            msg='must return list of dictionaries'\n",
    "            if self.verbose: print(msg)\n",
    "            return -1,msg\n",
    "        elif False in [k in dfD for le in retval for k in le]:\n",
    "            msg='dictionary keys must be in input'\n",
    "            if self.verbose:print(msg)\n",
    "            return -1,msg\n",
    "        elif False in [type(le[k])==int for le in retval for k in le]:\n",
    "            msg='values must be integers'\n",
    "            if self.verbose: print(msg)\n",
    "            return -1,msg\n",
    "        elif False in [k in retval[i] for k in dfD for i in range(3)]:\n",
    "            msg='quant,stop and target must be returned for each ticker in dfD'\n",
    "            if self.verbose: print(msg) \n",
    "            return -1,msg\n",
    "        else: \n",
    "            msg='valid return from remote call'\n",
    "            if self.verbose: print(msg)\n",
    "            return 0,msg"
   ]
  },
  {
   "cell_type": "code",
   "execution_count": null,
   "id": "d461a2f8-642f-49dd-94f1-eaf20b9174f8",
   "metadata": {},
   "outputs": [],
   "source": []
  }
 ],
 "metadata": {
  "kernelspec": {
   "display_name": "Python 3 (ipykernel)",
   "language": "python",
   "name": "python3"
  },
  "language_info": {
   "codemirror_mode": {
    "name": "ipython",
    "version": 3
   },
   "file_extension": ".py",
   "mimetype": "text/x-python",
   "name": "python",
   "nbconvert_exporter": "python",
   "pygments_lexer": "ipython3",
   "version": "3.8.12"
  }
 },
 "nbformat": 4,
 "nbformat_minor": 5
}
