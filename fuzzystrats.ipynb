{
 "cells": [
  {
   "cell_type": "code",
   "execution_count": null,
   "id": "d7889ded-dd8c-4c73-aadd-687cf98ddbb0",
   "metadata": {},
   "outputs": [],
   "source": [
    "import import_ipynb\n",
    "import pandas as pd\n",
    "import numpy as np\n",
    "import torch\n",
    "from datetime import datetime\n",
    "from datetime import datetime as dt\n",
    "import pickle\n",
    "import anvil.server"
   ]
  },
  {
   "cell_type": "code",
   "execution_count": null,
   "id": "696c7465-65a9-4adc-93a1-4a3a39bf7cdb",
   "metadata": {},
   "outputs": [],
   "source": [
    "from featfuncs import feat_aug,add_addl_features_feed,add_ta_features_feed,add_sym_feature_feed\n",
    "from feeds import BackFeed,DataFeed"
   ]
  },
  {
   "cell_type": "code",
   "execution_count": null,
   "id": "00789f96-6998-4b54-93c2-1b593ff2a556",
   "metadata": {},
   "outputs": [],
   "source": [
    "import fuzzy\n",
    "from fuzzyrules import rule1_ed,rule2_ed,exit1_long_ed,exit1_short_ed"
   ]
  },
  {
   "cell_type": "code",
   "execution_count": null,
   "id": "60e90844-5b84-45c2-a37a-9d8741cc98ae",
   "metadata": {},
   "outputs": [],
   "source": [
    "def do_nothing(dfD):\n",
    "    empty={t:0 for t in dfD}\n",
    "    return empty,empty,empty\n",
    "def always_buy(dfD):\n",
    "    buy={t:1 for t in dfD}\n",
    "    empty={t:0 for t in dfD}\n",
    "    return buy,empty,empty\n",
    "def always_sell(dfD):\n",
    "    sell={t:-1 for t in dfD}\n",
    "    empty={t:0 for t in dfD}\n",
    "    return sell,empty,empty"
   ]
  },
  {
   "cell_type": "code",
   "execution_count": 1,
   "id": "d6fdbe1a-941d-4e6f-acf7-b84fa8493eb9",
   "metadata": {},
   "outputs": [],
   "source": [
    "class FuzzyStrat():\n",
    "    def __init__(self,factor=1):\n",
    "        self.fuz=fuzzy.Fuzzy()\n",
    "        self.rules=[]\n",
    "        self.exit_long_rules=[]\n",
    "        self.exit_short_rules=[]\n",
    "        self.model_type='fuzzy_rule_based'\n",
    "        self.data_cols=['Close_n','datetime']\n",
    "        self.factor=factor\n",
    "        self.logL=[]\n",
    "        self.add_rule('Rule1',rule1_ed,kwargs={'ifscale':.25,'thscale':1.0})\n",
    "        self.add_rule('Exit1Long',exit1_long_ed,kwargs={'ifscale':.25,'thscale':1.0})\n",
    "        self.add_rule('Exit1Short',exit1_short_ed,kwargs={'ifscale':.25,'thscale':1.0})\n",
    "    def add_rule(self,name,rulef,kwargs={},weight=1,buy=1.13,sell=.89):\n",
    "        self.rules+=[{'name':name,'func':rulef,'kwargs':kwargs,\n",
    "                      'weight':weight,'buy':buy,'sell':sell}]\n",
    "    def add_exit_long_rule(self,name,rulef,kwargs={},weight=1,buy=1,sell=.816):\n",
    "        self.exit_long_rules+=[{'name':name,'func':rulef,'kwargs':kwargs,\n",
    "                      'weight':weight,'buy':buy,'sell':sell}]\n",
    "    def add_exit_short_rule(self,name,rulef,kwargs={},weight=1,buy=1.223,sell=1):\n",
    "        self.exit_short_rules+=[{'name':name,'func':rulef,'kwargs':kwargs,\n",
    "                      'weight':weight,'buy':buy,'sell':sell}]\n",
    "    def check_entry_batch(self,dfD):\n",
    "        decisionsD={t:0 for t in dfD}\n",
    "        stopD={t:0 for t in dfD}\n",
    "        targetD={t:0 for t in dfD}\n",
    "        log_entry={}\n",
    "        for t in dfD.keys():\n",
    "            data=dfD[t]\n",
    "            if data.shape[0]>2:\n",
    "                r=data['Close_n'].values\n",
    "                if self.factor>1: r=features.compress_prices(r,self.factor,ret='prices')\n",
    "                ed,buy,sell=0,0,0\n",
    "                for rule in self.rules:\n",
    "                     ed+=rule['weight']*np.exp(rule['func'](r,self.fuz,**rule['kwargs']))\n",
    "                     buy+=rule['buy']*rule['weight']\n",
    "                     sell+=rule['sell']*rule['weight']\n",
    "                if ed>buy or ed<sell: \n",
    "                    self.logL+=[(ed,dfD)]\n",
    "                    # print(ed,buy,sell,np.sign(ed-1))\n",
    "                    decisionsD[t]=np.sign(ed-1)\n",
    "        return decisionsD,stopD,targetD#,ed\n",
    "    def check_exit_batch(self,dfD,posf):\n",
    "        def exit_fn(row):\n",
    "            return self.exit_predicate(row,dfD[row.ticker])\n",
    "        posf['to_exit']=posf.apply(exit_fn,axis=1).values\n",
    "        return posf\n",
    "    def exit_predicate(self,row,df):\n",
    "        r=df['Close_n'].values\n",
    "        if self.factor>1: r=features.compress_prices(r,self.factor,ret='prices')\n",
    "        ed,exbuy,exsell=0,0,0\n",
    "        if row['quant']>0:\n",
    "            for rule in self.exit_long_rules:\n",
    "                rv=np.exp(rule['func'](r,self.fuz,**rule['kwargs']))\n",
    "                ed+=rule['weight']*rv\n",
    "                exsell+=rule['sell']*rule['weight']\n",
    "            # print(row['quant'],rv,features.mar(r,m=2,n=5),ed,exbuy,exsell)\n",
    "            if ed<exsell:\n",
    "                # print('exiting long',row['quant'],ed,exbuy,exsell)\n",
    "                return True\n",
    "        elif row['quant']<0:\n",
    "            for rule in self.exit_short_rules:\n",
    "                rv=np.exp(rule['func'](r,self.fuz,**rule['kwargs']))\n",
    "                ed+=rule['weight']*rv\n",
    "                exbuy+=rule['buy']*rule['weight']\n",
    "            # print(row['quant'],rv,features.mar(r,m=2,n=5),ed,exbuy,exsell)\n",
    "            if ed<exsell:\n",
    "                # print('exiting long',row['quant'],ed,exbuy,exsell)\n",
    "                return True\n",
    "        else: return False\n",
    "    def Check(strat,dfD):\n",
    "        return strat.check_entry_batch(dfD)\n",
    "    def Exit(strat,dfD,posf):\n",
    "        return strat.check_exit_batch(dfD,posf)"
   ]
  },
  {
   "cell_type": "code",
   "execution_count": null,
   "id": "1b285b6a-687b-4a88-b2b1-b0a9100d0b0f",
   "metadata": {
    "tags": []
   },
   "outputs": [],
   "source": [
    "@anvil.server.callable\n",
    "def check_entry_batch_f0_at_a_dot_edu(dfD):\n",
    "    global fuzStrat\n",
    "    dfDloc={}\n",
    "    for t in dfD.keys():\n",
    "        dfDloc[t]=pd.DataFrame(dfD[t])\n",
    "    return FuzzyStrat.Check(fuzStrat,dfDloc)"
   ]
  },
  {
   "cell_type": "code",
   "execution_count": null,
   "id": "e1cac41a-f277-4a55-8d9c-d4c0912fb00e",
   "metadata": {},
   "outputs": [],
   "source": [
    "@anvil.server.callable\n",
    "def check_exit_batch_f0_at_a_dot_edu(dfD,posf):\n",
    "    global fuzStrat\n",
    "    posloc=pd.DataFrame(posf)\n",
    "    dfDloc={}\n",
    "    for t in dfD.keys():\n",
    "        dfDloc[t]=pd.DataFrame(dfD[t])\n",
    "    return FuzzyStrat.Exit(fuzStrat,dfDloc,posloc)"
   ]
  },
  {
   "cell_type": "raw",
   "id": "e15dded7-6827-4303-9ccf-b491b8bf4285",
   "metadata": {},
   "source": [
    "Strategy Development: Fuzzy MACD"
   ]
  },
  {
   "cell_type": "raw",
   "id": "e0c4c7bb-37ff-482d-b7b6-f68b9778b1b5",
   "metadata": {},
   "source": [
    "fuzStrat=FuzzyStrat()"
   ]
  },
  {
   "cell_type": "raw",
   "id": "be1d4aa7-88f3-401a-b1e5-8aff97b9ea7f",
   "metadata": {},
   "source": [
    "fuzStrat.add_rule('Rule1',rule1_ed)"
   ]
  },
  {
   "cell_type": "raw",
   "id": "923b39e9-4c7f-4a04-9ef9-170ed0747fdd",
   "metadata": {},
   "source": [
    "fuzStrat.add_rule('Rule2',rule2_ed,kwargs={'w':10,'ifscale':.05},buy=1.01,sell=.99)"
   ]
  },
  {
   "cell_type": "raw",
   "id": "3ba97450-f849-42ee-858d-00677885ee1d",
   "metadata": {},
   "source": [
    "fuzStrat.rules"
   ]
  },
  {
   "cell_type": "raw",
   "id": "088c5199-376b-4a2e-8902-955dfbc07bb1",
   "metadata": {},
   "source": [
    "tickers=['TCS.NS']"
   ]
  },
  {
   "cell_type": "raw",
   "id": "d051dadd-1804-4c8b-8db6-c50693af4441",
   "metadata": {},
   "source": [
    "backFeed=BackFeed(tickers=tickers,nw=1,nd=2)"
   ]
  },
  {
   "cell_type": "raw",
   "id": "1a3ff0bc-b371-4570-bca7-5043bca5aa81",
   "metadata": {
    "tags": []
   },
   "source": [
    "add_addl_features_feed(feed=backFeed,tickers=tickers)"
   ]
  },
  {
   "cell_type": "raw",
   "id": "ae73c0fa-cff3-4db0-b293-00b9f9af6550",
   "metadata": {},
   "source": [
    "add_sym_feature_feed(feed=backFeed,tickers=tickers)"
   ]
  },
  {
   "cell_type": "raw",
   "id": "da3c4ada-6c1e-49e3-9ec2-32c0502718d4",
   "metadata": {
    "tags": []
   },
   "source": [
    "backFeed.init_counters()\n",
    "fuz=fuzzy.Fuzzy()\n",
    "r1L,r2L,rL,e2L=[],[],[],[]\n",
    "for s in range(100):\n",
    "    backFeed.step()\n",
    "    dfD={'TCS.NS':backFeed.getDataN('TCS.NS','21-Jul-2022')}\n",
    "    rL+=[dfD['TCS.NS']['Close_n'].values[-1]]\n",
    "    d2,_,_,e2=fuzStrat.check_entry_batch(dfD)\n",
    "    r2L+=[d2['TCS.NS']]\n",
    "    e2L+=[e2]"
   ]
  },
  {
   "cell_type": "raw",
   "id": "9eb18c10-7cf4-4b6f-8895-4b3e14ee5ef4",
   "metadata": {},
   "source": [
    "plt.plot(backFeed.data['TCS.NS']['Close_n'].values)"
   ]
  },
  {
   "cell_type": "raw",
   "id": "57c8066d-1eba-4f82-929c-36f966901efb",
   "metadata": {},
   "source": [
    "plt.plot(rL)"
   ]
  },
  {
   "cell_type": "raw",
   "id": "ee4e4811-eb20-4eca-a158-3f3c5776a5eb",
   "metadata": {
    "tags": []
   },
   "source": [
    "plt.plot(r2L)"
   ]
  },
  {
   "cell_type": "raw",
   "id": "0e88beb6-23e4-4927-b3e1-96eed91da837",
   "metadata": {},
   "source": [
    "plt.plot(r2L)"
   ]
  },
  {
   "cell_type": "raw",
   "id": "53fc5c24-43dc-4b8f-99d7-aaf67c1fbeaf",
   "metadata": {},
   "source": [
    "fuz=fuzzy.Fuzzy()"
   ]
  },
  {
   "cell_type": "raw",
   "id": "e8a3e9ae-e99d-44e5-b0a4-2f66eb0467a8",
   "metadata": {},
   "source": [
    "r=np.array(rL[:45])"
   ]
  },
  {
   "cell_type": "raw",
   "id": "311af31e-7b51-4e63-bd87-f8dcb87f0122",
   "metadata": {},
   "source": [
    "plt.plot(r)"
   ]
  },
  {
   "cell_type": "raw",
   "id": "b701d5d3-6cd7-4458-a3f2-44858595f0ef",
   "metadata": {},
   "source": [
    "rule2_ed(r[:45],fuz)"
   ]
  },
  {
   "cell_type": "raw",
   "id": "79e85d29-a0d9-4316-9866-fffc0acc9e95",
   "metadata": {},
   "source": [
    "import features"
   ]
  },
  {
   "cell_type": "raw",
   "id": "cab9216c-f995-4094-b99c-e51759b5ab2f",
   "metadata": {},
   "source": [
    "features.p_to_res(r[0:45],w=10)"
   ]
  },
  {
   "cell_type": "raw",
   "id": "a8453765-7c2d-450d-ba2f-1dba05e5b52d",
   "metadata": {},
   "source": [
    "prices=r[0:45]\n",
    "w=15"
   ]
  },
  {
   "cell_type": "raw",
   "id": "8e1dafb7-1510-49de-bf4d-d65ff2eed27f",
   "metadata": {},
   "source": [
    "features.p_to_supp(prices,w)"
   ]
  },
  {
   "cell_type": "raw",
   "id": "59755cf5-84c2-433b-bf7b-8a62cee8b828",
   "metadata": {},
   "source": [
    "np.exp(.03)"
   ]
  },
  {
   "cell_type": "raw",
   "id": "e900d2a5-a9eb-4975-b1a7-eed84fca7c95",
   "metadata": {},
   "source": [
    "fuz.dblrule(features.p_to_supp(prices,w),features.p_to_res(prices,w),\n",
    "                   ['NL','NM','NS'],['BM','SB','SS'],['PS','PM','PL'],['BS','BB','SM'],\n",
    "           ifscale=.05)"
   ]
  },
  {
   "cell_type": "raw",
   "id": "220beb59-92ec-4812-a2f5-3c4848fff883",
   "metadata": {},
   "source": [
    "plt.plot(r2L)"
   ]
  },
  {
   "cell_type": "raw",
   "id": "e18d7464-1e63-4968-87ff-ad1ede702491",
   "metadata": {},
   "source": [
    "plt.plot(r)"
   ]
  },
  {
   "cell_type": "code",
   "execution_count": null,
   "id": "42692ec2-d6ec-4c8b-b7f5-8af325f40753",
   "metadata": {},
   "outputs": [],
   "source": []
  }
 ],
 "metadata": {
  "kernelspec": {
   "display_name": "Python 3 (ipykernel)",
   "language": "python",
   "name": "python3"
  },
  "language_info": {
   "codemirror_mode": {
    "name": "ipython",
    "version": 3
   },
   "file_extension": ".py",
   "mimetype": "text/x-python",
   "name": "python",
   "nbconvert_exporter": "python",
   "pygments_lexer": "ipython3",
   "version": "3.8.12"
  }
 },
 "nbformat": 4,
 "nbformat_minor": 5
}
