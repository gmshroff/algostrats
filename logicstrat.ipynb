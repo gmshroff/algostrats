{
 "cells": [
  {
   "cell_type": "markdown",
   "id": "55da4cc3-4f25-4ef6-ae60-9e37032f78db",
   "metadata": {},
   "source": [
    "## Logical predicates defined on financial (stock) time-series"
   ]
  },
  {
   "cell_type": "code",
   "execution_count": 15,
   "id": "642f809d-cfb8-4192-b007-82e39608d00a",
   "metadata": {},
   "outputs": [],
   "source": [
    "import import_ipynb\n",
    "import pandas as pd\n",
    "import numpy as np\n",
    "import torch\n",
    "from datetime import datetime\n",
    "from datetime import datetime as dt\n",
    "# from tqdm.notebook import tqdm\n",
    "import pickle"
   ]
  },
  {
   "cell_type": "code",
   "execution_count": 16,
   "id": "4afded69-01e3-4d92-98e9-7dcd0cb98852",
   "metadata": {},
   "outputs": [],
   "source": [
    "from pyswip import Prolog, registerForeign"
   ]
  },
  {
   "cell_type": "code",
   "execution_count": 17,
   "id": "ee14e999-e21e-48a9-a516-dd8880f8194d",
   "metadata": {},
   "outputs": [],
   "source": [
    "FEAT_COLS=['row_num','Open_n','High_n','Low_n','Close_n','Volume_n','VWAP_D',\n",
    "           'MOM_30','CMO_14','RSI_14']\n",
    "TO_SCALE=['Open_n','High_n','Low_n','Close_n','VWAP_D']"
   ]
  },
  {
   "cell_type": "code",
   "execution_count": 18,
   "id": "53904a06-e89c-4112-a611-20ded63970eb",
   "metadata": {},
   "outputs": [],
   "source": [
    "class LogicStrat():\n",
    "    def __init__(self):\n",
    "        self.logL=[]\n",
    "        self.model_type='logic-based'\n",
    "    def check_entry_batch(self,dfD):\n",
    "        stopD={t:0 for t in dfD}\n",
    "        targetD={t:0 for t in dfD}\n",
    "        decisionsD={}\n",
    "        self.logL+=[dfD]\n",
    "        for t in dfD:\n",
    "            decisionsD[t]=0\n",
    "        return decisionsD,stopD,targetD\n",
    "    def check_exit_batch(self,dfD,posf):\n",
    "        def exit_fn(row):\n",
    "            return self.exit_predicate(row,dfD[row.ticker])\n",
    "        posf['to_exit']=posf.apply(exit_fn,axis=1).values\n",
    "        return posf\n",
    "    def exit_predicate(self,row,df):\n",
    "        return False\n",
    "    def save_log(self,filename=None):\n",
    "        if filename==None: filename='../../temp_data/logicStratLog.pickle'\n",
    "        with open(filename,'wb') as f: pickle.dump(self.logL,f)\n",
    "    def load_log(self,filename=None):\n",
    "        if filename==None: filename='../../temp_data/logicStratLog.pickle'\n",
    "        with open(filename,'rb') as f: self.logL=pickle.load(f)"
   ]
  },
  {
   "cell_type": "code",
   "execution_count": null,
   "id": "c15f5476-2c58-43dd-ae58-b3c8c802456f",
   "metadata": {},
   "outputs": [],
   "source": []
  }
 ],
 "metadata": {
  "kernelspec": {
   "display_name": "Python 3 (ipykernel)",
   "language": "python",
   "name": "python3"
  },
  "language_info": {
   "codemirror_mode": {
    "name": "ipython",
    "version": 3
   },
   "file_extension": ".py",
   "mimetype": "text/x-python",
   "name": "python",
   "nbconvert_exporter": "python",
   "pygments_lexer": "ipython3",
   "version": "3.8.12"
  }
 },
 "nbformat": 4,
 "nbformat_minor": 5
}
