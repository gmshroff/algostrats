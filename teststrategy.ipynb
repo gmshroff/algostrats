{
 "cells": [
  {
   "cell_type": "markdown",
   "id": "8168e619-06e0-48a8-b614-8bb3d854e1e6",
   "metadata": {},
   "source": [
    "# Backtesting a Strategy"
   ]
  },
  {
   "cell_type": "code",
   "execution_count": null,
   "id": "526024eb-64f7-4d6d-879a-cf7a5286fad6",
   "metadata": {},
   "outputs": [],
   "source": [
    "!pip install import_ipynb --quiet\n",
    "!pip install anvil-uplink --quiet\n",
    "!pip install yfinance --quiet\n",
    "!pip install pandas_ta --quiet\n",
    "!pip install ipynb --quiet\n",
    "!pip install rpyc --quiet"
   ]
  },
  {
   "cell_type": "code",
   "execution_count": null,
   "id": "0e89aca0-5361-4ec4-8cc7-4f1fc6c95d68",
   "metadata": {},
   "outputs": [],
   "source": [
    "!pip install -q --upgrade --force-reinstall --no-deps kaggle"
   ]
  },
  {
   "cell_type": "code",
   "execution_count": 1,
   "id": "0abacb72-0e8e-437c-b546-7389517972c0",
   "metadata": {},
   "outputs": [
    {
     "name": "stdout",
     "output_type": "stream",
     "text": [
      "importing Jupyter notebook from backtest.ipynb\n",
      "importing Jupyter notebook from feeds.ipynb\n",
      "importing Jupyter notebook from featfuncs.ipynb\n",
      "importing Jupyter notebook from india_calendar.ipynb\n",
      "importing Jupyter notebook from feed_env.ipynb\n",
      "importing Jupyter notebook from validation.ipynb\n"
     ]
    }
   ],
   "source": [
    "import pandas as pd\n",
    "import numpy as np\n",
    "import import_ipynb\n",
    "from backtest import Backtest\n",
    "from feeds import BackFeed,DataFeed\n",
    "from validation import Validate"
   ]
  },
  {
   "cell_type": "code",
   "execution_count": null,
   "id": "7adafd0c-84d9-4ecd-9782-328a06119ee1",
   "metadata": {},
   "outputs": [],
   "source": [
    "# pull files from Github\n",
    "!git clone https://github.com/gmshroff/mlfin2022.git"
   ]
  },
  {
   "cell_type": "code",
   "execution_count": null,
   "id": "9094cdae-f2c2-4769-806a-f97ea40be2ce",
   "metadata": {},
   "outputs": [],
   "source": [
    "%cd mlfin2022/algostrats"
   ]
  },
  {
   "cell_type": "markdown",
   "id": "25cda699-9818-4d20-9dcc-2ff23c4cc52c",
   "metadata": {},
   "source": [
    "Import Strategy - replace with your own class or modify rulestrats"
   ]
  },
  {
   "cell_type": "code",
   "execution_count": null,
   "id": "1324a562-0870-4af8-be68-92bfa0406b88",
   "metadata": {},
   "outputs": [],
   "source": [
    "# upload rulestrats.ipynb and kaggle.json\n",
    "from google.colab import files\n",
    "uploaded=files.upload()"
   ]
  },
  {
   "cell_type": "code",
   "execution_count": null,
   "id": "5f389a5a-d422-43e7-8221-dc7bd30d4c3d",
   "metadata": {},
   "outputs": [],
   "source": [
    "!mkdir /root/.kaggle\n",
    "!mv ./kaggle.json /root/.kaggle/.\n",
    "!chmod 600 /root/.kaggle/kaggle.json\n",
    "!kaggle datasets download -d gmshroff/mlfin2022"
   ]
  },
  {
   "cell_type": "code",
   "execution_count": null,
   "id": "c7069f07-4496-494d-bd04-a8fe76422847",
   "metadata": {},
   "outputs": [],
   "source": [
    "!unzip mlfin2022.zip"
   ]
  },
  {
   "cell_type": "code",
   "execution_count": null,
   "id": "43bcb6f2-f5e9-42ed-81c9-4f18b0183ff7",
   "metadata": {},
   "outputs": [],
   "source": [
    "from rulestrats import MomStrat"
   ]
  },
  {
   "cell_type": "code",
   "execution_count": null,
   "id": "bf9e2989-f187-462b-8e24-5b3c0602dd98",
   "metadata": {},
   "outputs": [],
   "source": [
    "momStrat=MomStrat()"
   ]
  },
  {
   "cell_type": "code",
   "execution_count": 2,
   "id": "ba86584c-0947-467f-bc20-ec5b3861be47",
   "metadata": {},
   "outputs": [
    {
     "name": "stdout",
     "output_type": "stream",
     "text": [
      "importing Jupyter notebook from utils.ipynb\n",
      "importing Jupyter notebook from models.ipynb\n",
      "importing Jupyter notebook from genfuncs.ipynb\n",
      "importing Jupyter notebook from labelfuncs.ipynb\n"
     ]
    }
   ],
   "source": [
    "from ipynb.fs.defs.mlstrats import MLStrat,MLConfig,ConfigFields"
   ]
  },
  {
   "cell_type": "code",
   "execution_count": 3,
   "id": "da8afe2b-8ff7-4023-a08e-7fcc77b0b04d",
   "metadata": {},
   "outputs": [],
   "source": [
    "mlstrat=MLStrat()"
   ]
  },
  {
   "cell_type": "markdown",
   "id": "b67c441f-371c-4c85-8287-78597e80ee49",
   "metadata": {},
   "source": [
    "Using BackFeed"
   ]
  },
  {
   "cell_type": "code",
   "execution_count": null,
   "id": "0742b6ae-da3c-4d24-a392-762ca2433314",
   "metadata": {},
   "outputs": [],
   "source": [
    "data=pd.read_csv('./capvol100.csv')"
   ]
  },
  {
   "cell_type": "code",
   "execution_count": null,
   "id": "87f1cb97-c120-45e8-b2f1-90e739766b85",
   "metadata": {},
   "outputs": [],
   "source": [
    "tickers=list(data.iloc[0:10]['ticker'].values)"
   ]
  },
  {
   "cell_type": "code",
   "execution_count": null,
   "id": "3d631e0b-8315-46d0-b418-152ad969c3ed",
   "metadata": {},
   "outputs": [],
   "source": [
    "feed=BackFeed(tickers=tickers,nd=3,nw=1)"
   ]
  },
  {
   "cell_type": "code",
   "execution_count": null,
   "id": "11e90f95-49f6-4a10-a166-3db58bf88098",
   "metadata": {},
   "outputs": [],
   "source": [
    "import pickle"
   ]
  },
  {
   "cell_type": "code",
   "execution_count": null,
   "id": "c95866e2-fb0c-4540-9395-008e39d64f58",
   "metadata": {},
   "outputs": [],
   "source": [
    "# with open('../../temp_data/btfeed.pickle','wb') as f: pickle.dump(feed,f)"
   ]
  },
  {
   "cell_type": "code",
   "execution_count": null,
   "id": "f93c402f-62b6-4518-be78-999cc546f2f2",
   "metadata": {},
   "outputs": [],
   "source": [
    "with open('../../temp_data/btfeed.pickle','rb') as f: feed=pickle.load(f)"
   ]
  },
  {
   "cell_type": "code",
   "execution_count": null,
   "id": "7fde12ee-eb14-4405-8e41-0a7ce44f132b",
   "metadata": {},
   "outputs": [],
   "source": [
    "bt=Backtest(feed,tickers=feed.tickers,add_features=True,target=.05,stop=.01,txcost=0.001,\n",
    "            loc_exit=True,scan=True,topk=3,deploy=False,save_dfs=True)"
   ]
  },
  {
   "cell_type": "code",
   "execution_count": null,
   "id": "7f4cbf9d-3cfe-4842-b18a-7441ed3d7675",
   "metadata": {
    "tags": []
   },
   "outputs": [],
   "source": [
    "bt.run_all(tickers=feed.tickers,model=momStrat,verbose=False)"
   ]
  },
  {
   "cell_type": "code",
   "execution_count": null,
   "id": "b17e89aa-9373-44c3-8a7b-d7e4aa2d85ff",
   "metadata": {},
   "outputs": [],
   "source": [
    "bt.run_all(tickers=feed.tickers,model=mlstrat,verbose=False)"
   ]
  },
  {
   "cell_type": "code",
   "execution_count": null,
   "id": "43657626-6476-4ef3-a1d9-721f0ccc54ed",
   "metadata": {
    "tags": []
   },
   "outputs": [],
   "source": [
    "bt.returns"
   ]
  },
  {
   "cell_type": "markdown",
   "id": "1ca8d734-6dd1-4c6a-918a-11c77a7fbf33",
   "metadata": {},
   "source": [
    "Using DataFeed"
   ]
  },
  {
   "cell_type": "code",
   "execution_count": null,
   "id": "4e98851e-d7ed-4c7a-89ff-5382091368cc",
   "metadata": {},
   "outputs": [],
   "source": [
    "DATAFILE='./augdata_03-Jun-2022.csv'\n",
    "df=pd.read_csv(DATAFILE)"
   ]
  },
  {
   "cell_type": "code",
   "execution_count": null,
   "id": "be25c5c5-a944-4c06-8b85-1bdaac461d80",
   "metadata": {
    "tags": []
   },
   "outputs": [],
   "source": [
    "dataFeed=DataFeed(tickers=list(df.ticker.unique()[0:10]),dfgiven=True,df=df)"
   ]
  },
  {
   "cell_type": "code",
   "execution_count": null,
   "id": "9c32a98d-a6be-4147-b5e3-b64e0b8c2ac2",
   "metadata": {
    "tags": []
   },
   "outputs": [],
   "source": [
    "bt=Backtest(dataFeed,tickers=dataFeed.tickers,target=.05,stop=.01,txcost=0.001,\n",
    "            loc_exit=True,scan=True,topk=3,deploy=False)"
   ]
  },
  {
   "cell_type": "code",
   "execution_count": null,
   "id": "cc1de9cb-3332-4eb5-9ff2-5f4a46ebdb3d",
   "metadata": {},
   "outputs": [],
   "source": [
    "bt.run_all(tickers=dataFeed.tickers,model=momStrat)"
   ]
  },
  {
   "cell_type": "code",
   "execution_count": null,
   "id": "4e27fb95-3f5b-43ce-8c9b-779c2727a63b",
   "metadata": {
    "tags": []
   },
   "outputs": [],
   "source": [
    "bt.results"
   ]
  },
  {
   "cell_type": "code",
   "execution_count": null,
   "id": "cdb94940-2c1a-4907-9804-9c7bc7ca95f4",
   "metadata": {},
   "outputs": [],
   "source": [
    "bt.returns"
   ]
  },
  {
   "cell_type": "markdown",
   "id": "226a8983-9526-45c7-8b4b-3eb4dbff11a3",
   "metadata": {},
   "source": [
    "Getting additional data"
   ]
  },
  {
   "cell_type": "code",
   "execution_count": null,
   "id": "73a43d30-c636-414e-a04e-b3a7374d0a36",
   "metadata": {},
   "outputs": [],
   "source": [
    "from featfuncs import add_global_indices_feed"
   ]
  },
  {
   "cell_type": "code",
   "execution_count": null,
   "id": "9a17d72d-d8d2-4b32-8fcd-2b7f39e80321",
   "metadata": {},
   "outputs": [],
   "source": [
    "add_global_indices_feed(feed)"
   ]
  },
  {
   "cell_type": "code",
   "execution_count": null,
   "id": "eb4170c2-334d-47c7-b3ae-777007d31aad",
   "metadata": {},
   "outputs": [],
   "source": [
    "feed.gdata"
   ]
  },
  {
   "cell_type": "markdown",
   "id": "362b21ef-55a1-4183-808e-326fb4f2ccf7",
   "metadata": {},
   "source": [
    "Validating remote strategy functions"
   ]
  },
  {
   "cell_type": "code",
   "execution_count": null,
   "id": "899e7637-6d54-4061-b5ec-24a4d11ed3e9",
   "metadata": {
    "jupyter": {
     "source_hidden": true
    }
   },
   "outputs": [],
   "source": [
    "import anvil.server\n",
    "anvil.server.connect(\"STKYCIXUMGFV2CURGMCMOFUV-MBK5ZXFC4MCKYKOE\")"
   ]
  },
  {
   "cell_type": "code",
   "execution_count": null,
   "id": "fe387ef5-9e50-4921-9eb1-b4ddec67e6ae",
   "metadata": {
    "jupyter": {
     "source_hidden": true
    }
   },
   "outputs": [],
   "source": [
    "# Note - first do a backtest using a local strategy; this will also update the feed with\n",
    "# required features. Only then do remote validation. Else do the following first:\n",
    "from featfuncs import add_addl_features_feed,add_sym_feature_feed\n",
    "add_addl_features_feed(feed,tickers=feed.tickers)\n",
    "add_sym_feature_feed(feed,tickers=feed.tickers)"
   ]
  },
  {
   "cell_type": "code",
   "execution_count": null,
   "id": "27d6b4ac-4047-4abe-9f80-6daaf14716c0",
   "metadata": {
    "jupyter": {
     "source_hidden": true
    }
   },
   "outputs": [],
   "source": [
    "dfD={feed.tickers[i]:feed.getDataN(feed.tickers[i],feed.dates[0]) for i in range(4)}"
   ]
  },
  {
   "cell_type": "code",
   "execution_count": null,
   "id": "df7b80e0-2ac7-439d-ae8d-180810764b1f",
   "metadata": {
    "jupyter": {
     "source_hidden": true
    }
   },
   "outputs": [],
   "source": [
    "rpcname='s0_at_a_dot_edu'"
   ]
  },
  {
   "cell_type": "code",
   "execution_count": null,
   "id": "f6144b44-df3c-4506-ac91-b617850b1b63",
   "metadata": {
    "jupyter": {
     "source_hidden": true
    }
   },
   "outputs": [],
   "source": [
    "retval=Validate.remote_check_entry_batch(dfD,rpcname)"
   ]
  },
  {
   "cell_type": "code",
   "execution_count": null,
   "id": "ff0d6cac-bd35-475c-ae39-1220b7cf9200",
   "metadata": {
    "jupyter": {
     "source_hidden": true
    }
   },
   "outputs": [],
   "source": [
    "list(momStrat.check_entry_batch(dfD))"
   ]
  },
  {
   "cell_type": "code",
   "execution_count": null,
   "id": "3f5585c5-fad9-4e32-a9d8-cb0cdd58fda1",
   "metadata": {
    "jupyter": {
     "source_hidden": true
    }
   },
   "outputs": [],
   "source": [
    "Validate(verbose=False).validate(retval=list(momStrat.check_entry_batch(dfD)),dfD=dfD)"
   ]
  },
  {
   "cell_type": "code",
   "execution_count": null,
   "id": "703afd02-30e1-4231-b867-4a539fde5545",
   "metadata": {
    "jupyter": {
     "source_hidden": true
    }
   },
   "outputs": [],
   "source": [
    "retval=Validate(feed).validate(retval=retval,dfD=dfD)"
   ]
  },
  {
   "cell_type": "code",
   "execution_count": null,
   "id": "279c2e36-9ec6-496f-bc1c-814d51fd32e3",
   "metadata": {
    "jupyter": {
     "source_hidden": true
    }
   },
   "outputs": [],
   "source": [
    "retval1=retval.copy()\n",
    "retval1[0]={'MARUTI.NS': 'five', 'KOTAKBANK.NS': 5, 'NESTLEIND.NS': 5, 'COALINDIA.NS': 5}"
   ]
  },
  {
   "cell_type": "code",
   "execution_count": null,
   "id": "0c8407f6-3ed3-4d58-9a28-6fb53a78f301",
   "metadata": {
    "jupyter": {
     "source_hidden": true
    },
    "tags": []
   },
   "outputs": [],
   "source": [
    "Validate(feed).validate(retval=retval,dfD=dfD)"
   ]
  },
  {
   "cell_type": "markdown",
   "id": "684a03f1-2560-4365-9a15-f83b7569ad2a",
   "metadata": {},
   "source": [
    "Backtesting remote strategy"
   ]
  },
  {
   "cell_type": "code",
   "execution_count": null,
   "id": "fe6f9a1e-85d9-49d2-bb53-5f41ab654342",
   "metadata": {
    "jupyter": {
     "source_hidden": true
    },
    "tags": []
   },
   "outputs": [],
   "source": [
    "import anvil.server\n",
    "anvil.server.connect(\"STKYCIXUMGFV2CURGMCMOFUV-MBK5ZXFC4MCKYKOE\")"
   ]
  },
  {
   "cell_type": "code",
   "execution_count": null,
   "id": "a99e51c3-0bd2-433e-83a6-4273b20ebd0d",
   "metadata": {
    "jupyter": {
     "source_hidden": true
    },
    "tags": []
   },
   "outputs": [],
   "source": [
    "bt=Backtest(feed,tickers=feed.tickers,add_features=True,target=.05,stop=.01,txcost=0.001,\n",
    "            loc_exit=True,scan=True,topk=3,remote=True,\n",
    "            data_cols=momStrat.data_cols,rpcname='s0_at_a_dot_edu')"
   ]
  },
  {
   "cell_type": "code",
   "execution_count": null,
   "id": "79a3ed97-675c-41ac-8d5b-fe198cd8dfd9",
   "metadata": {
    "jupyter": {
     "source_hidden": true
    },
    "tags": []
   },
   "outputs": [],
   "source": [
    "bt.run_all(tickers=feed.tickers)"
   ]
  },
  {
   "cell_type": "code",
   "execution_count": null,
   "id": "a57aed7b-cccb-4a85-bd48-ec53d79f094a",
   "metadata": {
    "jupyter": {
     "source_hidden": true
    },
    "tags": []
   },
   "outputs": [],
   "source": [
    "bt.results"
   ]
  },
  {
   "cell_type": "code",
   "execution_count": null,
   "id": "a5708b57-1fc9-4b3a-a264-a10699ad3e40",
   "metadata": {
    "jupyter": {
     "source_hidden": true
    },
    "tags": []
   },
   "outputs": [],
   "source": [
    "bt.returns"
   ]
  },
  {
   "cell_type": "markdown",
   "id": "89991402-1831-42a5-b328-5792d425cfdf",
   "metadata": {},
   "source": [
    "Experiments"
   ]
  },
  {
   "cell_type": "code",
   "execution_count": null,
   "id": "4d6157e7-2cf5-44a8-bd22-cb39f117ec9a",
   "metadata": {},
   "outputs": [],
   "source": []
  }
 ],
 "metadata": {
  "kernelspec": {
   "display_name": "Python 3 (ipykernel)",
   "language": "python",
   "name": "python3"
  },
  "language_info": {
   "codemirror_mode": {
    "name": "ipython",
    "version": 3
   },
   "file_extension": ".py",
   "mimetype": "text/x-python",
   "name": "python",
   "nbconvert_exporter": "python",
   "pygments_lexer": "ipython3",
   "version": "3.8.12"
  }
 },
 "nbformat": 4,
 "nbformat_minor": 5
}
