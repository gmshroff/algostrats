{
 "cells": [
  {
   "cell_type": "code",
   "execution_count": null,
   "id": "d6900a23-d3f8-4e8d-9dff-96c7210d912d",
   "metadata": {},
   "outputs": [],
   "source": [
    "# !pip install import_ipynb --quiet\n",
    "# !pip install anvil-uplink --quiet\n",
    "# !pip install yfinance --quiet\n",
    "# !pip install pandas_ta --quiet\n",
    "# !pip install ipynb --quiet\n",
    "# !pip install rpyc --quiet\n",
    "# !pip install stable-baselines3 --quiet\n",
    "# !pip install aspectlib"
   ]
  },
  {
   "cell_type": "code",
   "execution_count": null,
   "id": "25c59acf-d5be-4a2a-9cfd-4ab6f50ae063",
   "metadata": {},
   "outputs": [],
   "source": [
    "# !git clone https://github.com/gmshroff/algostrats.git"
   ]
  },
  {
   "cell_type": "code",
   "execution_count": null,
   "id": "bf17b745-4432-427b-9758-7fb00e7f3982",
   "metadata": {},
   "outputs": [],
   "source": [
    "# %cd algostrats"
   ]
  },
  {
   "cell_type": "markdown",
   "id": "36e70902-c3e5-4260-ad42-225902d3e230",
   "metadata": {},
   "source": [
    "Uncomment below if on Colab and using datasets from Kaggle"
   ]
  },
  {
   "cell_type": "code",
   "execution_count": null,
   "id": "4fdeb0ab-b898-49ba-9337-8b4facf3aab8",
   "metadata": {},
   "outputs": [],
   "source": [
    "# from google.colab import files\n",
    "# uploaded=files.upload()"
   ]
  },
  {
   "cell_type": "code",
   "execution_count": null,
   "id": "fe8ce669-1532-4dbb-b480-f41b81cff12d",
   "metadata": {},
   "outputs": [],
   "source": [
    "# !mkdir /root/.kaggle\n",
    "# !mv ./kaggle.json /root/.kaggle/.\n",
    "# !chmod 600 /root/.kaggle/kaggle.json"
   ]
  },
  {
   "cell_type": "code",
   "execution_count": null,
   "id": "cfc38584-d602-4f72-9c0f-31e6bb8555fc",
   "metadata": {},
   "outputs": [],
   "source": [
    "# %mkdir data\n",
    "# %cd data\n",
    "# !kaggle datasets download -d gmshroff/marketdatafivemin\n",
    "# %cd ../algostrats"
   ]
  },
  {
   "cell_type": "code",
   "execution_count": null,
   "id": "b845872c-48f2-4622-9925-9246e444570b",
   "metadata": {},
   "outputs": [],
   "source": [
    "colab=False\n",
    "script=True\n",
    "if not colab: DATAPATH='~/DataLocal/algo_fin_new/five_min_data/'\n",
    "elif colab: DATAPATH='../data/'"
   ]
  },
  {
   "cell_type": "markdown",
   "id": "6104b582-d222-4e95-8b2d-cb28f63c014f",
   "metadata": {},
   "source": [
    "Need to import algorithms from stable-baselines3"
   ]
  },
  {
   "cell_type": "code",
   "execution_count": null,
   "id": "490b5786-dc7a-4403-bfc6-9f5934ddcd96",
   "metadata": {},
   "outputs": [],
   "source": [
    "from stable_baselines3 import PPO,A2C,DQN\n",
    "from stable_baselines3.common.vec_env import StackedObservations\n",
    "from stable_baselines3.common.monitor import Monitor as Mon"
   ]
  },
  {
   "cell_type": "code",
   "execution_count": null,
   "id": "ee07310c-dd1c-4d26-b301-d329a01cd15c",
   "metadata": {},
   "outputs": [],
   "source": [
    "import warnings\n",
    "warnings.simplefilter(\"ignore\")"
   ]
  },
  {
   "cell_type": "code",
   "execution_count": null,
   "id": "d7889ded-dd8c-4c73-aadd-687cf98ddbb0",
   "metadata": {},
   "outputs": [],
   "source": [
    "import import_ipynb\n",
    "import pandas as pd\n",
    "import numpy as np\n",
    "import torch\n",
    "from datetime import datetime\n",
    "from datetime import datetime as dt\n",
    "from torch.utils.data import Dataset\n",
    "from sklearn.preprocessing import StandardScaler\n",
    "import pickle\n",
    "from threading import Thread\n",
    "import threading\n",
    "from IPython import display\n",
    "import time,getopt,sys,os"
   ]
  },
  {
   "cell_type": "code",
   "execution_count": null,
   "id": "27681588-e85b-4818-b7f9-9e8aca7d87cf",
   "metadata": {},
   "outputs": [],
   "source": [
    "from feeds import BackFeed,DataFeed\n",
    "from featfuncs import feat_aug,add_addl_features_feed,add_ta_features_feed,add_sym_feature_feed\n",
    "from featfuncs import add_global_indices_feed"
   ]
  },
  {
   "cell_type": "code",
   "execution_count": null,
   "id": "8da69070-9830-44a9-bd5d-0f9800a0c613",
   "metadata": {},
   "outputs": [],
   "source": [
    "from feed_env import Episode\n",
    "import aspectlib"
   ]
  },
  {
   "cell_type": "markdown",
   "id": "a9bf1f9c-6a1b-48c4-a162-db735c649a0f",
   "metadata": {},
   "source": [
    "### Trading strategies as agents\n",
    "\n",
    "RL(++)StratAgents imported from ruleagents<br>"
   ]
  },
  {
   "cell_type": "code",
   "execution_count": null,
   "id": "d7097885-4b48-4472-9f28-bde7d73c7c8e",
   "metadata": {},
   "outputs": [],
   "source": [
    "from rlagents import RLStratAgentDyn"
   ]
  },
  {
   "cell_type": "markdown",
   "id": "f05c2614-221c-4490-aa27-ab4e3e12bb5b",
   "metadata": {},
   "source": [
    "### Strategy Testing for RLStratAgent using BackTest"
   ]
  },
  {
   "cell_type": "code",
   "execution_count": null,
   "id": "6db830b3-32e5-4ac4-99e5-f077166076c8",
   "metadata": {},
   "outputs": [],
   "source": [
    "from backtest import Backtest\n",
    "from feeds import BackFeed,DataFeed\n",
    "from validation import Validate"
   ]
  },
  {
   "cell_type": "markdown",
   "id": "6d261917-c858-4430-80de-dcaaffb43b71",
   "metadata": {},
   "source": [
    "<b>Configuration for training RL model<b>"
   ]
  },
  {
   "cell_type": "code",
   "execution_count": null,
   "id": "e6d52550-8d0d-4c51-a135-b353b424c625",
   "metadata": {},
   "outputs": [],
   "source": [
    "algorithm=PPO\n",
    "synthetic=False #use synthetic data\n",
    "simple='sinewave'\n",
    "nw,nd=4,5 #for BackFeed"
   ]
  },
  {
   "cell_type": "code",
   "execution_count": null,
   "id": "da9716cf-64ff-49cb-80e6-5867b6f571c5",
   "metadata": {},
   "outputs": [],
   "source": [
    "if script:\n",
    "    try:\n",
    "        opts,args = getopt.getopt(sys.argv[1:],\"hl:f:d:m:s:w:t:p:u:\",[\"load=\",\"feed=\",\"datafile=\",\"modelname=\",\"synthetic\",\"weeks\",\"training_steps\",\"deploy\",\"use_alt_data\"])\n",
    "    except getopt.GetoptError:\n",
    "        print('rlagents_train.py -l <load:True/False> -f <scan:back/data> -d <datafile> -m <modelname> -s <synthetic> -w <weeks> -t <training_steps> -p <deploy>')\n",
    "        sys.exit(2)\n",
    "    load,feed,modelname=False,'back','RLG10DW20.pth'\n",
    "    training_steps=50000 # if less then n_steps then n_steps is used\n",
    "    deploy=True\n",
    "    win=10\n",
    "    date=datetime.today().strftime('%d-%b-%Y')\n",
    "    use_alt_data=False\n",
    "    for opt, arg in opts:\n",
    "        if opt == \"-h\":\n",
    "            print('rlagents_train.py -l <load:True/False> -f <scan:back/data> -d <datafile> -m <modelname> -s <synthetic> -w <weeks> -t <training_steps> -p <deploy> -u <use_alt_data>')\n",
    "            sys.exit()\n",
    "        elif opt in (\"-l\", \"--load\"):\n",
    "            load = (lambda x: True if x=='True' else False)(arg)\n",
    "        elif opt in (\"-f\", \"--feed\"):\n",
    "            feed = (lambda x: 'data' if x=='data' else 'back')(arg)\n",
    "        elif opt in (\"-d\", \"--datafile\"):\n",
    "            datafile = arg.split('/')[-1]\n",
    "        elif opt in (\"-m\", \"--modelname\"):\n",
    "            modelname = arg\n",
    "        elif opt in (\"-s\", \"--synthetic\"):\n",
    "            synthetic = (lambda x: True if x=='True' else False)(arg)\n",
    "        elif opt in (\"-w\", \"--weeks\"):\n",
    "            nw = int(arg)\n",
    "        elif opt in (\"-t\", \"--training_steps\"):\n",
    "            training_steps=int(arg)\n",
    "        elif opt in (\"-p\", \"--deploy\"):\n",
    "            deploy = (lambda x: True if x=='True' else False)(arg)\n",
    "        elif opt in (\"-u\", \"--use_alt_data\"):\n",
    "            use_alt_data = (lambda x: True if x=='True' else False)(arg)\n",
    "    if len(opts)==0: \n",
    "        print('rlagents_train.py -l <load:True/False> -f <scan:back/data> -d <datafile> -m <modelname> -s <synthetic> -w <weeks> -t <training_steps> -p <deploy> -u <use_alt_data>')\n",
    "        sys.exit()\n",
    "    print(f\"load:{load},feed:{feed},datafile:{datafile},modelname:{modelname},synthetic:{synthetic},weeks:{nw},training_steps:{training_steps},deploy:{deploy},use_alt_data:{use_alt_data}\")\n",
    "    loadfeed=load\n",
    "    if feed=='data': datafeed=True\n",
    "    else: datafeed=False"
   ]
  },
  {
   "cell_type": "code",
   "execution_count": null,
   "id": "bf60db39-56f0-4a19-9874-6a75e04a82ee",
   "metadata": {},
   "outputs": [],
   "source": [
    "if not script:\n",
    "    loadfeed=False\n",
    "    datafeed=False\n",
    "    datafile='alldata.csv'\n",
    "    modelname='RLC2W10.pth'\n",
    "    date=datetime.today().strftime('%d-%b-%Y')\n",
    "    deploy=True\n",
    "    win=10"
   ]
  },
  {
   "cell_type": "code",
   "execution_count": null,
   "id": "af987410-4258-4ad4-adb0-ac8cba49e4c7",
   "metadata": {},
   "outputs": [],
   "source": [
    "n_steps=2048 # reduce for debugging only else 2048"
   ]
  },
  {
   "cell_type": "code",
   "execution_count": null,
   "id": "5a30cb1c-323b-49a4-a835-b725c0d2cffc",
   "metadata": {},
   "outputs": [],
   "source": [
    "def stringify(x):\n",
    "    return pd.to_datetime(x['Datetime']).strftime('%d-%b-%Y')"
   ]
  },
  {
   "cell_type": "code",
   "execution_count": null,
   "id": "0742b6ae-da3c-4d24-a392-762ca2433314",
   "metadata": {},
   "outputs": [],
   "source": [
    "import pickle\n",
    "if not loadfeed and not datafeed:\n",
    "    data=pd.read_csv('./capvolfiltered.csv')\n",
    "    tickers=list(data.iloc[0:50]['ticker'].values)\n",
    "    print('Creating feed')\n",
    "    feed=BackFeed(tickers=tickers,nd=nd,nw=nw,interval='5m',synthetic=synthetic)\n",
    "    print('Processing feed')\n",
    "    add_addl_features_feed(feed,tickers=feed.tickers)\n",
    "    add_sym_feature_feed(feed,tickers=feed.tickers)\n",
    "    add_global_indices_feed(feed)\n",
    "    if colab: \n",
    "        with open('/tmp/btfeed.pickle','wb') as f: pickle.dump(feed,f)\n",
    "    else: \n",
    "        with open('../../temp_data/btfeed.pickle','wb') as f: pickle.dump(feed,f)\n",
    "elif loadfeed and not datafeed:\n",
    "    if colab: \n",
    "        with open('/tmp/btfeed.pickle','rb') as f: feed=pickle.load(f)\n",
    "    else: \n",
    "        with open('../../temp_data/btfeed.pickle','rb') as f: feed=pickle.load(f)"
   ]
  },
  {
   "cell_type": "code",
   "execution_count": null,
   "id": "4e98851e-d7ed-4c7a-89ff-5382091368cc",
   "metadata": {
    "tags": []
   },
   "outputs": [],
   "source": [
    "if not loadfeed and datafeed:\n",
    "    #DATAFILE=DATAPATH+'augdata_'+date+'_5m.csv'\n",
    "    DATAFILE=DATAPATH+datafile\n",
    "    print('Reading datafile')\n",
    "    df=pd.read_csv(DATAFILE)\n",
    "    if 'Date' not in df.columns: \n",
    "        print('Adding Date')\n",
    "        df['Date']=df.apply(stringify,axis=1)\n",
    "    print('Creating feed')\n",
    "    feed=DataFeed(tickers=list(df.ticker.unique()[0:10]),dfgiven=True,df=df)\n",
    "    print('Processing feed')\n",
    "    add_addl_features_feed(feed,tickers=feed.tickers)\n",
    "    add_sym_feature_feed(feed,tickers=feed.tickers)\n",
    "    add_global_indices_feed(feed)\n",
    "    if not colab: \n",
    "        with open('../../temp_data/btdatafeed.pickle','wb') as f: pickle.dump(feed,f)\n",
    "    elif colab: \n",
    "        with open('/tmp/btdatafeed.pickle','wb') as f: pickle.dump(feed,f)\n",
    "elif loadfeed and datafeed:\n",
    "    if not colab: \n",
    "        with open('../../temp_data/btdatafeed.pickle','rb') as f: feed=pickle.load(f)\n",
    "    elif colab:\n",
    "        with open('/tmp/btdatafeed.pickle','rb') as f: feed=pickle.load(f)"
   ]
  },
  {
   "cell_type": "code",
   "execution_count": null,
   "id": "b2ab9ddd-7abc-4ac4-8a92-589b7392b836",
   "metadata": {},
   "outputs": [],
   "source": [
    "for t in feed.ndata:\n",
    "    for d in feed.ndata[t]:\n",
    "        if feed.ndata[t][d].isnull().values.any(): \n",
    "            feed.ndata[t][d]=feed.ndata[t][d].fillna(1)\n",
    "            # print(t,d)\n",
    "        if feed.ndata[t][d].isin([-np.inf,np.inf]).values.any():\n",
    "            feed.ndata[t][d]=feed.ndata[t][d].replace([np.inf, -np.inf],1)\n",
    "            # print(t,d)"
   ]
  },
  {
   "cell_type": "code",
   "execution_count": null,
   "id": "90b847d4-45a6-461e-be25-e1c56af362c4",
   "metadata": {},
   "outputs": [],
   "source": [
    "from math import isnan\n",
    "for d in feed.gdata:\n",
    "    for g in feed.gdata[d]:\n",
    "         for k in g: \n",
    "                if isnan(g[k]): g[k]=1"
   ]
  },
  {
   "cell_type": "code",
   "execution_count": null,
   "id": "0b955820-4063-40ad-a2ed-ca9ac97266fa",
   "metadata": {},
   "outputs": [],
   "source": [
    "def get_alt_data_live():\n",
    "    aD={'gdata':feed.gdata}\n",
    "    return aD"
   ]
  },
  {
   "cell_type": "code",
   "execution_count": null,
   "id": "51966e37-f9c0-4a59-965e-c5b9a1bef3d9",
   "metadata": {
    "tags": []
   },
   "outputs": [],
   "source": [
    "if script: use_alt_data=use_alt_data\n",
    "else: use_alt_data=False\n",
    "agent=RLStratAgentDyn(algorithm,monclass=Mon,soclass=StackedObservations,verbose=1,\n",
    "                   metarl=True,myargs=(n_steps,use_alt_data,10))\n",
    "agent.use_memory=True #depends on whether RL algorithm uses memory for state computation\n",
    "agent.debug=False\n",
    "if use_alt_data: agent.set_alt_data(alt_data_func=get_alt_data_live)"
   ]
  },
  {
   "cell_type": "code",
   "execution_count": null,
   "id": "96633985-0ac1-4cb7-b616-7fba788c36a1",
   "metadata": {},
   "outputs": [],
   "source": [
    "# agent.model.load('/tmp/ppo_agent')"
   ]
  },
  {
   "cell_type": "code",
   "execution_count": null,
   "id": "f2846d76-2d38-4c10-b49c-003a7427a791",
   "metadata": {},
   "outputs": [],
   "source": [
    "agent.training=False"
   ]
  },
  {
   "cell_type": "code",
   "execution_count": null,
   "id": "d1c2212c-2573-4b9b-8af2-42bdf45f786d",
   "metadata": {},
   "outputs": [],
   "source": [
    "agent.data_cols=agent.data_cols+['Date']"
   ]
  },
  {
   "cell_type": "code",
   "execution_count": null,
   "id": "e84d5950-660a-476b-8a08-12a367b45d46",
   "metadata": {},
   "outputs": [],
   "source": [
    "if modelname and os.path.exists('./saved_models/'+modelname): \n",
    "    print('Loading model')\n",
    "    agent.load_model(filepath='./saved_models/'+modelname)"
   ]
  },
  {
   "cell_type": "code",
   "execution_count": null,
   "id": "aa113224-1c19-431f-a01e-f1f42d17bc31",
   "metadata": {},
   "outputs": [],
   "source": [
    "@aspectlib.Aspect\n",
    "def my_decorator(*args, **kwargs):\n",
    "    # print(\"Got called with args: %s kwargs: %s\" % (args, kwargs))\n",
    "    # result = yield\n",
    "    # print(\" ... and the result is: %s\" % (result,))\n",
    "    state,rew,done,exit_type = yield\n",
    "    # args[0].policy.logL+=[(state.keys(),rew,done,exit_type)]\n",
    "    args[0].policy.reward((rew,done,{'exit_type':exit_type}))\n",
    "    return state,rew,done,exit_type"
   ]
  },
  {
   "cell_type": "code",
   "execution_count": null,
   "id": "50fa58e2-3bd9-475c-ad0d-df1d70b4f49e",
   "metadata": {},
   "outputs": [],
   "source": [
    "aspectlib.weave(Episode, my_decorator, methods='env_step')"
   ]
  },
  {
   "cell_type": "code",
   "execution_count": null,
   "id": "7fde12ee-eb14-4405-8e41-0a7ce44f132b",
   "metadata": {},
   "outputs": [],
   "source": [
    "bt=Backtest(feed,tickers=feed.tickers,add_features=False,target=5,stop=5,txcost=0.001,\n",
    "            loc_exit=True,scan=True,topk=5,deploy=deploy,save_dfs=False,\n",
    "            save_func=None)"
   ]
  },
  {
   "cell_type": "code",
   "execution_count": null,
   "id": "e9db256a-ce41-4b7c-82e7-f772af3c0c4f",
   "metadata": {},
   "outputs": [],
   "source": [
    "bt.run_all(tickers=feed.tickers,model=agent,verbose=False)"
   ]
  },
  {
   "cell_type": "code",
   "execution_count": null,
   "id": "3d3f9b03-49aa-4ddf-8ad7-1400408398ce",
   "metadata": {},
   "outputs": [],
   "source": [
    "def compute_avg_episode_rew(bt):\n",
    "    i,tot=0,0\n",
    "    for t in bt.results:\n",
    "        for d in bt.results[t]:\n",
    "            for r in bt.results[t][d]['rew']:\n",
    "                tot+=r[1]\n",
    "                i+=1\n",
    "    return tot/i,i,tot"
   ]
  },
  {
   "cell_type": "code",
   "execution_count": null,
   "id": "ceb0de28-5c13-4efa-a5e4-6ddfe10d2ae5",
   "metadata": {},
   "outputs": [],
   "source": [
    "avg,n_ep,tot=compute_avg_episode_rew(bt) # Avg episode reward (not day)\n",
    "print(f\"Average reward {avg} across {n_ep} episodes; total {tot}\")"
   ]
  },
  {
   "cell_type": "code",
   "execution_count": null,
   "id": "8b737e58-82d7-43f1-ba14-49f6e5d274f2",
   "metadata": {},
   "outputs": [],
   "source": [
    "# sum([bt.results[t][d]['tot'] for t in bt.results for d in bt.results[t]])"
   ]
  },
  {
   "cell_type": "code",
   "execution_count": null,
   "id": "2603e486-b7f3-41b8-af54-b3ece1bafa9c",
   "metadata": {},
   "outputs": [],
   "source": [
    "print(f\"Average returns per day:{tot/len(feed.dates)}\")"
   ]
  },
  {
   "cell_type": "code",
   "execution_count": null,
   "id": "b6121965-f387-4c70-b37f-ed9c57a6d653",
   "metadata": {},
   "outputs": [],
   "source": [
    "maxdd=min([bt.results[t][d]['tot'] for t in bt.results for d in bt.results[t]])\n",
    "print(f\"Max daily drawdown:{maxdd}\")"
   ]
  },
  {
   "cell_type": "code",
   "execution_count": null,
   "id": "325a0a84-d864-43d5-86fe-317ef355b9dc",
   "metadata": {},
   "outputs": [],
   "source": [
    "maxdp=max([bt.results[t][d]['tot'] for t in bt.results for d in bt.results[t]])\n",
    "print(f\"Max daily profit:{maxdp}\")"
   ]
  },
  {
   "cell_type": "code",
   "execution_count": null,
   "id": "c42949dd-ed35-4ec1-b63f-dbca05155907",
   "metadata": {},
   "outputs": [],
   "source": [
    "# sum([bt.returns[t] for t in bt.returns])"
   ]
  },
  {
   "cell_type": "markdown",
   "id": "3ef67d33-a9b8-45a4-b303-9ec012e0b7ed",
   "metadata": {},
   "source": [
    "## Trading Plots"
   ]
  },
  {
   "cell_type": "code",
   "execution_count": null,
   "id": "7f2ace22-88e1-4a2e-9678-516f259bf856",
   "metadata": {},
   "outputs": [],
   "source": [
    "import plotly.graph_objects as go"
   ]
  },
  {
   "cell_type": "code",
   "execution_count": null,
   "id": "e862f886-2b22-471e-9e53-92974270b1cb",
   "metadata": {},
   "outputs": [],
   "source": [
    "import plotly.express as px"
   ]
  },
  {
   "cell_type": "code",
   "execution_count": null,
   "id": "23c6198b-6840-4db4-af0b-e008ca3a508b",
   "metadata": {},
   "outputs": [],
   "source": [
    "def annotate_action(rew,act,df):\n",
    "    if rew[1]>=0:color='Green'\n",
    "    else: color='Red'\n",
    "    if act[0]==1:text='Buy'\n",
    "    elif act[0]==-1:text='Sell'\n",
    "    ann=dict(font=dict(color=color,size=15),x=df.index[rew[0]],y=df.iloc[rew[0]]['Close'],\n",
    "             showarrow=True,text=text)\n",
    "    return ann"
   ]
  },
  {
   "cell_type": "code",
   "execution_count": null,
   "id": "8664417b-e4a6-4d9f-a38f-9813ef42b0e5",
   "metadata": {},
   "outputs": [],
   "source": [
    "def annotate_exit(rew,act,anns,df):\n",
    "    if rew[1]>=0:color='Green'\n",
    "    else: color='Red'\n",
    "    X=[a['x'] for a in anns if a is not None]\n",
    "    if df.index[rew[2]] in X: \n",
    "        idx=X.index(df.index[rew[2]])\n",
    "        anns[idx]['text']='Ex&'+anns[idx]['text']\n",
    "    else:\n",
    "        anns+=[dict(font=dict(color=color,size=15),x=df.index[rew[2]],y=df.iloc[rew[2]]['Close'],\n",
    "                    showarrow=True,text='Exit')]"
   ]
  },
  {
   "cell_type": "code",
   "execution_count": null,
   "id": "e8072619-f291-4436-bcaf-475849f7c7ae",
   "metadata": {},
   "outputs": [],
   "source": [
    "def plot_ticker_date(bt,ticker,date):\n",
    "    global fig\n",
    "    df=feed.ndata[ticker][date]\n",
    "    df=df.loc[df['Date']==date]\n",
    "    fig = go.Figure(data=\n",
    "        [go.Candlestick(x = df.index,\n",
    "                        open  = df[\"Open\"],\n",
    "                        high  = df[\"High\"],\n",
    "                        low   = df[\"Low\"],\n",
    "                        close = df[\"Close\"])]\n",
    "    )\n",
    "    reward=np.round(bt.results[ticker][date][\"tot\"],2)\n",
    "    fig.update_layout(\n",
    "        title=f'{ticker} on {date} return {reward}',\n",
    "        yaxis_title=\"Price\"\n",
    "    )\n",
    "    anns=[]\n",
    "    for r,a in zip(bt.results[ticker][date]['rew'],bt.results[ticker][date]['acts']):\n",
    "        anns+=[annotate_action(r,a,df)]\n",
    "    for r,a in zip(bt.results[ticker][date]['rew'],bt.results[ticker][date]['acts']):\n",
    "        anns+=[annotate_exit(r,a,anns,df)]\n",
    "    for a in anns: \n",
    "        if a is not None: fig.add_annotation(a)\n",
    "    fig.show()\n",
    "    return fig"
   ]
  },
  {
   "cell_type": "code",
   "execution_count": null,
   "id": "bb8ef342-167c-4748-9996-3ea031f2a43f",
   "metadata": {},
   "outputs": [],
   "source": [
    "def combine_plotly_figs_to_html(plotly_figs, html_fname, include_plotlyjs='cdn', \n",
    "                                separator=None, auto_open=False):\n",
    "    with open(html_fname, 'w') as f:\n",
    "        f.write(plotly_figs[0].to_html(include_plotlyjs=include_plotlyjs))\n",
    "        for fig in plotly_figs[1:]:\n",
    "            if separator:\n",
    "                f.write(separator)\n",
    "            f.write(fig.to_html(full_html=False, include_plotlyjs=False))\n",
    "\n",
    "    if auto_open:\n",
    "        import pathlib, webbrowser\n",
    "        uri = pathlib.Path(html_fname).absolute().as_uri()\n",
    "        webbrowser.open(uri)"
   ]
  },
  {
   "cell_type": "code",
   "execution_count": null,
   "id": "ec2eed91-6be7-4a94-8405-897c9a721a6e",
   "metadata": {
    "tags": []
   },
   "outputs": [],
   "source": [
    "if not script:\n",
    "    figs=[]\n",
    "    for t in bt.results:\n",
    "        for d in bt.results[t]:\n",
    "            figs+=[plot_ticker_date(bt,t,d)]"
   ]
  },
  {
   "cell_type": "code",
   "execution_count": null,
   "id": "aabd6227-8bef-4c38-ad3c-1b1a18622635",
   "metadata": {
    "tags": []
   },
   "outputs": [],
   "source": [
    "if not script: combine_plotly_figs_to_html(figs,'../../temp_data/charts.html',auto_open=True)"
   ]
  },
  {
   "cell_type": "code",
   "execution_count": null,
   "id": "19a39d25-4600-403a-b58b-b73ef116e30e",
   "metadata": {},
   "outputs": [],
   "source": []
  }
 ],
 "metadata": {
  "kernelspec": {
   "display_name": "Python 3 (ipykernel)",
   "language": "python",
   "name": "python3"
  },
  "language_info": {
   "codemirror_mode": {
    "name": "ipython",
    "version": 3
   },
   "file_extension": ".py",
   "mimetype": "text/x-python",
   "name": "python",
   "nbconvert_exporter": "python",
   "pygments_lexer": "ipython3",
   "version": "3.8.12"
  }
 },
 "nbformat": 4,
 "nbformat_minor": 5
}
