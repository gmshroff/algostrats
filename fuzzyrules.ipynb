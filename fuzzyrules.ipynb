{
 "cells": [
  {
   "cell_type": "code",
   "execution_count": 1,
   "id": "26a0b416-3b90-4265-9ccb-3b658b0fffce",
   "metadata": {},
   "outputs": [
    {
     "name": "stdout",
     "output_type": "stream",
     "text": [
      "importing Jupyter notebook from features.ipynb\n",
      "importing Jupyter notebook from fuzzy.ipynb\n"
     ]
    }
   ],
   "source": [
    "import import_ipynb\n",
    "import numpy as np\n",
    "# import matplotlib.pyplot as plt\n",
    "import features\n",
    "import fuzzy\n",
    "from functools import partial"
   ]
  },
  {
   "cell_type": "markdown",
   "id": "40e0e7f8-b04b-475d-857e-e1dfdf010335",
   "metadata": {},
   "source": [
    "# Fuzzy-logic based Rules"
   ]
  },
  {
   "cell_type": "code",
   "execution_count": null,
   "id": "6fd202cb-fcd8-44c7-9333-c7cc96624947",
   "metadata": {},
   "outputs": [],
   "source": [
    "def rule1_ed(prices,fuz=None,m=1,n=5,ifscale=1,thscale=1):\n",
    "    ed=fuz.fuzzyrule(features.mar(prices,m,n),\n",
    "                     ['NL','NM','NS','AZ','PS','PM','PL'],\n",
    "                     ['BM','SB','SS','N','BS','BB','SM'],\n",
    "                     ifscale=ifscale,thscale=thscale)\n",
    "    return ed"
   ]
  },
  {
   "cell_type": "code",
   "execution_count": null,
   "id": "ef0e774e-380f-4d96-8f61-f250c5587ec5",
   "metadata": {},
   "outputs": [],
   "source": [
    "def exit1_long_ed(prices,fuz=None,m=5,n=10,ifscale=1,thscale=1):\n",
    "    ed=fuz.fuzzyrule(features.mar(prices,m,n),\n",
    "                     ['NL','NM','NS'],\n",
    "                     ['SB','SB','SM'],\n",
    "                     ifscale=ifscale,thscale=thscale)\n",
    "    return ed"
   ]
  },
  {
   "cell_type": "code",
   "execution_count": null,
   "id": "86ebe854-9aed-4f24-97b2-08617d9d4cb0",
   "metadata": {},
   "outputs": [],
   "source": [
    "def exit1_short_ed(prices,fuz=None,m=5,n=10,ifscale=1,thscale=1):\n",
    "    ed=fuz.fuzzyrule(features.mar(prices,m,n),\n",
    "                     ['PS','PM','PL'],\n",
    "                     ['BM','BB','BB'],\n",
    "                     ifscale=ifscale,thscale=thscale)\n",
    "    return ed"
   ]
  },
  {
   "cell_type": "code",
   "execution_count": 1,
   "id": "869d20d5-2e4f-4aa5-af99-68a9e9765eb3",
   "metadata": {},
   "outputs": [],
   "source": [
    "def rule2_ed(prices,fuz=None,w=0,ifscale=1,thscale=1):\n",
    "    ed=fuz.dblrule(features.p_to_supp(prices,w),features.p_to_res(prices,w),\n",
    "                   ['NL','NM','NS'],['BM','SB','SS'],['PS','PM','PL'],['BS','BB','SM'],\n",
    "                   ifscale=ifscale,thscale=thscale)\n",
    "    return ed"
   ]
  },
  {
   "cell_type": "code",
   "execution_count": null,
   "id": "9156e4ce-f647-457b-9cf7-848069713e69",
   "metadata": {},
   "outputs": [],
   "source": [
    "def ruleBS_ed(prices,fuz=None,ifscale=1,thscale=1):\n",
    "    ed=fuz.fuzzyrule(features.mar(prices,5,10),\n",
    "                     ['PS','PM','PL'],\n",
    "                     ['SS','SM','SB'],bot=False,top=True,\n",
    "                     ifscale=ifscale,thscale=thscale)\n",
    "    return ed"
   ]
  },
  {
   "cell_type": "code",
   "execution_count": null,
   "id": "a791450c-0df9-427a-82c1-ae926b8273b7",
   "metadata": {},
   "outputs": [],
   "source": [
    "def ruleBB_ed(prices,fuz,ifscale=1,thscale=1):\n",
    "    ed=fuz.fuzzyrule(features.mar(prices,5,10),\n",
    "                     ['NL','NM','NS'],\n",
    "                     ['BB','BM','BS'],\n",
    "                     ifscale=ifscale,thscale=thscale)\n",
    "    return ed"
   ]
  },
  {
   "cell_type": "raw",
   "id": "2dff0be5-60fc-49a9-a825-0528278a92e6",
   "metadata": {},
   "source": [
    "Experiments"
   ]
  },
  {
   "cell_type": "raw",
   "id": "7527f9ab-6884-43c7-b2e7-0c6d9a4cb5f7",
   "metadata": {},
   "source": [
    "import import_ipynb\n",
    "import numpy as np\n",
    "import matplotlib.pyplot as plt\n",
    "import features\n",
    "import fuzzy\n",
    "from functools import partial"
   ]
  },
  {
   "cell_type": "raw",
   "id": "bf96dbca-cfea-4d48-b4e2-80ee7752314e",
   "metadata": {},
   "source": [
    "from dynamics import noise,noise037,gen_prices"
   ]
  },
  {
   "cell_type": "raw",
   "id": "3bc0406a-c8a2-4ec1-97e2-d09efbbf620b",
   "metadata": {},
   "source": [
    "prices=[10.0]"
   ]
  },
  {
   "cell_type": "raw",
   "id": "6da15cb1-ebb9-402c-979e-751232e11023",
   "metadata": {},
   "source": [
    "prices=gen_prices([noise037],[1.0],prices)"
   ]
  },
  {
   "cell_type": "raw",
   "id": "a7ba73d7-cded-4365-96b3-f1c9f2202154",
   "metadata": {},
   "source": [
    "plt.plot(prices)"
   ]
  },
  {
   "cell_type": "raw",
   "id": "6e397301-bf13-4671-955b-f774a082d26c",
   "metadata": {},
   "source": [
    "fuz=fuzzy.Fuzzy()"
   ]
  },
  {
   "cell_type": "raw",
   "id": "6c7765e5-c77a-4467-97a9-0c446a912232",
   "metadata": {},
   "source": [
    "rule1_dyn(prices)"
   ]
  },
  {
   "cell_type": "raw",
   "id": "41513fea-4dde-473c-bb7c-7d25757c8527",
   "metadata": {},
   "source": [
    "rule1_ed(prices)"
   ]
  },
  {
   "cell_type": "raw",
   "id": "5a755d6d-2f12-47b9-bde4-1ad6f8bba2b1",
   "metadata": {},
   "source": [
    "prices=prices[-25:]"
   ]
  },
  {
   "cell_type": "raw",
   "id": "48b272f4-9ac5-468f-ae0b-ea013d861fb1",
   "metadata": {
    "tags": []
   },
   "source": [
    "from features import res,supp,mar"
   ]
  },
  {
   "cell_type": "raw",
   "id": "059159a1-ac40-46d2-89f0-51f720185eeb",
   "metadata": {},
   "source": [
    "from features import p_to_res,p_to_supp"
   ]
  },
  {
   "cell_type": "raw",
   "id": "22250ccf-37be-40c0-a40d-c006883d27b6",
   "metadata": {},
   "source": [
    "p_to_supp(prices)"
   ]
  },
  {
   "cell_type": "raw",
   "id": "85b9f337-a5f1-49d7-9822-95325b497f55",
   "metadata": {},
   "source": [
    "p_to_res(prices)"
   ]
  },
  {
   "cell_type": "raw",
   "id": "47186311-6dca-45ab-9348-2880a7d0348a",
   "metadata": {},
   "source": [
    "rule2_dyn(prices)"
   ]
  },
  {
   "cell_type": "raw",
   "id": "d2c276f9-383a-4c3c-b836-9bab4cfcaf22",
   "metadata": {},
   "source": [
    "rule2_dyn(prices)"
   ]
  },
  {
   "cell_type": "raw",
   "id": "8840cdaa-17cb-46ca-9ef3-ff35abd8ff6c",
   "metadata": {},
   "source": [
    "wp=[.01*i for i in range(6)]"
   ]
  },
  {
   "cell_type": "raw",
   "id": "e1b24a4b-ef0f-447e-8680-178e6c1d6e2c",
   "metadata": {},
   "source": [
    "wn=[-.01*i for i in range(6)]"
   ]
  },
  {
   "cell_type": "raw",
   "id": "89ab8ed8-6f76-423f-bd9e-2c0ad37a649c",
   "metadata": {},
   "source": [
    "wn"
   ]
  },
  {
   "cell_type": "raw",
   "id": "3537731c-16b3-4227-aa41-57f4404fd27d",
   "metadata": {},
   "source": [
    "[rule2(x,0) for x in wn]"
   ]
  },
  {
   "cell_type": "raw",
   "id": "e99398de-91ba-427d-8839-dd2f6c963028",
   "metadata": {},
   "source": [
    "[rule2(0,x) for x in wp]"
   ]
  },
  {
   "cell_type": "raw",
   "id": "737a96c1-5979-43b4-9813-466fb6c644c2",
   "metadata": {},
   "source": []
  }
 ],
 "metadata": {
  "kernelspec": {
   "display_name": "Python 3 (ipykernel)",
   "language": "python",
   "name": "python3"
  },
  "language_info": {
   "codemirror_mode": {
    "name": "ipython",
    "version": 3
   },
   "file_extension": ".py",
   "mimetype": "text/x-python",
   "name": "python",
   "nbconvert_exporter": "python",
   "pygments_lexer": "ipython3",
   "version": "3.8.12"
  }
 },
 "nbformat": 4,
 "nbformat_minor": 5
}
