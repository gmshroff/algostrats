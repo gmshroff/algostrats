{
 "cells": [
  {
   "cell_type": "code",
   "execution_count": 13,
   "id": "a35b25aa-6e12-47a1-b4bb-8c4d33ccddbe",
   "metadata": {},
   "outputs": [],
   "source": [
    "import pandas as pd\n",
    "from pandas.tseries.holiday import *\n",
    "from pandas.tseries.offsets import CustomBusinessDay\n",
    "from functools import partial"
   ]
  },
  {
   "cell_type": "code",
   "execution_count": null,
   "id": "990cc084-7a6b-4e94-a58b-5cb5fff98d31",
   "metadata": {},
   "outputs": [],
   "source": [
    "class IndiaBusinessCalendar(AbstractHolidayCalendar):\n",
    "   rules = [\n",
    "     Holiday('Republic Day', month=1, day=26),\n",
    "     Holiday('Holi', month=3, day=7),\n",
    "     Holiday('Ram Navmi', month=3, day=30),\n",
    "     Holiday('Mahavir Jayanti', month=4, day=4),\n",
    "     Holiday('Good Friday', month=4, day=7),\n",
    "     Holiday('Ambedkar Jayanti', month=4, day=14),   \n",
    "     Holiday('Maharashtra Day', month=5, day=1),\n",
    "     Holiday('Bakr Id', month=6, day=28),\n",
    "     Holiday('Independence Day', month=8, day=15),\n",
    "     Holiday('Ganesh Chaturthi', month=9, day=19),\n",
    "     Holiday('Gandhi Jayanti', month=10, day=2),\n",
    "     Holiday('Dussehra', month=10, day=24),\n",
    "     Holiday('Diwali', month=11, day=14),\n",
    "     Holiday('Gurunanak Jayanti', month=11, day=27),    \n",
    "     Holiday('Christmas', month=12, day=25)\n",
    "   ]"
   ]
  },
  {
   "cell_type": "code",
   "execution_count": 40,
   "id": "24097589-32e5-4bad-ba4b-2b613a82a287",
   "metadata": {},
   "outputs": [],
   "source": [
    "IBDay=partial(CustomBusinessDay,calendar=IndiaBusinessCalendar())"
   ]
  }
 ],
 "metadata": {
  "kernelspec": {
   "display_name": "Python 3 (ipykernel)",
   "language": "python",
   "name": "python3"
  },
  "language_info": {
   "codemirror_mode": {
    "name": "ipython",
    "version": 3
   },
   "file_extension": ".py",
   "mimetype": "text/x-python",
   "name": "python",
   "nbconvert_exporter": "python",
   "pygments_lexer": "ipython3",
   "version": "3.8.12"
  }
 },
 "nbformat": 4,
 "nbformat_minor": 5
}
