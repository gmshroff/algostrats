{
 "cells": [
  {
   "cell_type": "code",
   "execution_count": null,
   "id": "18fbaca4-1ef9-4997-8c9c-7942f89ee14a",
   "metadata": {},
   "outputs": [],
   "source": [
    "import json, yfinance as yf"
   ]
  },
  {
   "cell_type": "code",
   "execution_count": null,
   "id": "c8d42f32-6927-4108-afb2-27b3e413cc92",
   "metadata": {},
   "outputs": [],
   "source": [
    "# from tqdm.notebook import tqdm"
   ]
  },
  {
   "cell_type": "code",
   "execution_count": null,
   "id": "8656c566-fb68-4cfa-96a3-4b2b52205e7d",
   "metadata": {},
   "outputs": [],
   "source": [
    "import numpy as np\n",
    "import pandas as pd"
   ]
  },
  {
   "cell_type": "code",
   "execution_count": null,
   "id": "77842d00-5712-4c73-bb4c-8704031e939f",
   "metadata": {},
   "outputs": [],
   "source": [
    "import import_ipynb\n",
    "from feeds import LiveFeed,BackFeed,DataFeed,clean_feed,clean_feed_tickers"
   ]
  },
  {
   "cell_type": "code",
   "execution_count": null,
   "id": "85c6098e-ed50-47cd-8a85-5773ee447196",
   "metadata": {},
   "outputs": [],
   "source": [
    "from featfuncs import add_addl_features_feed,add_sym_feature_feed"
   ]
  },
  {
   "cell_type": "code",
   "execution_count": null,
   "id": "95bd4123-4cdf-4b45-9b4a-85fe334c5cc6",
   "metadata": {},
   "outputs": [],
   "source": [
    "import pickle\n",
    "# from matplotlib import pyplot as plt"
   ]
  },
  {
   "cell_type": "code",
   "execution_count": null,
   "id": "414d1110-76ae-463b-9297-1612c0b6ef94",
   "metadata": {},
   "outputs": [],
   "source": [
    "def compute_gaps(feed,topk=5):\n",
    "    dates=[]\n",
    "    for t in feed.tickers:\n",
    "        for d in feed.ndata[t]:\n",
    "            dates+=[d]\n",
    "    dates=list(set(dates))\n",
    "    gaps={}\n",
    "    stocks={}\n",
    "    for d in dates:\n",
    "        gaps[d]={}\n",
    "        for t in feed.tickers:\n",
    "            if d in feed.ndata[t]:\n",
    "                df=feed.ndata[t][d]\n",
    "                dts=df.Date.unique()\n",
    "                if len(dts)>1:\n",
    "                    endcl=df.loc[df['Date']==dts[0]]['Close_n'].values[0]\n",
    "                    startcl=df.loc[df['Date']==dts[1]]['Open_n'].values[0]\n",
    "                    gaps[d][t]=abs(startcl-endcl)\n",
    "        g=gaps[d]\n",
    "        stocks[d]=pd.DataFrame([(t,g[t]) for t in g],columns=['ticker','gap']).sort_values('gap',ascending=False)\n",
    "        stocks[d]=stocks[d].iloc[0:topk]\n",
    "    return stocks"
   ]
  },
  {
   "cell_type": "code",
   "execution_count": null,
   "id": "b5efa726-2a3f-433e-b08e-075a3447febe",
   "metadata": {},
   "outputs": [],
   "source": [
    "def market_cap(t):\n",
    "    try:\n",
    "        bs=yf.Ticker(t).balance_sheet\n",
    "        c=bs.loc[bs.index=='Common Stock'].values[-1][-1]\n",
    "        p=yf.Ticker(t).history(period='1d',interval='1d').iloc[0]['Close']\n",
    "        mc=(p*c/80)/1000000\n",
    "    except: mc=0\n",
    "    return mc"
   ]
  },
  {
   "cell_type": "code",
   "execution_count": null,
   "id": "cbc09af8-251e-4487-8535-51569ecfe634",
   "metadata": {},
   "outputs": [],
   "source": [
    "market_capD={}\n",
    "def compute_market_caps(M,N):\n",
    "    global market_capD,nsetickers\n",
    "    for t in tqdm(list(nsetickers.keys())[M:N]):\n",
    "        market_capD[t+'.NS']=market_cap(t+'.NS')\n",
    "    caps=pd.DataFrame([(t,market_capD[t]) for t in market_capD],\n",
    "                      columns=['ticker','cap']).sort_values('cap',ascending=False)\n",
    "    return caps"
   ]
  },
  {
   "cell_type": "code",
   "execution_count": null,
   "id": "c55e5788-263d-4b39-a07f-b500ce9851a1",
   "metadata": {},
   "outputs": [],
   "source": [
    "def vol_est(t):\n",
    "    try:\n",
    "        df=yf.Ticker(t).history(period=\"1y\",interval=\"1d\")\n",
    "        vol=np.mean((100*abs(df['Close']-df['Open'])/df['Close']).values)\n",
    "        return vol\n",
    "    except:\n",
    "        return 0"
   ]
  },
  {
   "cell_type": "code",
   "execution_count": null,
   "id": "3c37972e-7df2-411d-b631-0bb1b0cb0467",
   "metadata": {},
   "outputs": [],
   "source": [
    "volsD={}\n",
    "def compute_vols(M,N):\n",
    "    global volsD,nsetickers\n",
    "    volsD={}\n",
    "    for t in tqdm(list(nsetickers.keys())[M:N]):\n",
    "        volsD[t+'.NS']=vol_est(t+'.NS')\n",
    "    volsf=pd.DataFrame([(t,volsD[t]) for t in volsD],\n",
    "                      columns=['ticker','vol']).sort_values('vol',ascending=False)\n",
    "    return volsf"
   ]
  },
  {
   "cell_type": "markdown",
   "id": "690cd460-2c9c-4250-96d0-d7f52386f8f7",
   "metadata": {},
   "source": [
    "Debugging"
   ]
  },
  {
   "cell_type": "raw",
   "id": "91275b9e-b768-4b65-a605-f83c09b0a0e1",
   "metadata": {},
   "source": [
    "import pickle\n",
    "from feeds import BackFeed,init_counters"
   ]
  },
  {
   "cell_type": "raw",
   "id": "9adda549-b88e-487b-9a03-5c58db9afd5e",
   "metadata": {},
   "source": [
    "with open('../temp_data/feed_sim_cloud_19_Aug.pickle','rb') as f: feed_sim=pickle.load(f)"
   ]
  },
  {
   "cell_type": "raw",
   "id": "11161f53-1428-4c5d-a40c-24a0140155e8",
   "metadata": {},
   "source": [
    "init_counters(feed_sim)"
   ]
  },
  {
   "cell_type": "raw",
   "id": "93c5b269-cd20-4c2b-ae0e-fe66f7ced6cf",
   "metadata": {},
   "source": [
    "compute_gaps(feed_sim)"
   ]
  },
  {
   "cell_type": "markdown",
   "id": "7e9ec6cc-6375-4949-b3ab-45f4f8c48918",
   "metadata": {},
   "source": [
    "Market caps of all tickers - to get subset of top K "
   ]
  },
  {
   "cell_type": "raw",
   "id": "3e4a0f7c-deed-4d8f-bd51-2784eee9536d",
   "metadata": {},
   "source": [
    "with open('./nsetickers.json') as f: nsetickers=json.load(f)"
   ]
  },
  {
   "cell_type": "raw",
   "id": "895d3384-5fc5-4087-8903-7f8536fc649d",
   "metadata": {},
   "source": [
    "len(nsetickers)"
   ]
  },
  {
   "cell_type": "raw",
   "id": "b7c6bb4b-f34d-4866-bd05-115881e6986f",
   "metadata": {},
   "source": [
    "caps2=compute_market_caps(900,1808)"
   ]
  },
  {
   "cell_type": "raw",
   "id": "4be22de1-56c6-4240-9225-9f51ab7bce8e",
   "metadata": {
    "tags": []
   },
   "source": [
    "with open('../temp_data/market_capD_900_1808.pickle','wb') as f: pickle.dump(market_capD,f)"
   ]
  },
  {
   "cell_type": "raw",
   "id": "84490b45-492c-42fd-9cae-eb5788ce5f49",
   "metadata": {},
   "source": [
    "caps2.to_csv('../temp_data/caps_900_1808.csv',index=False)"
   ]
  },
  {
   "cell_type": "raw",
   "id": "688a15bf-fea5-4748-a987-f986fec852fe",
   "metadata": {},
   "source": [
    "caps1=pd.read_csv('../temp_data/caps_1_899.csv')"
   ]
  },
  {
   "cell_type": "raw",
   "id": "31524120-ff3d-4f37-a15c-31aeeea20797",
   "metadata": {},
   "source": [
    "caps2=pd.read_csv('../temp_data/caps_900_1808.csv')"
   ]
  },
  {
   "cell_type": "raw",
   "id": "27f2f32e-bac3-4b04-97ec-88d1c98c4e0d",
   "metadata": {},
   "source": [
    "caps=pd.concat([caps1,caps2],axis=0)"
   ]
  },
  {
   "cell_type": "raw",
   "id": "bb09c9cf-c790-48e5-86d2-95a26d917504",
   "metadata": {},
   "source": [
    "caps=caps.sort_values(['cap'],ascending=False)"
   ]
  },
  {
   "cell_type": "raw",
   "id": "95754e70-aaa6-419d-9867-8617233a2781",
   "metadata": {},
   "source": [
    "caps.to_csv('../temp_data/caps.csv',index=False)"
   ]
  },
  {
   "cell_type": "raw",
   "id": "3add1af1-fb8c-4533-b4b0-ddba01badf59",
   "metadata": {},
   "source": [
    "missed=caps.loc[caps['cap'].isna()]['ticker'].values"
   ]
  },
  {
   "cell_type": "raw",
   "id": "bbae1e47-0be1-43b7-b090-a27b6b28426c",
   "metadata": {},
   "source": [
    "mcap={}\n",
    "for t in missed:\n",
    "    mcap[t]=market_cap(t)"
   ]
  },
  {
   "cell_type": "raw",
   "id": "34f4dd0c-d576-4339-aaf7-2f7ed12146fa",
   "metadata": {},
   "source": [
    "mcapf=pd.DataFrame([(t,mcap[t]) for t in mcap],columns=['ticker','cap'])"
   ]
  },
  {
   "cell_type": "raw",
   "id": "2fdbaa64-9ad4-4b30-aa90-0133c6bfb0ac",
   "metadata": {},
   "source": [
    "ncapf=mcapf[mcapf['cap'].isna()==False]"
   ]
  },
  {
   "cell_type": "raw",
   "id": "0a59c50d-be9f-498e-b27a-9b4193005f36",
   "metadata": {},
   "source": [
    "ncapf"
   ]
  },
  {
   "cell_type": "raw",
   "id": "5dc55b12-82f2-4b25-b07e-19a12764bde6",
   "metadata": {},
   "source": [
    "caps=caps.dropna()"
   ]
  },
  {
   "cell_type": "raw",
   "id": "e4fb7be8-3d58-4c40-b5f8-d424aca5fcb3",
   "metadata": {},
   "source": [
    "capsn=pd.concat((caps,ncapf),axis=0)"
   ]
  },
  {
   "cell_type": "raw",
   "id": "850fb44b-c7c0-4055-8a7a-e578d349137e",
   "metadata": {},
   "source": [
    "capsn"
   ]
  },
  {
   "cell_type": "raw",
   "id": "92d8726a-1738-4321-84bd-ce8d784a1bcf",
   "metadata": {},
   "source": [
    "capsn.to_csv('../temp_data/capsn.csv',index=False)"
   ]
  },
  {
   "cell_type": "raw",
   "id": "8c500499-d500-435d-bc38-73d1ffadc7b6",
   "metadata": {},
   "source": [
    "Volatility estimates of all tickers using daily data for one year"
   ]
  },
  {
   "cell_type": "raw",
   "id": "d1e30ee6-1f53-4736-b561-1e12453ae39b",
   "metadata": {},
   "source": [
    "with open('./nsetickers.json') as f: nsetickers=json.load(f)"
   ]
  },
  {
   "cell_type": "raw",
   "id": "05c5982d-f14c-44c0-a7c0-605779890f15",
   "metadata": {},
   "source": [
    "caps=pd.read_csv('../temp_data/capsn.csv')"
   ]
  },
  {
   "cell_type": "raw",
   "id": "5e4d09b4-4292-4815-99b0-380c5a4882a0",
   "metadata": {},
   "source": [
    "caps.shape"
   ]
  },
  {
   "cell_type": "raw",
   "id": "cbeeebb7-a6ac-4dbe-9196-8e7fc15793e3",
   "metadata": {},
   "source": [
    "vols1=compute_vols(1,900)"
   ]
  },
  {
   "cell_type": "raw",
   "id": "914b032e-c80e-4132-b7ac-308ad1a728c1",
   "metadata": {},
   "source": [
    "vols1=vols1.dropna()"
   ]
  },
  {
   "cell_type": "raw",
   "id": "ba7e281b-495a-4c4b-8eef-82cf0aab3fbe",
   "metadata": {},
   "source": [
    "vols2=compute_vols(900,1808)"
   ]
  },
  {
   "cell_type": "raw",
   "id": "88924724-1f99-4601-80a2-105ff3ac445b",
   "metadata": {},
   "source": [
    "vols2=vols2.dropna()"
   ]
  },
  {
   "cell_type": "raw",
   "id": "83d40a01-5640-497d-a64a-65dda6dc4da2",
   "metadata": {},
   "source": [
    "vols=pd.concat((vols1,vols2),axis=0)"
   ]
  },
  {
   "cell_type": "raw",
   "id": "0e3751f1-4cc4-4904-b834-ee4ac1423b6a",
   "metadata": {},
   "source": [
    "vols.to_csv('../temp_data/vols.csv',index=False)"
   ]
  },
  {
   "cell_type": "raw",
   "id": "37180353-db30-4d08-9ad5-f75bb4bb0426",
   "metadata": {},
   "source": [
    "Combining market cap and volatility estimates for ranking stocks"
   ]
  },
  {
   "cell_type": "raw",
   "id": "bee6aad8-fbbe-44e1-8f99-49e7e9b94c6e",
   "metadata": {},
   "source": [
    "capvol=pd.merge(caps,vols,on='ticker',how='inner')"
   ]
  },
  {
   "cell_type": "raw",
   "id": "908a28fe-31c8-46f9-aff7-8297a39912f5",
   "metadata": {},
   "source": [
    "from scipy.stats import zscore"
   ]
  },
  {
   "cell_type": "raw",
   "id": "ce5f5fd0-0127-4a08-8308-434f749f39f7",
   "metadata": {},
   "source": [
    "df,col=capvol,'cap'\n",
    "df['z'+col]=(df['cap'] - df['cap'].mean())/df['cap'].std()"
   ]
  },
  {
   "cell_type": "raw",
   "id": "0461e124-4b18-4b22-afb0-a0c42f762ada",
   "metadata": {},
   "source": [
    "df,col=capvol,'vol'\n",
    "df['z'+col]=(df[col] - df[col].mean())/df[col].std()"
   ]
  },
  {
   "cell_type": "raw",
   "id": "ac125f36-54e8-441d-9eef-6cd66a908865",
   "metadata": {},
   "source": [
    "capvol['azcap']=abs(capvol['zcap'])\n",
    "capvol['azvol']=abs(capvol['zvol'])"
   ]
  },
  {
   "cell_type": "raw",
   "id": "75d15f59-82a1-4ba0-93c9-3ae9e30bbcc8",
   "metadata": {},
   "source": [
    "capvol['score']=capvol['azcap']+capvol['azvol']"
   ]
  },
  {
   "cell_type": "raw",
   "id": "bc3fe46c-79aa-4f3b-a50e-ecf366ded1d3",
   "metadata": {},
   "source": [
    "capvol=capvol.sort_values('score',ascending=False)"
   ]
  },
  {
   "cell_type": "raw",
   "id": "267d0cfe-a05a-4d72-adda-1f140fbdfd03",
   "metadata": {},
   "source": [
    "capvol.to_csv('../temp_data/capvol.csv',index=False)\n",
    "#use top N from capvol as tickers in feed for BackFeed and LiveFeed"
   ]
  },
  {
   "cell_type": "raw",
   "id": "c025a261-7447-4a8e-b096-639f2152e607",
   "metadata": {},
   "source": [
    "# How many to use?\n",
    "delay,topk=10,5\n",
    "# For live max N\n",
    "maxN_live=(2000-topk*60*60/delay)/2\n",
    "# For backFeed with nd*nw days:\n",
    "nw,nd=2,5\n",
    "maxN_sim=2000/(nw*nd*2)\n",
    "print(maxN_live,maxN_sim)"
   ]
  },
  {
   "cell_type": "raw",
   "id": "2b73b69b-1a95-420c-86b8-83a40b76c03b",
   "metadata": {},
   "source": [
    "Top 100 and top 50 tickers by cap + volatility z=scores"
   ]
  },
  {
   "cell_type": "raw",
   "id": "2eb2a9c8-34bc-488e-9aba-8775ff66e7a5",
   "metadata": {},
   "source": [
    "Get rid of zero cap or zero vol "
   ]
  },
  {
   "cell_type": "raw",
   "id": "7605e4dc-4ec3-4b7c-9b4f-55c7a5e23999",
   "metadata": {},
   "source": [
    "capvol=pd.read_csv('../temp_data/capvol.csv')"
   ]
  },
  {
   "cell_type": "raw",
   "id": "aeef58d1-c0c2-4f19-a9dc-0db44495c5be",
   "metadata": {},
   "source": [
    "dropidx=capvol.loc[(capvol['cap']==0.)|(capvol['vol']==0.)].index.values"
   ]
  },
  {
   "cell_type": "raw",
   "id": "c17c5086-00af-432c-baa2-42f925e2ee6c",
   "metadata": {},
   "source": [
    "capvol=capvol.drop(dropidx)"
   ]
  },
  {
   "cell_type": "raw",
   "id": "b3bdf7f2-6891-4686-8b45-1806fcdae40e",
   "metadata": {},
   "source": [
    "capvol.iloc[0:100].to_csv('../temp_data/capvol100.csv',index=False)"
   ]
  },
  {
   "cell_type": "raw",
   "id": "ba0bbe03-b054-4a40-aba5-c3b69208c735",
   "metadata": {},
   "source": [
    "capvol.iloc[0:50].to_csv('../temp_data/capvol50.csv',index=False)"
   ]
  },
  {
   "cell_type": "raw",
   "id": "d0d7ca3e-14f0-4536-9393-94ff534427ad",
   "metadata": {},
   "source": [
    "Test Feeds"
   ]
  },
  {
   "cell_type": "raw",
   "id": "9bfbc584-0ff5-4ba1-a343-d62163710aa4",
   "metadata": {},
   "source": [
    "capvol100=pd.read_csv('../temp_data/capvol100.csv')"
   ]
  },
  {
   "cell_type": "raw",
   "id": "14dcb957-766e-45d4-ab24-39bade29e673",
   "metadata": {},
   "source": [
    "tickers=list(capvol100['ticker'].values)"
   ]
  },
  {
   "cell_type": "raw",
   "id": "94d06d38-6a05-447d-87b8-4ef1aa2e390d",
   "metadata": {
    "tags": []
   },
   "source": [
    "feed=LiveFeed(tickers=tickers)"
   ]
  },
  {
   "cell_type": "raw",
   "id": "f85e5cef-b39f-4fb3-800a-1d85e945efa9",
   "metadata": {},
   "source": [
    "feed.tickers"
   ]
  },
  {
   "cell_type": "code",
   "execution_count": null,
   "id": "67a42110-c974-4af5-a6fb-85982263a42b",
   "metadata": {},
   "outputs": [],
   "source": []
  }
 ],
 "metadata": {
  "kernelspec": {
   "display_name": "Python 3 (ipykernel)",
   "language": "python",
   "name": "python3"
  },
  "language_info": {
   "codemirror_mode": {
    "name": "ipython",
    "version": 3
   },
   "file_extension": ".py",
   "mimetype": "text/x-python",
   "name": "python",
   "nbconvert_exporter": "python",
   "pygments_lexer": "ipython3",
   "version": "3.8.12"
  }
 },
 "nbformat": 4,
 "nbformat_minor": 5
}
