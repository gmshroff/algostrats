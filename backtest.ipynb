{
 "cells": [
  {
   "cell_type": "code",
   "execution_count": null,
   "id": "93c8d808-434f-4d9f-ab78-6efa47a1906a",
   "metadata": {
    "id": "0e656fa2-428a-47ce-91de-6430f202c466"
   },
   "outputs": [],
   "source": [
    "import pandas as pd\n",
    "import numpy as np\n",
    "import import_ipynb\n",
    "import anvil.server"
   ]
  },
  {
   "cell_type": "code",
   "execution_count": null,
   "id": "906032d0-885c-42fc-814f-92486e18095e",
   "metadata": {},
   "outputs": [],
   "source": [
    "from tqdm.notebook import tqdm"
   ]
  },
  {
   "cell_type": "code",
   "execution_count": null,
   "id": "aca94e7d-9e59-4fc3-88a7-e96532c4cbe4",
   "metadata": {},
   "outputs": [],
   "source": [
    "from feeds import BackFeed,LiveFeed,DataFeed,clean_feed\n",
    "from featfuncs import add_addl_features_feed,add_sym_feature_feed"
   ]
  },
  {
   "cell_type": "code",
   "execution_count": null,
   "id": "005f3e11-f1c8-406e-9abe-cae360b37eec",
   "metadata": {},
   "outputs": [],
   "source": [
    "from feed_env import FeedEnv, Episode"
   ]
  },
  {
   "cell_type": "code",
   "execution_count": null,
   "id": "be3141fe-400d-4392-abc4-e82e56905e2b",
   "metadata": {},
   "outputs": [],
   "source": [
    "from ipynb.fs.defs.scanner import compute_gaps"
   ]
  },
  {
   "cell_type": "code",
   "execution_count": 2,
   "id": "db8b85c3-4056-4012-8b01-57b15fe9ffe3",
   "metadata": {},
   "outputs": [],
   "source": [
    "class Backtest():\n",
    "    def __init__(self,feed,tickers=None,add_features=True,\n",
    "                 target=.05,stop=.02,txcost=.001,remote=False,\n",
    "                 data_cols=None,rpcname=None,loc_exit=True,rem_exit=False,\n",
    "                 scan=True,topk=5,deploy=True,save_dfs=False,save_func=None):\n",
    "        if add_features:\n",
    "            for t in tickers: clean_feed(feed,t)\n",
    "            add_addl_features_feed(feed,tickers=tickers,drop_ta=False)\n",
    "            add_sym_feature_feed(feed,tickers)\n",
    "        self.save_func=save_func\n",
    "        self.save_dfs=save_dfs\n",
    "        self.deploy=deploy\n",
    "        self.feed=feed\n",
    "        self.feed.set_datesQ()\n",
    "        self.feed.init_counters()\n",
    "        self.results={}\n",
    "        self.returns={}\n",
    "        self.total=0\n",
    "        self.target=target\n",
    "        self.stop=stop\n",
    "        self.txcost=txcost\n",
    "        self.remote=remote\n",
    "        self.loc_exit=loc_exit\n",
    "        self.rem_exit=rem_exit\n",
    "        self.data_cols=data_cols\n",
    "        if self.remote: \n",
    "            anvil.server.connect(\"STKYCIXUMGFV2CURGMCMOFUV-MBK5ZXFC4MCKYKOE\")\n",
    "            self.model_type='rpc'\n",
    "        else: self.model_type='none'\n",
    "        self.rpcname=rpcname\n",
    "        self.scan=scan\n",
    "        self.topk=topk\n",
    "        if self.scan: \n",
    "            self.tickersD=compute_gaps(self.feed,self.topk)\n",
    "            self.gaptickers=[list(self.tickersD[d]['ticker'].values) for d in self.tickersD]\n",
    "            self.gaptickers=list(set(sum(self.gaptickers,[])))\n",
    "    def run_all(self,tickers=None,model=None,verbose=False):\n",
    "        if self.scan:\n",
    "            for t in self.gaptickers: \n",
    "                #clean_feed(self.feed,t)\n",
    "                self.results[t]={}\n",
    "                self.returns[t]=0\n",
    "            for date in tqdm(self.tickersD):\n",
    "                for ticker in tqdm(self.tickersD[date]['ticker'].values):\n",
    "                    self.run(ticker,model=model,date=date,verbose=verbose)\n",
    "        else:\n",
    "            for ticker in tqdm(tickers):\n",
    "                #clean_feed(self.feed,ticker)\n",
    "                self.results[ticker]={}\n",
    "                self.returns[ticker]=0\n",
    "                self.run(ticker,model=model,verbose=verbose)\n",
    "    def run(self,ticker,model=None,date=None,verbose=False):\n",
    "        env=FeedEnv(self.feed,ticker=ticker,\n",
    "                    target=self.target,stoploss=self.stop,\n",
    "                    txcost=self.txcost)\n",
    "        self.env=env\n",
    "        env.set_state_type('dict')\n",
    "        if self.remote==True:\n",
    "            env.set_state_cols(self.data_cols)\n",
    "            episode=Episode(env,model_type=self.model_type,remote=True,\n",
    "                            rpcname=self.rpcname,rem_exit=self.rem_exit,deploy=self.deploy)\n",
    "        else:\n",
    "            env.set_state_cols(model.data_cols)\n",
    "            episode=Episode(env,policy=model,loc_exit=self.loc_exit,\n",
    "                            deploy=self.deploy,verbose=verbose,save_func=self.save_func)\n",
    "        env.set_episode(episode)\n",
    "        if self.scan: dates=[date]\n",
    "        else: dates=tqdm(self.feed.data[ticker].Date.unique()[1:])\n",
    "        for date in dates:\n",
    "            env.set_date(date=date)\n",
    "            self.feed.set_datesQ()\n",
    "            self.feed.init_counters(date,tickers=[ticker])\n",
    "            tot,rews,acts,dfs=episode.run_episode()\n",
    "            self.results[ticker][date]={'tot':tot,'rew':rews,'acts':acts}\n",
    "            if self.save_dfs:self.results[ticker][date]['dfs']=dfs\n",
    "            self.returns[ticker]+=tot\n",
    "            self.total+=tot\n",
    "            env.reset()      "
   ]
  },
  {
   "cell_type": "code",
   "execution_count": null,
   "id": "faabdc14-4921-4a77-bd9c-4efaa8f0c85f",
   "metadata": {},
   "outputs": [],
   "source": []
  },
  {
   "cell_type": "markdown",
   "id": "69c861c1-505e-4c58-bd31-9b53affcb73f",
   "metadata": {},
   "source": [
    "# Experiments"
   ]
  },
  {
   "cell_type": "raw",
   "id": "b871ec06-a7fa-4564-9177-1bd3270d8f1d",
   "metadata": {},
   "source": [
    "TGROUPL=[['TCS.NS','WIPRO.NS'],\n",
    "         ['BANKINDIA.NS','SBIN.NS','KOTAKBANK.NS'],\n",
    "         ['ASHOKLEY.NS','TATAMOTORS.NS','MARUTI.NS'],\n",
    "        ['CIPLA.NS','SUNPHARMA.NS','ZYDUSWELL.NS'],\n",
    "        ['JKCEMENT.NS','HDFC.NS','KAJARIACER.NS'],\n",
    "        ['MARUTI.NS']]\n",
    "all_tickers=list(set(sum(TGROUPL,[])))"
   ]
  },
  {
   "cell_type": "raw",
   "id": "9345038e-fe15-4216-adf4-60075d3ae164",
   "metadata": {},
   "source": [
    "momStrat=MomStrat()"
   ]
  },
  {
   "cell_type": "raw",
   "id": "af796062-4d8e-4e0f-8d94-3fa872f5fdae",
   "metadata": {},
   "source": [
    "momStrat.data_cols"
   ]
  },
  {
   "cell_type": "raw",
   "id": "617f1613-ad9f-4de2-8089-48e9cb0ccdbb",
   "metadata": {},
   "source": [
    "mlStrat=MLStrat()"
   ]
  },
  {
   "cell_type": "raw",
   "id": "fb7b169e-79f8-4ed6-8261-25a885b101ae",
   "metadata": {},
   "source": [
    "rppo=RecurrentPPO(hidden_dim=10, num_layers=1, policy_type=\"lstm\", learning_rate=0.0005, gamma= 0.99, lmbda= 0.8, eps_clip = 0.1, epochs= 10)"
   ]
  },
  {
   "cell_type": "raw",
   "id": "2ec864cb-fb0d-4172-a5d2-7c7f39090e2e",
   "metadata": {},
   "source": [
    "fuzStrat=FuzzyStrat()"
   ]
  },
  {
   "cell_type": "raw",
   "id": "261aa4c6-91a7-4ccc-9b21-17e8ac59db6b",
   "metadata": {},
   "source": [
    "fuzStrat.add_rule('Rule1',rule1_ed,kwargs={'ifscale':.5})"
   ]
  },
  {
   "cell_type": "raw",
   "id": "487cc303-9378-4bd8-b8a1-5540aefea90f",
   "metadata": {},
   "source": [
    "fuzStrat.add_exit_long_rule('Exit1Long',exit1_long_ed,kwargs={'ifscale':.5})"
   ]
  },
  {
   "cell_type": "raw",
   "id": "1a726bde-46ca-40d8-a3d8-b6d2456bb3f1",
   "metadata": {},
   "source": [
    "fuzStrat.add_exit_short_rule('Exit1Short',exit1_short_ed,kwargs={'ifscale':.5})"
   ]
  },
  {
   "cell_type": "raw",
   "id": "a7a93ee6-0591-4302-84b9-0af610fe1c9b",
   "metadata": {},
   "source": [
    "# fuzStrat.add_rule('Rule2',rule2_ed,kwargs={'w':15,'ifscale':.05,'thscale':1.0})"
   ]
  },
  {
   "cell_type": "raw",
   "id": "f9743d84-d6a2-4e30-8ea1-98b71fb38f0e",
   "metadata": {},
   "source": [
    "tickers=['TCS.NS']"
   ]
  },
  {
   "cell_type": "raw",
   "id": "6cbc6625-532c-4f11-b384-e25a73e543e8",
   "metadata": {},
   "source": [
    "tickers=all_tickers"
   ]
  },
  {
   "cell_type": "raw",
   "id": "7408fe0e-e175-4f7e-b1a3-385133d38452",
   "metadata": {},
   "source": [
    "feed=BackFeed(tickers=tickers,nw=4,nd=5,delay=0)"
   ]
  },
  {
   "cell_type": "raw",
   "id": "3ac28d5f-a934-45d5-8f00-b6ab4972fddb",
   "metadata": {},
   "source": [
    "DATAFILE='~/DataLocal/algo_fin_new/augdata_03-Feb-2022.csv'\n",
    "df=pd.read_csv(DATAFILE)"
   ]
  },
  {
   "cell_type": "raw",
   "id": "a3328db0-e089-4436-905f-0810936e80e4",
   "metadata": {},
   "source": [
    "df.Date.unique()"
   ]
  },
  {
   "cell_type": "raw",
   "id": "8b600671-9913-43a8-b450-13f5ae4f812c",
   "metadata": {},
   "source": [
    "df1=df.loc[(df['Date']=='06-Jan-2022')|(df['Date']=='07-Jan-2022')|(df['Date']=='10-Jan-2022')]"
   ]
  },
  {
   "cell_type": "raw",
   "id": "45c76bcd-61f3-4a91-8481-98b31f7e0c86",
   "metadata": {},
   "source": [
    "dataFeed=DataFeed(tickers=list(df.ticker.unique()[0:10]),dfgiven=True,df=df,delay=0)"
   ]
  },
  {
   "cell_type": "raw",
   "id": "62894b96-f117-4282-ad87-4d0918ffb27e",
   "metadata": {},
   "source": [
    "add_addl_features_feed(feed,tickers=feed.tickers,drop_ta=False)\n",
    "add_sym_feature_feed(feed,list(feed.tickers))"
   ]
  },
  {
   "cell_type": "raw",
   "id": "63b0a5a7-16e1-48b5-a66f-fbb04d351b9c",
   "metadata": {},
   "source": [
    "feed=dataFeed"
   ]
  },
  {
   "cell_type": "raw",
   "id": "39a9253f-37dd-40d6-8753-cd23fad539c6",
   "metadata": {},
   "source": [
    "bt0=Backtest(feed,tickers=feed.tickers,add_features=True,target=.02,stop=.01,txcost=0.001,\n",
    "            loc_exit=True,scan=False,topk=3)"
   ]
  },
  {
   "cell_type": "raw",
   "id": "68250023-5da4-42a1-aad6-e1a154e151ef",
   "metadata": {},
   "source": [
    "bt0.run_all(tickers=bt0.feed.tickers,model=momStrat)"
   ]
  },
  {
   "cell_type": "raw",
   "id": "9cfae356-6fed-4aea-be36-1efb795f3288",
   "metadata": {},
   "source": [
    "bt0.stop,bt0.target=.01,.02"
   ]
  },
  {
   "cell_type": "raw",
   "id": "f9a33ab7-1cab-407a-bae0-e657303358a2",
   "metadata": {},
   "source": [
    "bt0.stop,bt0.target=1,1"
   ]
  },
  {
   "cell_type": "raw",
   "id": "a85d81ce-cd8b-448d-b02f-b10915c4c706",
   "metadata": {},
   "source": [
    "bt0.run_all(tickers=tickers,model=fuzStrat)"
   ]
  },
  {
   "cell_type": "raw",
   "id": "935bf24a-cab5-4386-9c25-58463c3eed34",
   "metadata": {},
   "source": [
    "bt0.run_all(model=fuzStrat)"
   ]
  },
  {
   "cell_type": "raw",
   "id": "12e83479-dad0-45f1-8f74-4117146c6063",
   "metadata": {},
   "source": [
    "bt0.run_all(model=mlStrat)"
   ]
  },
  {
   "cell_type": "raw",
   "id": "5f749e3a-f7ed-4ea7-9a46-9902c32a5a89",
   "metadata": {},
   "source": [
    "fuzStrat.factor=1"
   ]
  },
  {
   "cell_type": "raw",
   "id": "0f172591-0fc4-4ec5-b9d4-848d53a4196c",
   "metadata": {},
   "source": [
    "bt=Backtest(feed,tickers=feed.tickers,add_features=True,target=.01,stop=.005,txcost=0.001,\n",
    "            remote=True,data_cols=['Close'],rpcname='s0_at_a_dot_edu',rem_exit=False)"
   ]
  },
  {
   "cell_type": "raw",
   "id": "28b2abdc-ac96-4cb5-ac7b-b67a59c46065",
   "metadata": {},
   "source": [
    "%%time\n",
    "bt.run_all(tickers=bt.feed.tickers)"
   ]
  },
  {
   "cell_type": "raw",
   "id": "186b1f95-ace5-433e-923c-b560b42d8a84",
   "metadata": {},
   "source": [
    "bt0.results"
   ]
  },
  {
   "cell_type": "raw",
   "id": "1e4840a3-b05c-48bc-a8c6-524c03465424",
   "metadata": {},
   "source": [
    "bt0.returns"
   ]
  },
  {
   "cell_type": "raw",
   "id": "a1df3d8a-c005-4a9b-9575-4be06770d26a",
   "metadata": {},
   "source": [
    "bt0.returns"
   ]
  },
  {
   "cell_type": "code",
   "execution_count": null,
   "id": "b6a7ccf5-6a5b-4498-adb9-4d673a298dba",
   "metadata": {},
   "outputs": [],
   "source": []
  }
 ],
 "metadata": {
  "kernelspec": {
   "display_name": "Python 3 (ipykernel)",
   "language": "python",
   "name": "python3"
  },
  "language_info": {
   "codemirror_mode": {
    "name": "ipython",
    "version": 3
   },
   "file_extension": ".py",
   "mimetype": "text/x-python",
   "name": "python",
   "nbconvert_exporter": "python",
   "pygments_lexer": "ipython3",
   "version": "3.8.12"
  }
 },
 "nbformat": 4,
 "nbformat_minor": 5
}
