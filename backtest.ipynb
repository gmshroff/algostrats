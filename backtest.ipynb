{
 "cells": [
  {
   "cell_type": "code",
   "execution_count": 3,
   "id": "93c8d808-434f-4d9f-ab78-6efa47a1906a",
   "metadata": {
    "id": "0e656fa2-428a-47ce-91de-6430f202c466"
   },
   "outputs": [],
   "source": [
    "import pandas as pd\n",
    "import numpy as np\n",
    "import import_ipynb\n",
    "import anvil.server"
   ]
  },
  {
   "cell_type": "code",
   "execution_count": null,
   "id": "906032d0-885c-42fc-814f-92486e18095e",
   "metadata": {},
   "outputs": [],
   "source": [
    "from tqdm.notebook import tqdm"
   ]
  },
  {
   "cell_type": "code",
   "execution_count": 1,
   "id": "b1331464-6196-40ca-8ae5-daa3a9cac5cd",
   "metadata": {},
   "outputs": [],
   "source": [
    "tqdm=lambda x: x"
   ]
  },
  {
   "cell_type": "code",
   "execution_count": null,
   "id": "aca94e7d-9e59-4fc3-88a7-e96532c4cbe4",
   "metadata": {},
   "outputs": [],
   "source": [
    "from feeds import BackFeed,LiveFeed,DataFeed,clean_feed\n",
    "from featfuncs import add_addl_features_feed,add_sym_feature_feed"
   ]
  },
  {
   "cell_type": "code",
   "execution_count": null,
   "id": "005f3e11-f1c8-406e-9abe-cae360b37eec",
   "metadata": {},
   "outputs": [],
   "source": [
    "from feed_env import FeedEnv, Episode"
   ]
  },
  {
   "cell_type": "code",
   "execution_count": null,
   "id": "be3141fe-400d-4392-abc4-e82e56905e2b",
   "metadata": {},
   "outputs": [],
   "source": [
    "from ipynb.fs.defs.scanner import compute_gaps"
   ]
  },
  {
   "cell_type": "code",
   "execution_count": 1,
   "id": "89897cc2-8acf-437d-bb1a-40c8947061e8",
   "metadata": {},
   "outputs": [],
   "source": [
    "try:\n",
    "    with open('/Users/a112956/MyCode/algo_fin_root/algo_fin_src/anvilcode.txt','r') as f: \n",
    "        CODE=f.read()\n",
    "except:\n",
    "    CODE=''"
   ]
  },
  {
   "cell_type": "code",
   "execution_count": null,
   "id": "db8b85c3-4056-4012-8b01-57b15fe9ffe3",
   "metadata": {},
   "outputs": [],
   "source": [
    "class Backtest():\n",
    "    def __init__(self,feed,tickers=None,add_features=True,\n",
    "                 target=.05,stop=.02,txcost=.001,remote=False,\n",
    "                 data_cols=None,rpcname=None,loc_exit=True,rem_exit=False,\n",
    "                 scan=True,topk=5,deploy=True,save_dfs=False,save_func=None):\n",
    "        if add_features:\n",
    "            for t in tickers: clean_feed(feed,t)\n",
    "            add_addl_features_feed(feed,tickers=tickers,drop_ta=False)\n",
    "            add_sym_feature_feed(feed,tickers)\n",
    "        self.save_func=save_func\n",
    "        self.save_dfs=save_dfs\n",
    "        self.deploy=deploy\n",
    "        self.feed=feed\n",
    "        self.feed.set_datesQ()\n",
    "        self.feed.init_counters()\n",
    "        self.results={}\n",
    "        self.returns={}\n",
    "        self.total=0\n",
    "        self.target=target\n",
    "        self.stop=stop\n",
    "        self.txcost=txcost\n",
    "        self.remote=remote\n",
    "        self.loc_exit=loc_exit\n",
    "        self.rem_exit=rem_exit\n",
    "        self.data_cols=data_cols\n",
    "        if self.remote: \n",
    "            anvil.server.connect(CODE)\n",
    "            self.model_type='rpc'\n",
    "        else: self.model_type='none'\n",
    "        self.rpcname=rpcname\n",
    "        self.scan=scan\n",
    "        self.topk=topk\n",
    "        if self.scan: \n",
    "            self.tickersD=compute_gaps(self.feed,self.topk)\n",
    "            self.gaptickers=[list(self.tickersD[d]['ticker'].values) for d in self.tickersD]\n",
    "            self.gaptickers=list(set(sum(self.gaptickers,[])))\n",
    "    def run_all(self,tickers=None,model=None,verbose=False):\n",
    "        if self.scan:\n",
    "            for t in self.gaptickers: \n",
    "                #clean_feed(self.feed,t)\n",
    "                self.results[t]={}\n",
    "                self.returns[t]=0\n",
    "            for date in tqdm(self.tickersD):\n",
    "                for ticker in tqdm(self.tickersD[date]['ticker'].values):\n",
    "                    self.run(ticker,model=model,date=date,verbose=verbose)\n",
    "        else:\n",
    "            for ticker in tqdm(tickers):\n",
    "                #clean_feed(self.feed,ticker)\n",
    "                self.results[ticker]={}\n",
    "                self.returns[ticker]=0\n",
    "                self.run(ticker,model=model,verbose=verbose)\n",
    "    def run(self,ticker,model=None,date=None,verbose=False):\n",
    "        if 'agent' in model.__dict__: model.scantickers=[ticker]\n",
    "        env=FeedEnv(self.feed,ticker=ticker,\n",
    "                    target=self.target,stoploss=self.stop,\n",
    "                    txcost=self.txcost)\n",
    "        self.env=env\n",
    "        env.set_state_type('dict')\n",
    "        if self.remote==True:\n",
    "            env.set_state_cols(self.data_cols)\n",
    "            episode=Episode(env,model_type=self.model_type,remote=True,\n",
    "                            rpcname=self.rpcname,rem_exit=self.rem_exit,deploy=self.deploy)\n",
    "        else:\n",
    "            env.set_state_cols(model.data_cols)\n",
    "            episode=Episode(env,policy=model,loc_exit=self.loc_exit,\n",
    "                            deploy=self.deploy,verbose=verbose,save_func=self.save_func)\n",
    "        env.set_episode(episode)\n",
    "        if self.scan: dates=[date]\n",
    "        else: dates=tqdm(self.feed.data[ticker].Date.unique()[1:])\n",
    "        for date in dates:\n",
    "            env.set_date(date=date)\n",
    "            self.feed.set_datesQ()\n",
    "            self.feed.init_counters(date,tickers=[ticker])\n",
    "            tot,rews,acts,dfs=episode.run_episode()\n",
    "            self.results[ticker][date]={'tot':tot,'rew':rews,'acts':acts}\n",
    "            if self.save_dfs:self.results[ticker][date]['dfs']=dfs\n",
    "            self.returns[ticker]+=tot\n",
    "            self.total+=tot\n",
    "            env.reset()      "
   ]
  },
  {
   "cell_type": "markdown",
   "id": "69c861c1-505e-4c58-bd31-9b53affcb73f",
   "metadata": {},
   "source": [
    "# Experiments"
   ]
  }
 ],
 "metadata": {
  "kernelspec": {
   "display_name": "Python 3 (ipykernel)",
   "language": "python",
   "name": "python3"
  },
  "language_info": {
   "codemirror_mode": {
    "name": "ipython",
    "version": 3
   },
   "file_extension": ".py",
   "mimetype": "text/x-python",
   "name": "python",
   "nbconvert_exporter": "python",
   "pygments_lexer": "ipython3",
   "version": "3.8.12"
  }
 },
 "nbformat": 4,
 "nbformat_minor": 5
}
