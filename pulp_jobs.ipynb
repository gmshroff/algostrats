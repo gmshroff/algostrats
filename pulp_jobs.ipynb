{
 "cells": [
  {
   "cell_type": "code",
   "execution_count": 1,
   "id": "5c9aee09-47ef-4933-8d25-d74d398b86d8",
   "metadata": {},
   "outputs": [],
   "source": [
    "import numpy as np\n",
    "import pulp\n",
    "from pulp.apis import PULP_CBC_CMD"
   ]
  },
  {
   "cell_type": "markdown",
   "id": "db062482-2b0a-4dd9-9951-ad98708a0394",
   "metadata": {},
   "source": [
    "## Jobshop solver using PULP\n",
    "Each job has a start time, end time and reward (not cost here).\n",
    "Objective is to maximize reward by choosing which jobs to do such that there is no\n",
    "overlap and they complete in the specified time. Note: in this formulation start times\n",
    "are fixed, i.e., each job has to start at the stipulated time (which can therefore default\n",
    "to a large value, e.g. 75)."
   ]
  },
  {
   "cell_type": "code",
   "execution_count": 13,
   "id": "d7ebef16-474d-4a6a-8163-2af8d2bd8c15",
   "metadata": {},
   "outputs": [],
   "source": [
    "class Jobs():\n",
    "    def __init__(self,T=75):\n",
    "        self.rL=[]\n",
    "        self.eL=[]\n",
    "        self.tL=[]\n",
    "        self.T=T\n",
    "        self.k=0\n",
    "        self.dL=[] #descriptions for use outside jobshop\n",
    "    def add_job(self,t,e,r,d=[]):\n",
    "        self.rL+=[r]\n",
    "        self.eL+=[e]\n",
    "        self.tL+=[t]\n",
    "        self.dL+=[d]\n",
    "        self.k=len(self.rL)\n",
    "        self.x=np.zeros(self.k)\n",
    "    def setup(self):\n",
    "        x=[]\n",
    "        for k in range(self.k):\n",
    "            x+=[pulp.LpVariable('x'+str(k), lowBound=0, cat='Integer')]\n",
    "        self.objective = pulp.LpProblem('Optimal Schedule', pulp.LpMaximize)\n",
    "        expr=0\n",
    "        tot_time=0\n",
    "        consL=[]\n",
    "        T=5\n",
    "        for i in range(self.k):\n",
    "            expr+=x[i]*self.rL[i]\n",
    "            tot_time+=x[i]*(self.eL[i]-self.tL[i])\n",
    "            for j in range(self.k):\n",
    "                if self.tL[j]>=self.tL[i] and j is not i:\n",
    "                    consL+=[x[i]*self.eL[i]<=x[j]*self.tL[j]+(1-x[j])*self.T]\n",
    "                if self.tL[j]<=self.tL[i] and j is not i:\n",
    "                    consL+=[x[j]*self.eL[j]<=x[i]*self.tL[i]+(1-x[i])*self.T]\n",
    "        self.objective+=expr\n",
    "        self.objective+=tot_time<=self.T\n",
    "        for c in consL:\n",
    "            self.objective+=c\n",
    "        for i in range(self.k):\n",
    "            self.objective+=x[i]<=1\n",
    "    def solve(self,verbose=False):\n",
    "        self.objective.solve(PULP_CBC_CMD(msg=verbose))\n",
    "    def get_soln(self,verbose=False):\n",
    "        if verbose: print('Optimal Solution: ')\n",
    "        for variable in self.objective.variables():\n",
    "            if verbose:print(variable.name, '=', variable.varValue)\n",
    "            self.x[int(variable.name[1:])]=variable.varValue\n",
    "        return self.x"
   ]
  },
  {
   "cell_type": "code",
   "execution_count": 14,
   "id": "5f9eb384-2ff8-4454-b2c2-a369ef50f3da",
   "metadata": {},
   "outputs": [
    {
     "data": {
      "text/plain": [
       "array([0., 0., 1., 0., 0.])"
      ]
     },
     "execution_count": 14,
     "metadata": {},
     "output_type": "execute_result"
    }
   ],
   "source": [
    "# # pulp.listSolvers(onlyAvailable=True)\n",
    "# # Example with 5 jobs\n",
    "# jobs=Jobs()\n",
    "# jobs.add_job(0,3,1)\n",
    "# jobs.add_job(0,2,-1)\n",
    "# jobs.add_job(1,4,5)\n",
    "# jobs.add_job(3,5,3)\n",
    "# jobs.add_job(2,4,1)\n",
    "# jobs.setup()\n",
    "# jobs.solve()\n",
    "# jobs.get_soln()"
   ]
  },
  {
   "cell_type": "code",
   "execution_count": 136,
   "id": "7476fd0d-f4bd-4cb9-9c53-881c771f50a5",
   "metadata": {
    "tags": []
   },
   "outputs": [],
   "source": [
    "# # import PuLP\n",
    "# import pulp\n",
    "\n",
    "# # define decision variables\n",
    "# x1 = pulp.LpVariable('x1', lowBound=0, cat='Integer')\n",
    "# x2 = pulp.LpVariable('x2', lowBound=0, cat='Integer')\n",
    "\n",
    "# # define objective function\n",
    "# objective = pulp.LpProblem('Maximize Profit', pulp.LpMaximize)\n",
    "# objective += 10 * x1 + 20 * x2\n",
    "\n",
    "# # define constraints\n",
    "# constraint1 = 10 * x1 + 15 * x2 <= 150\n",
    "# constraint2 = x1 + x2 <= 20\n",
    "\n",
    "# # add constraints to the objective\n",
    "# objective += constraint1\n",
    "# objective += constraint2\n",
    "\n",
    "# # solve the problem\n",
    "# objective.solve()\n",
    "\n",
    "# # print results\n",
    "# print('Optimal Solution: ')\n",
    "# for variable in objective.variables():\n",
    "#     print(variable.name, '=', variable.varValue)\n",
    "\n",
    "# print('Optimal Profit = ', pulp.value(objective.objective))"
   ]
  },
  {
   "cell_type": "code",
   "execution_count": null,
   "id": "762b2d60-12bf-46d4-b06c-20bd8f254995",
   "metadata": {},
   "outputs": [],
   "source": []
  }
 ],
 "metadata": {
  "kernelspec": {
   "display_name": "Python 3 (ipykernel)",
   "language": "python",
   "name": "python3"
  },
  "language_info": {
   "codemirror_mode": {
    "name": "ipython",
    "version": 3
   },
   "file_extension": ".py",
   "mimetype": "text/x-python",
   "name": "python",
   "nbconvert_exporter": "python",
   "pygments_lexer": "ipython3",
   "version": "3.8.12"
  }
 },
 "nbformat": 4,
 "nbformat_minor": 5
}
