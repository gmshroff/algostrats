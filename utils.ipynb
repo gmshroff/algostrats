{
 "cells": [
  {
   "cell_type": "markdown",
   "metadata": {},
   "source": [
    "# Dataset Generation"
   ]
  },
  {
   "cell_type": "code",
   "execution_count": 2,
   "metadata": {},
   "outputs": [],
   "source": [
    "import torch\n",
    "import numpy as np\n",
    "from torch.utils.data import Dataset\n",
    "import sklearn.datasets as skds\n",
    "from sklearn.model_selection import train_test_split\n",
    "from torch.utils.data import DataLoader\n",
    "import math\n",
    "from numpy import sin, pi\n",
    "# from matplotlib import pyplot as plt\n",
    "from torchvision.datasets import MNIST"
   ]
  },
  {
   "cell_type": "markdown",
   "metadata": {},
   "source": [
    "Data generation routines will return a MyDS dataset class of type torch.utils.Dataset"
   ]
  },
  {
   "cell_type": "code",
   "execution_count": 3,
   "metadata": {},
   "outputs": [],
   "source": [
    "class MyDS(Dataset):\n",
    "    def __init__(self, X,y):\n",
    "        self.samples = torch.Tensor(X)\n",
    "        self.labels = torch.LongTensor(y)\n",
    "        \n",
    "    def __len__(self):\n",
    "        return len(self.samples)\n",
    "\n",
    "    def __getitem__(self, idx):\n",
    "        return (self.samples[idx],self.labels[idx])"
   ]
  },
  {
   "cell_type": "markdown",
   "metadata": {},
   "source": [
    "Generate data in $\\mathcal{R}^n$ with $n$ features, a number of classes, prescribed class separation and clusters per class. Return datasets for training and testing data and data-loader for training data using prescribed batch size."
   ]
  },
  {
   "cell_type": "code",
   "execution_count": 4,
   "metadata": {},
   "outputs": [],
   "source": [
    "def euclideanDataset(n_samples=1000,n_classes=2,class_sep=2.0,n_features=5,batch_size=1):\n",
    "    X,y = skds.make_classification(n_samples=n_samples,n_classes=n_classes,\n",
    "                                   class_sep=class_sep,n_features=n_features, \n",
    "                                 n_informative=n_features,n_redundant=0,\n",
    "                                 n_repeated=0,n_clusters_per_class=1)\n",
    "    X_train,X_test,y_train,y_test = train_test_split(X,y)\n",
    "    ds = MyDS(X_train,y_train)\n",
    "    ds_hold = MyDS(X_test,y_test)\n",
    "    dsloader = torch.utils.data.DataLoader(dataset=ds,batch_size=batch_size,shuffle=True)\n",
    "    return ds,ds_hold,dsloader"
   ]
  },
  {
   "cell_type": "markdown",
   "metadata": {},
   "source": [
    "Generate samples from a sinwave $a$ sin$(f\\pi t)$ of scale $a$, frequency $f$ at intervals $t = i \\delta t$ "
   ]
  },
  {
   "cell_type": "code",
   "execution_count": 5,
   "metadata": {},
   "outputs": [],
   "source": [
    "class mysin():\n",
    "    def __init__(self,ampl = 1.0, freq=0.5, delta=0.1,phase=0.0):\n",
    "        self.f,self.d,self.a,self.p = freq, delta, ampl, phase\n",
    "        self.t = 0.0\n",
    "        return\n",
    "    def reset(self,t=0.0):\n",
    "        self.t = 0.0\n",
    "        return self.func()\n",
    "    def next(self):\n",
    "        val = self.func() \n",
    "        self.t += self.d\n",
    "        return val\n",
    "    def __call__(self,t):\n",
    "        old_t = self.t\n",
    "        self.t = t\n",
    "        val = self.func()\n",
    "        self.t = old_t\n",
    "        return val\n",
    "    def func(self):\n",
    "        return self.a * sin(pi*(self.f*self.t+self.p))\n",
    "    def series(self,n=10):\n",
    "        return np.array([self(t*self.d) for t in range(n)])\n",
    "    def set_phase(self,phase=0.0):\n",
    "        self.p = phase"
   ]
  },
  {
   "cell_type": "code",
   "execution_count": 6,
   "metadata": {},
   "outputs": [],
   "source": [
    "def sinmix(X,m):\n",
    "    w = []\n",
    "    for i in range(X.shape[0]):\n",
    "        s = np.zeros(m)\n",
    "        for j in [2*k for k in range(int(X.shape[1]/2))]:\n",
    "            if (j/2)%2 == 0: s+=mysin(freq=X[i,j],phase=1.5,ampl=X[i,j+1]).series(m)\n",
    "            elif (j/2)%2 == 1: s+=np.tanh(mysin(freq=X[i,j],phase=1.5,ampl=X[i,j+1]).series(m))\n",
    "        w+=[s]\n",
    "    return np.array(w)"
   ]
  },
  {
   "cell_type": "markdown",
   "metadata": {},
   "source": [
    "Random time-series = random frequency (f) and amplitude (a); random instance of a class = random phase (p) and length (l). We will generate n random clusters in 4D = {$f_1$,$a_1$,$f_2$,$a_2$}. For starters we will choose phase and length as constants and sum the two sine waves for each 4D vector to get a time series of fixed length."
   ]
  },
  {
   "cell_type": "code",
   "execution_count": 7,
   "metadata": {},
   "outputs": [],
   "source": [
    "def sinDataset(n_samples=10,n_classes=10,length=10,batch_size=1):\n",
    "    n_features = 4\n",
    "    X,y = skds.make_classification(n_samples=n_samples,n_classes=n_classes,\n",
    "                                   class_sep=4.0,n_features=n_features, \n",
    "                                 n_informative=n_features,n_redundant=0,\n",
    "                                 n_repeated=0,n_clusters_per_class=1)\n",
    "    X = X-X.min()+0.1\n",
    "    S = sinmix(X,length)\n",
    "    X_train,X_test,y_train,y_test = train_test_split(S,y)\n",
    "    ds = MyDS(X_train,y_train)\n",
    "    ds_hold = MyDS(X_test,y_test)\n",
    "    dsloader = torch.utils.data.DataLoader(dataset=ds,batch_size=batch_size,shuffle=False)\n",
    "    return ds,ds_hold,dsloader"
   ]
  },
  {
   "cell_type": "markdown",
   "metadata": {},
   "source": [
    "MNIST Dataset"
   ]
  },
  {
   "cell_type": "code",
   "execution_count": 8,
   "metadata": {},
   "outputs": [],
   "source": [
    "def mnist_data(batch_size=32,frac=1.0):\n",
    "    trainset = MNIST('./data', train=True, download=False)\n",
    "    X_train = trainset.data.numpy().reshape(60000, -1).astype(np.float) / 255\n",
    "    n_train = int(X_train.shape[0]*frac)\n",
    "    X_train = X_train[0:n_train]\n",
    "    y_train = trainset.targets\n",
    "    y_train = y_train[0:n_train]\n",
    "    testset = MNIST('./data', train=False, download=False)\n",
    "    X_test = testset.data.numpy().reshape(10000, -1).astype(np.float) / 255\n",
    "    y_test = testset.targets\n",
    "    ds = MyDS(X_train,y_train)\n",
    "    ds_hold = MyDS(X_test,y_test)\n",
    "    dsloader = torch.utils.data.DataLoader(dataset=ds,batch_size=batch_size,shuffle=True)\n",
    "    return ds,ds_hold,dsloader"
   ]
  },
  {
   "cell_type": "code",
   "execution_count": null,
   "metadata": {},
   "outputs": [],
   "source": []
  }
 ],
 "metadata": {
  "kernelspec": {
   "display_name": "Python 3 (ipykernel)",
   "language": "python",
   "name": "python3"
  },
  "language_info": {
   "codemirror_mode": {
    "name": "ipython",
    "version": 3
   },
   "file_extension": ".py",
   "mimetype": "text/x-python",
   "name": "python",
   "nbconvert_exporter": "python",
   "pygments_lexer": "ipython3",
   "version": "3.8.12"
  }
 },
 "nbformat": 4,
 "nbformat_minor": 4
}
