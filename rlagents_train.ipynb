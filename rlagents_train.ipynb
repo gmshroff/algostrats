{
 "cells": [
  {
   "cell_type": "code",
   "execution_count": null,
   "id": "a3661e04-dd85-468b-82a3-78a8656776d5",
   "metadata": {},
   "outputs": [],
   "source": [
    "# !pip install import_ipynb --quiet\n",
    "# !pip install anvil-uplink --quiet\n",
    "# !pip install yfinance --quiet\n",
    "# !pip install pandas_ta --quiet\n",
    "# !pip install ipynb --quiet\n",
    "# !pip install rpyc --quiet\n",
    "# !pip install stable-baselines3 --quiet\n",
    "# !pip install aspectlib"
   ]
  },
  {
   "cell_type": "code",
   "execution_count": null,
   "id": "2c37a089-17f2-41ca-9db2-a6dbf9b223a7",
   "metadata": {},
   "outputs": [],
   "source": [
    "# !git clone https://github.com/gmshroff/algostrats.git"
   ]
  },
  {
   "cell_type": "code",
   "execution_count": null,
   "id": "56b78587-dfff-4fb8-82e4-28a956965910",
   "metadata": {},
   "outputs": [],
   "source": [
    "# %cd algostrats"
   ]
  },
  {
   "cell_type": "code",
   "execution_count": null,
   "id": "b845872c-48f2-4622-9925-9246e444570b",
   "metadata": {},
   "outputs": [],
   "source": [
    "colab=False\n",
    "script=False\n",
    "if not colab: DATAPATH='~/DataLocal/algo_fin_new/five_min_data/'\n",
    "elif colab: DATAPATH='../data'"
   ]
  },
  {
   "cell_type": "markdown",
   "id": "6104b582-d222-4e95-8b2d-cb28f63c014f",
   "metadata": {},
   "source": [
    "Need to import algorithms from stable-baselines3"
   ]
  },
  {
   "cell_type": "code",
   "execution_count": null,
   "id": "490b5786-dc7a-4403-bfc6-9f5934ddcd96",
   "metadata": {},
   "outputs": [],
   "source": [
    "from stable_baselines3 import PPO,A2C,DQN\n",
    "from stable_baselines3.common.vec_env import StackedObservations\n",
    "from stable_baselines3.common.monitor import Monitor as Mon"
   ]
  },
  {
   "cell_type": "code",
   "execution_count": null,
   "id": "ee07310c-dd1c-4d26-b301-d329a01cd15c",
   "metadata": {},
   "outputs": [],
   "source": [
    "import warnings\n",
    "warnings.simplefilter(\"ignore\")"
   ]
  },
  {
   "cell_type": "code",
   "execution_count": null,
   "id": "d7889ded-dd8c-4c73-aadd-687cf98ddbb0",
   "metadata": {},
   "outputs": [],
   "source": [
    "import import_ipynb\n",
    "import pandas as pd\n",
    "import numpy as np\n",
    "import torch\n",
    "from datetime import datetime\n",
    "from datetime import datetime as dt\n",
    "from torch.utils.data import Dataset\n",
    "from sklearn.preprocessing import StandardScaler\n",
    "import pickle\n",
    "from threading import Thread\n",
    "import threading\n",
    "from IPython import display\n",
    "import time,getopt,sys,os"
   ]
  },
  {
   "cell_type": "code",
   "execution_count": null,
   "id": "27681588-e85b-4818-b7f9-9e8aca7d87cf",
   "metadata": {},
   "outputs": [],
   "source": [
    "from feeds import BackFeed,DataFeed\n",
    "from featfuncs import feat_aug,add_addl_features_feed,add_ta_features_feed,add_sym_feature_feed\n",
    "from featfuncs import add_global_indices_feed"
   ]
  },
  {
   "cell_type": "code",
   "execution_count": null,
   "id": "8da69070-9830-44a9-bd5d-0f9800a0c613",
   "metadata": {},
   "outputs": [],
   "source": [
    "from feed_env import Episode\n",
    "import aspectlib"
   ]
  },
  {
   "cell_type": "markdown",
   "id": "a9bf1f9c-6a1b-48c4-a162-db735c649a0f",
   "metadata": {},
   "source": [
    "### Trading strategies as agents\n",
    "\n",
    "RL(++)StratAgents imported from ruleagents<br>"
   ]
  },
  {
   "cell_type": "code",
   "execution_count": null,
   "id": "d7097885-4b48-4472-9f28-bde7d73c7c8e",
   "metadata": {},
   "outputs": [],
   "source": [
    "from rlagents import RLStratAgentDyn"
   ]
  },
  {
   "cell_type": "markdown",
   "id": "f05c2614-221c-4490-aa27-ab4e3e12bb5b",
   "metadata": {},
   "source": [
    "### Strategy Development: Training RLStratAgent using BackTestWorld"
   ]
  },
  {
   "cell_type": "code",
   "execution_count": null,
   "id": "6db830b3-32e5-4ac4-99e5-f077166076c8",
   "metadata": {},
   "outputs": [],
   "source": [
    "from backtest import Backtest\n",
    "from feeds import BackFeed,DataFeed\n",
    "from validation import Validate"
   ]
  },
  {
   "cell_type": "markdown",
   "id": "6d261917-c858-4430-80de-dcaaffb43b71",
   "metadata": {},
   "source": [
    "<b>Configuration for training RL model<b>"
   ]
  },
  {
   "cell_type": "code",
   "execution_count": null,
   "id": "e6d52550-8d0d-4c51-a135-b353b424c625",
   "metadata": {},
   "outputs": [],
   "source": [
    "algorithm=PPO\n",
    "synthetic=False #use synthetic data\n",
    "nd,nw=4,5 #for BackFeed"
   ]
  },
  {
   "cell_type": "code",
   "execution_count": null,
   "id": "da9716cf-64ff-49cb-80e6-5867b6f571c5",
   "metadata": {},
   "outputs": [],
   "source": [
    "if script:\n",
    "    try:\n",
    "        opts,args = getopt.getopt(sys.argv[1:],\"hl:f:d:m:s:w:t:p:\",[\"load=\",\"feed=\",\"datafile=\",\"modelname=\",\"synthetic\",\"weeks\",\"training_steps\",\"deploy\"])\n",
    "    except getopt.GetoptError:\n",
    "        print('rlagents_train.py -l <load:True/False> -f <scan:back/data> -d <datafile> -m <modelname> -s <synthetic> -w <weeks> -t <training_steps> -p <deploy>')\n",
    "        sys.exit(2)\n",
    "    load,feed,date,modelname=False,'back','01-Jan-2000','RLA1.pth'\n",
    "    training_steps=50000 # if less then n_steps then n_steps is used\n",
    "    deploy=True\n",
    "    date=datetime.today().strftime('%d-%b-%Y')\n",
    "    for opt, arg in opts:\n",
    "        if opt == \"-h\":\n",
    "            print('rlagents_train.py -l <load:True/False> -f <scan:back/data> -d <datafile> -m <modelname> -s <synthetic> -w <weeks> -t <training_steps> -p <deploy>')\n",
    "            sys.exit()\n",
    "        elif opt in (\"-l\", \"--load\"):\n",
    "            load = (lambda x: True if x=='True' else False)(arg)\n",
    "        elif opt in (\"-f\", \"--feed\"):\n",
    "            feed = (lambda x: 'data' if x=='data' else 'back')(arg)\n",
    "        elif opt in (\"-d\", \"--datafile\"):\n",
    "            datafile = arg.split('/')[-1]\n",
    "        elif opt in (\"-m\", \"--modelname\"):\n",
    "            modelname = arg\n",
    "        elif opt in (\"-s\", \"--synthetic\"):\n",
    "            synthetic = (lambda x: True if x=='True' else False)(arg)\n",
    "        elif opt in (\"-w\", \"--weeks\"):\n",
    "            nw = int(arg)\n",
    "        elif opt in (\"-t\", \"--training_steps\"):\n",
    "            training_steps=int(arg)\n",
    "        elif opt in (\"-p\", \"--deploy\"):\n",
    "            deploy = (lambda x: True if x=='True' else False)(arg)\n",
    "    if len(opts)==0: \n",
    "        print('rlagents_train.py -l <load:True/False> -f <scan:back/data> -d <datafile> -m <modelname> -s <synthetic> -w <weeks> -t <training_steps> -p <deploy>')\n",
    "        sys.exit()\n",
    "    print(f\"load:{load},feed:{feed},datafile:{datafile},modelname:{modelname},synthetic:{synthetic},weeks:{nw},training_steps:{training_steps},deploy:{deploy}\")\n",
    "    loadfeed=load\n",
    "    if feed=='data': datafeed=True\n",
    "    else: datafeed=False"
   ]
  },
  {
   "cell_type": "code",
   "execution_count": null,
   "id": "bf60db39-56f0-4a19-9874-6a75e04a82ee",
   "metadata": {},
   "outputs": [],
   "source": [
    "if not script:\n",
    "    loadfeed=False\n",
    "    datafeed=False\n",
    "    datafile='augdata_16-Dec-2022_5m.csv'\n",
    "    modelname='RLA1.pth' # replace with modelname if model to be saved to saved_models\n",
    "    date=datetime.today().strftime('%d-%b-%Y')\n",
    "    training_steps=200 # if less then n_steps then n_steps is used\n",
    "    deploy=True"
   ]
  },
  {
   "cell_type": "code",
   "execution_count": null,
   "id": "af987410-4258-4ad4-adb0-ac8cba49e4c7",
   "metadata": {},
   "outputs": [],
   "source": [
    "n_steps=200 # reduce for debugging only else 2048"
   ]
  },
  {
   "cell_type": "code",
   "execution_count": null,
   "id": "5a30cb1c-323b-49a4-a835-b725c0d2cffc",
   "metadata": {},
   "outputs": [],
   "source": [
    "def stringify(x):\n",
    "    return pd.to_datetime(x['Datetime']).strftime('%d-%b-%Y')"
   ]
  },
  {
   "cell_type": "code",
   "execution_count": null,
   "id": "0742b6ae-da3c-4d24-a392-762ca2433314",
   "metadata": {},
   "outputs": [],
   "source": [
    "import pickle\n",
    "if not loadfeed and not datafeed:\n",
    "    data=pd.read_csv('./capvol100.csv')\n",
    "    tickers=list(data.iloc[0:50]['ticker'].values)\n",
    "    print('Creating feed')\n",
    "    feed=BackFeed(tickers=tickers,nd=nd,nw=nw,interval='5m',synthetic=synthetic)\n",
    "    print('Processing feed')\n",
    "    add_addl_features_feed(feed,tickers=feed.tickers)\n",
    "    add_sym_feature_feed(feed,tickers=feed.tickers)\n",
    "    add_global_indices_feed(feed)\n",
    "    if not colab: \n",
    "        with open('../../temp_data/btfeed.pickle','wb') as f: pickle.dump(feed,f)\n",
    "    elif colab: \n",
    "        with open('/tmp/btfeed.pickle','wb') as f: pickle.dump(feed,f)\n",
    "elif loadfeed and not datafeed:\n",
    "    if not colab: \n",
    "        with open('../../temp_data/btfeed.pickle','rb') as f: feed=pickle.load(f)\n",
    "    elif colab: \n",
    "        with open('/tmp/btfeed.pickle','rb') as f: feed=pickle.load(f)"
   ]
  },
  {
   "cell_type": "code",
   "execution_count": null,
   "id": "4e98851e-d7ed-4c7a-89ff-5382091368cc",
   "metadata": {
    "tags": []
   },
   "outputs": [],
   "source": [
    "if not loadfeed and datafeed:\n",
    "    #DATAFILE=DATAPATH+'augdata_'+date+'_5m.csv'\n",
    "    DATAFILE=DATAPATH+datafile\n",
    "    print('Reading datafile')\n",
    "    df=pd.read_csv(DATAFILE)\n",
    "    if 'Date' not in df.columns: \n",
    "        print('Adding Date')\n",
    "        df['Date']=df.apply(stringify,axis=1)\n",
    "    print('Creating feed')\n",
    "    feed=DataFeed(tickers=list(df.ticker.unique()[0:10]),dfgiven=True,df=df)\n",
    "    print('Processing feed')\n",
    "    add_addl_features_feed(feed,tickers=feed.tickers)\n",
    "    add_sym_feature_feed(feed,tickers=feed.tickers)\n",
    "    add_global_indices_feed(feed)\n",
    "    if not colab: \n",
    "        with open('../../temp_data/btdatafeed.pickle','wb') as f: pickle.dump(feed,f)\n",
    "    elif colab: \n",
    "        with open('/tmp/btdatafeed.pickle','wb') as f: pickle.dump(feed,f)\n",
    "elif loadfeed and datafeed:\n",
    "    if not colab: \n",
    "        with open('../../temp_data/btdatafeed.pickle','rb') as f: feed=pickle.load(f)\n",
    "    elif colab:\n",
    "        with open('/tmp/btdatafeed.pickle','rb') as f: feed=pickle.load(f)"
   ]
  },
  {
   "cell_type": "code",
   "execution_count": null,
   "id": "51966e37-f9c0-4a59-965e-c5b9a1bef3d9",
   "metadata": {
    "tags": []
   },
   "outputs": [],
   "source": [
    "agent=RLStratAgentDyn(algorithm,monclass=Mon,soclass=StackedObservations,n_steps=n_steps,verbose=1,win=5,\n",
    "                   metarl=True)\n",
    "agent.use_memory=True #depends on whether RL algorithm uses memory for state computation\n",
    "agent.debug=False"
   ]
  },
  {
   "cell_type": "code",
   "execution_count": null,
   "id": "e84d5950-660a-476b-8a08-12a367b45d46",
   "metadata": {},
   "outputs": [],
   "source": [
    "if modelname and os.path.exists('./saved_models/'+modelname): \n",
    "    agent.load_model(filepath='./saved_models/'+modelname)"
   ]
  },
  {
   "cell_type": "code",
   "execution_count": null,
   "id": "aa113224-1c19-431f-a01e-f1f42d17bc31",
   "metadata": {},
   "outputs": [],
   "source": [
    "@aspectlib.Aspect\n",
    "def my_decorator(*args, **kwargs):\n",
    "    # print(\"Got called with args: %s kwargs: %s\" % (args, kwargs))\n",
    "    # result = yield\n",
    "    # print(\" ... and the result is: %s\" % (result,))\n",
    "    state,rew,done,exit_type = yield\n",
    "    # args[0].policy.logL+=[(state.keys(),rew,done,exit_type)]\n",
    "    args[0].policy.reward((rew,done,{'exit_type':exit_type}))\n",
    "    return state,rew,done,exit_type"
   ]
  },
  {
   "cell_type": "code",
   "execution_count": null,
   "id": "50fa58e2-3bd9-475c-ad0d-df1d70b4f49e",
   "metadata": {},
   "outputs": [],
   "source": [
    "aspectlib.weave(Episode, my_decorator, methods='env_step')"
   ]
  },
  {
   "cell_type": "code",
   "execution_count": null,
   "id": "7fde12ee-eb14-4405-8e41-0a7ce44f132b",
   "metadata": {},
   "outputs": [],
   "source": [
    "bt=Backtest(feed,tickers=feed.tickers,add_features=False,target=5,stop=5,txcost=0.001,\n",
    "            loc_exit=True,scan=True,topk=5,deploy=deploy,save_dfs=False,\n",
    "            save_func=None)"
   ]
  },
  {
   "cell_type": "code",
   "execution_count": null,
   "id": "34a612fb-f44e-4319-8972-5545088dd780",
   "metadata": {
    "tags": []
   },
   "outputs": [],
   "source": [
    "def run_btworld():\n",
    "    global bt,feed,agent\n",
    "    while agent.training:\n",
    "        bt.run_all(tickers=feed.tickers,model=agent,verbose=False)"
   ]
  },
  {
   "cell_type": "code",
   "execution_count": null,
   "id": "b4bdb8f1-d284-4916-91f6-d81f90ef11f2",
   "metadata": {},
   "outputs": [],
   "source": [
    "agent.start(training_steps=training_steps)"
   ]
  },
  {
   "cell_type": "code",
   "execution_count": null,
   "id": "a6db2a58-86ab-4035-a6fb-2664bd567f46",
   "metadata": {
    "tags": []
   },
   "outputs": [],
   "source": [
    "btworldthread=Thread(target=run_btworld,name='btworld')\n",
    "btworldthread.start()"
   ]
  },
  {
   "cell_type": "code",
   "execution_count": null,
   "id": "b9bf213b-0c01-4728-a1e3-22d8dfdf8e89",
   "metadata": {},
   "outputs": [],
   "source": [
    "def check_bt_training_status():\n",
    "    threadL=[thread.name for thread in threading.enumerate()]\n",
    "    # print(threadL)\n",
    "    if 'monitor' not in threadL and 'btworld' not in threadL:\n",
    "        print(f'Training Over after {agent.model.num_timesteps} steps')\n",
    "        return False\n",
    "    else:\n",
    "        print(f'Model Training for {agent.model.num_timesteps} steps')\n",
    "        return True"
   ]
  },
  {
   "cell_type": "code",
   "execution_count": null,
   "id": "eb88e3c0-ec74-4955-8bcb-c923b364ae69",
   "metadata": {
    "tags": []
   },
   "outputs": [],
   "source": [
    "while check_bt_training_status():\n",
    "    time.sleep(2)"
   ]
  },
  {
   "cell_type": "code",
   "execution_count": null,
   "id": "cfc3e14a-b0a1-42ee-a2bd-d5570812ff0f",
   "metadata": {},
   "outputs": [],
   "source": [
    "# Save learned model\n",
    "if modelname: torch.save(agent.model.policy.state_dict(),'./saved_models/'+modelname)"
   ]
  },
  {
   "cell_type": "markdown",
   "id": "3ef67d33-a9b8-45a4-b303-9ec012e0b7ed",
   "metadata": {},
   "source": [
    "## Training Curves"
   ]
  },
  {
   "cell_type": "code",
   "execution_count": null,
   "id": "8d14a0e6-68cd-41e9-b3c8-7edac5134871",
   "metadata": {},
   "outputs": [],
   "source": [
    "import pandas as pd\n",
    "df=pd.read_csv('/tmp/aiagents.monitor.csv',comment='#')"
   ]
  },
  {
   "cell_type": "code",
   "execution_count": null,
   "id": "9eeceeac-034d-42dc-bc16-f57e7aa21d8a",
   "metadata": {},
   "outputs": [],
   "source": [
    "import plotly.express as px\n",
    "px.line(df['r'].rolling(window=1).mean().values).show()"
   ]
  },
  {
   "cell_type": "code",
   "execution_count": null,
   "id": "f395f33b-b728-4ad2-be3d-1653179982e4",
   "metadata": {},
   "outputs": [],
   "source": [
    "px.line(df['r'].values).show()"
   ]
  }
 ],
 "metadata": {
  "kernelspec": {
   "display_name": "Python 3 (ipykernel)",
   "language": "python",
   "name": "python3"
  },
  "language_info": {
   "codemirror_mode": {
    "name": "ipython",
    "version": 3
   },
   "file_extension": ".py",
   "mimetype": "text/x-python",
   "name": "python",
   "nbconvert_exporter": "python",
   "pygments_lexer": "ipython3",
   "version": "3.8.12"
  }
 },
 "nbformat": 4,
 "nbformat_minor": 5
}
