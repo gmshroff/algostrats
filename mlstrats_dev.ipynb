{
 "cells": [
  {
   "cell_type": "code",
   "execution_count": null,
   "id": "d7889ded-dd8c-4c73-aadd-687cf98ddbb0",
   "metadata": {},
   "outputs": [],
   "source": [
    "import import_ipynb\n",
    "import pandas as pd\n",
    "import numpy as np\n",
    "import torch\n",
    "from datetime import datetime\n",
    "from datetime import datetime as dt\n",
    "from torch.utils.data import Dataset\n",
    "from tqdm.notebook import tqdm\n",
    "from sklearn.preprocessing import StandardScaler\n",
    "import pickle"
   ]
  },
  {
   "cell_type": "code",
   "execution_count": null,
   "id": "696c7465-65a9-4adc-93a1-4a3a39bf7cdb",
   "metadata": {},
   "outputs": [],
   "source": [
    "from feeds import BackFeed,DataFeed\n",
    "import utils\n",
    "import models"
   ]
  },
  {
   "cell_type": "code",
   "execution_count": null,
   "id": "01ab4952-0441-4358-8acd-5cab8bfc14a3",
   "metadata": {},
   "outputs": [],
   "source": [
    "from mlstrats import ConfigFields,ModelConfig,MLConfig,MLBaseStrat,MLStrat"
   ]
  },
  {
   "cell_type": "markdown",
   "id": "2d968479-dbed-4d41-b7f5-46316cd68ec6",
   "metadata": {},
   "source": [
    "Host Service via Anvil"
   ]
  },
  {
   "cell_type": "code",
   "execution_count": null,
   "id": "f232463e-1584-4b8a-a719-9cfe9c141b49",
   "metadata": {},
   "outputs": [],
   "source": [
    "# import anvil.server"
   ]
  },
  {
   "cell_type": "code",
   "execution_count": null,
   "id": "1e843eb7-0ceb-4546-80ac-d8a69b34b21e",
   "metadata": {},
   "outputs": [],
   "source": [
    "# DeepTrader:\n",
    "# anvil.server.connect(\"STKYCIXUMGFV2CURGMCMOFUV-MBK5ZXFC4MCKYKOE\")"
   ]
  },
  {
   "cell_type": "code",
   "execution_count": null,
   "id": "59f1b82f-89c9-4770-a1af-8f3d25a749f0",
   "metadata": {
    "tags": []
   },
   "outputs": [],
   "source": [
    "mlStrat=MLStrat()\n",
    "mlStrat.style='seq'"
   ]
  },
  {
   "cell_type": "code",
   "execution_count": null,
   "id": "1b285b6a-687b-4a88-b2b1-b0a9100d0b0f",
   "metadata": {},
   "outputs": [],
   "source": [
    "@anvil.server.callable\n",
    "def check_entry_batch_ml0(dfD):\n",
    "    global mlStrat\n",
    "    # mlStrat=MLStrat()\n",
    "    dfDloc={}\n",
    "    decisionsD={}\n",
    "    for t in dfD.keys():\n",
    "        dfDloc[t]=pd.DataFrame(dfD[t])\n",
    "    return MLStrat.Check(mlStrat,dfDloc)"
   ]
  },
  {
   "cell_type": "markdown",
   "id": "829f906e-4ce7-45be-967e-9d61d2abd1cf",
   "metadata": {},
   "source": [
    "Load data for training"
   ]
  },
  {
   "cell_type": "code",
   "execution_count": null,
   "id": "a5d6e11b-ad60-4990-b791-93e8bb0df385",
   "metadata": {},
   "outputs": [],
   "source": [
    "from genfuncs import accuracy_var, TsDS, set_label, TickDS\n",
    "from labelfuncs import compute_labels\n",
    "from featfuncs import feat_aug,add_addl_features_feed,add_ta_features_feed,add_sym_feature_feed"
   ]
  },
  {
   "cell_type": "code",
   "execution_count": null,
   "id": "46fafc7d-082a-4f23-9de8-8e5dab5910ab",
   "metadata": {},
   "outputs": [],
   "source": [
    "DATAFILE='~/DataLocal/algo_fin_new/augdata_02-Mar-2022.csv'\n",
    "df=pd.read_csv(DATAFILE)\n",
    "#df=df.loc[df['Date']=='06-Dec-2021']"
   ]
  },
  {
   "cell_type": "code",
   "execution_count": null,
   "id": "ec930759-0e36-4cb2-98e1-631c6c8ac6ae",
   "metadata": {},
   "outputs": [],
   "source": [
    "tickers=['TCS.NS','WIPRO.NS']"
   ]
  },
  {
   "cell_type": "code",
   "execution_count": null,
   "id": "8a7bf06a-5e17-4a0e-b216-421a2cb9d5c2",
   "metadata": {},
   "outputs": [],
   "source": [
    "dataFeed=DataFeed(tickers=tickers,dfgiven=True,df=df)"
   ]
  },
  {
   "cell_type": "code",
   "execution_count": null,
   "id": "bc8a07c1-ce94-4020-a110-fd3bdde6fa0e",
   "metadata": {},
   "outputs": [],
   "source": [
    "add_addl_features_feed(dataFeed,tickers=tickers,drop_ta=False)"
   ]
  },
  {
   "cell_type": "code",
   "execution_count": null,
   "id": "97aab2d3-0e5d-4476-bb74-1d849e0046dc",
   "metadata": {},
   "outputs": [],
   "source": [
    "with open ('../../temp_data/datafeed.pickle','wb+') as f: pickle.dump(dataFeed,f)"
   ]
  },
  {
   "cell_type": "code",
   "execution_count": null,
   "id": "c40162d1-4645-40a5-b7b2-6147e5265e0a",
   "metadata": {
    "tags": []
   },
   "outputs": [],
   "source": [
    "with open ('../../temp_data/datafeed.pickle','rb') as f: dataFeed=pickle.load(f)"
   ]
  },
  {
   "cell_type": "code",
   "execution_count": null,
   "id": "8c7cc083-6e14-4e1d-9c6c-e4086279873b",
   "metadata": {
    "tags": []
   },
   "outputs": [],
   "source": [
    "dft=compute_labels(dataFeed.df,tickers=tickers,fromFeed=True)"
   ]
  },
  {
   "cell_type": "markdown",
   "id": "57c8e50f-60b6-4867-a1a2-12907449efe9",
   "metadata": {},
   "source": [
    "Training model and saving in modelConfig.pickle"
   ]
  },
  {
   "cell_type": "code",
   "execution_count": null,
   "id": "3cd1fddf-953e-4399-b1c4-2600153ab44b",
   "metadata": {},
   "outputs": [],
   "source": [
    "dft=dft.fillna(0)"
   ]
  },
  {
   "cell_type": "code",
   "execution_count": null,
   "id": "813e8377-34cd-4db3-ba4f-7fbb9caf58a7",
   "metadata": {},
   "outputs": [],
   "source": [
    "dates=dft['Date'].unique()"
   ]
  },
  {
   "cell_type": "code",
   "execution_count": null,
   "id": "0ab926d4-8ccc-48b9-97f6-dde898811c0b",
   "metadata": {},
   "outputs": [],
   "source": [
    "dates.shape"
   ]
  },
  {
   "cell_type": "code",
   "execution_count": null,
   "id": "8ee2e5e0-edd9-42f0-b24f-597f7242e2e4",
   "metadata": {},
   "outputs": [],
   "source": [
    "OHLC_COLS=['Open_n','High_n','Low_n','Close_n']\n",
    "OHLC_ORIG=['Open','High','Low','Close']\n",
    "TA_COLS=['SMA_10', 'SMA_20','VOL_SMA_20','RSI_14','BBL_5_2.0','BBM_5_2.0','BBU_5_2.0',\n",
    "       'BBB_5_2.0', 'BBP_5_2.0','MACD_12_26_9','MACDh_12_26_9','MACDs_12_26_9']"
   ]
  },
  {
   "cell_type": "code",
   "execution_count": null,
   "id": "8c3e1e0a-fbc8-43ff-8105-1ec998509746",
   "metadata": {},
   "outputs": [],
   "source": [
    "config=ConfigFields()"
   ]
  },
  {
   "cell_type": "code",
   "execution_count": null,
   "id": "fdf7321d-c839-4b2c-a925-34d0d7bafd3b",
   "metadata": {},
   "outputs": [],
   "source": [
    "tickDS=TickDS(dft,dates[0:18],dates[18:20],config,35,240,padding=40,batch_size=32)"
   ]
  },
  {
   "cell_type": "code",
   "execution_count": null,
   "id": "bc187882-f9e8-4278-a22f-5f88c09d7ab9",
   "metadata": {},
   "outputs": [],
   "source": [
    "train_ds,train_xs,train_fs,train_cs,train_dates,train_tickers,train_ids,train_dfs=tickDS.create_dataset(config.tar_cols,tickers=tickers,kind='train')"
   ]
  },
  {
   "cell_type": "code",
   "execution_count": null,
   "id": "14319516-8575-4543-bd84-5aec53325782",
   "metadata": {},
   "outputs": [],
   "source": [
    "test_ds,test_xs,test_fs,test_cs,_,_,_,_=tickDS.create_dataset(config.tar_cols,tickers=tickers,kind='test')"
   ]
  },
  {
   "cell_type": "code",
   "execution_count": null,
   "id": "8d2d10c7-a471-47bb-a4f3-b7ca4e5c10a7",
   "metadata": {},
   "outputs": [],
   "source": [
    "train_ds.fit(kind='seq')\n",
    "train_ds.scale(kind='seq')\n",
    "train_xs.fit(kind='flat')\n",
    "train_xs.scale(kind='flat')"
   ]
  },
  {
   "cell_type": "code",
   "execution_count": null,
   "id": "79eb0a7a-5cba-42b2-8949-356a99839308",
   "metadata": {},
   "outputs": [],
   "source": [
    "train_cs.fit(kind='flat')\n",
    "train_cs.scale(kind='flat')"
   ]
  },
  {
   "cell_type": "code",
   "execution_count": null,
   "id": "c4211d36-4651-4d71-8b05-29d3c7a5a417",
   "metadata": {},
   "outputs": [],
   "source": [
    "test_ds.scale(kind='seq',scaler=train_ds.scaler)\n",
    "test_xs.scale(kind='flat',scaler=train_xs.scaler)"
   ]
  },
  {
   "cell_type": "code",
   "execution_count": null,
   "id": "f3442691-fb23-4b31-9723-f63b8ddbcb61",
   "metadata": {},
   "outputs": [],
   "source": [
    "test_cs.scale(kind='flat',scaler=train_cs.scaler)"
   ]
  },
  {
   "cell_type": "markdown",
   "id": "9585c88f-f82f-4785-82eb-73a324b79bd8",
   "metadata": {},
   "source": [
    "Label 8"
   ]
  },
  {
   "cell_type": "code",
   "execution_count": null,
   "id": "c37ebe18-4bef-4483-9011-2a7c3500a658",
   "metadata": {},
   "outputs": [],
   "source": [
    "set_label([test_ds,test_xs],8)"
   ]
  },
  {
   "cell_type": "code",
   "execution_count": null,
   "id": "039bfb60-429a-42f4-9cb9-177207f72e79",
   "metadata": {},
   "outputs": [],
   "source": [
    "set_label([train_ds,train_xs],8)"
   ]
  },
  {
   "cell_type": "code",
   "execution_count": null,
   "id": "346b0f62-9849-430e-b81c-f4b7d8b4030d",
   "metadata": {},
   "outputs": [],
   "source": [
    "net=models.SimpleLSTM(input_size=16,hidden_sizeL=[32,128,32],output_size=4,lr=1e-3)"
   ]
  },
  {
   "cell_type": "code",
   "execution_count": null,
   "id": "5f802d0f-27b3-435a-8579-a5ec343c0f35",
   "metadata": {},
   "outputs": [],
   "source": [
    "net,_,_=models.Train(net,train_ds,verbose=True)"
   ]
  },
  {
   "cell_type": "code",
   "execution_count": null,
   "id": "c193b8b1-ac1c-42a0-bda3-d9cac38f9ef4",
   "metadata": {},
   "outputs": [],
   "source": [
    "acc,predictedL,predsL=accuracy_var(net,[s[0] for s in train_ds],[s[1] for s in train_ds],return_probs=True,verbose=True)"
   ]
  },
  {
   "cell_type": "code",
   "execution_count": null,
   "id": "86d10fc8-9719-43fa-821a-e927a124fef3",
   "metadata": {},
   "outputs": [],
   "source": [
    "acc,predictedL,predsL=accuracy_var(net,[s[0] for s in test_ds],[s[1] for s in test_ds],return_probs=True,verbose=True)"
   ]
  },
  {
   "cell_type": "code",
   "execution_count": null,
   "id": "40d96b47-d009-449e-abb3-28a9adade873",
   "metadata": {},
   "outputs": [],
   "source": [
    "torch.save(net.state_dict(),'../saved_models/symLSTM8.pth')"
   ]
  },
  {
   "cell_type": "markdown",
   "id": "4a57feb5-33f8-46d1-8aa7-a8aa9c92eacf",
   "metadata": {},
   "source": [
    "Label 6"
   ]
  },
  {
   "cell_type": "code",
   "execution_count": null,
   "id": "e2d506ee-2292-4656-9b0f-1a868a2ca2a3",
   "metadata": {},
   "outputs": [],
   "source": [
    "set_label([test_ds,test_xs],6)"
   ]
  },
  {
   "cell_type": "code",
   "execution_count": null,
   "id": "941ff78c-cd3e-418b-bd09-bcc11ee91a86",
   "metadata": {},
   "outputs": [],
   "source": [
    "set_label([train_ds,train_xs],6)"
   ]
  },
  {
   "cell_type": "code",
   "execution_count": null,
   "id": "3cfea8ff-af05-4ad5-82de-08e8c61d1651",
   "metadata": {},
   "outputs": [],
   "source": [
    "net=models.SimpleLSTM(input_size=16,hidden_sizeL=[32,128,32],output_size=4,lr=1e-3)"
   ]
  },
  {
   "cell_type": "code",
   "execution_count": null,
   "id": "80453a79-a421-4952-a596-56d0216a3ccc",
   "metadata": {},
   "outputs": [],
   "source": [
    "net,_,_=models.Train(net,train_ds,verbose=True)"
   ]
  },
  {
   "cell_type": "code",
   "execution_count": null,
   "id": "e3f80a66-f8ce-4a2a-b866-128eb8a30824",
   "metadata": {},
   "outputs": [],
   "source": [
    "acc,predictedL,predsL=accuracy_var(net,[s[0] for s in train_ds],[s[1] for s in train_ds],return_probs=True,verbose=True)"
   ]
  },
  {
   "cell_type": "code",
   "execution_count": null,
   "id": "496dacf8-7fa0-467a-a3df-dc1a47842e55",
   "metadata": {},
   "outputs": [],
   "source": [
    "acc,predictedL,predsL=accuracy_var(net,[s[0] for s in test_ds],[s[1] for s in test_ds],return_probs=True,verbose=True)"
   ]
  },
  {
   "cell_type": "code",
   "execution_count": null,
   "id": "ec23b39c-2b74-48e7-900e-b9c36e7e6151",
   "metadata": {},
   "outputs": [],
   "source": [
    "torch.save(net.state_dict(),'../saved_models/symLSTM6.pth')"
   ]
  },
  {
   "cell_type": "code",
   "execution_count": null,
   "id": "5512b4bf-119b-4794-8631-5e11f589487a",
   "metadata": {},
   "outputs": [],
   "source": [
    "net=models.MLP(dims=[16,32,128,32,16,4],lr=1e-3,task='classification')"
   ]
  },
  {
   "cell_type": "code",
   "execution_count": null,
   "id": "8fe92e99-e520-4a23-82d9-7c96b9ba5e51",
   "metadata": {
    "tags": []
   },
   "outputs": [],
   "source": [
    "net,_,_=models.Train(net,train_xs,verbose=True)"
   ]
  },
  {
   "cell_type": "code",
   "execution_count": null,
   "id": "b864895e-5cc0-44f1-92ce-708721595fc0",
   "metadata": {},
   "outputs": [],
   "source": [
    "acc,predictedL,predsL=accuracy_var(net,[s[0] for s in train_xs],[s[1] for s in train_xs],return_probs=True,verbose=True)"
   ]
  },
  {
   "cell_type": "code",
   "execution_count": null,
   "id": "cd62d2ca-86db-40b5-b725-52b9a34d1ad3",
   "metadata": {
    "tags": []
   },
   "outputs": [],
   "source": [
    "acc,predictedL,predsL=accuracy_var(net,[s[0] for s in test_xs],[s[1] for s in test_xs],return_probs=True,verbose=True)"
   ]
  },
  {
   "cell_type": "code",
   "execution_count": null,
   "id": "8cae8308-78f2-41dc-bb82-e9f1d84d5b31",
   "metadata": {},
   "outputs": [],
   "source": [
    "torch.save(net.state_dict(),'../saved_models/symMLP8.pth')"
   ]
  },
  {
   "cell_type": "code",
   "execution_count": null,
   "id": "459cc067-4892-4d6f-b311-147b14a4c36c",
   "metadata": {},
   "outputs": [],
   "source": [
    "LSTM6=models.SimpleLSTM(input_size=16,hidden_sizeL=[32,128,32],output_size=4,lr=1e-3)"
   ]
  },
  {
   "cell_type": "code",
   "execution_count": null,
   "id": "8a336a9f-6cb0-461d-a755-5c57865c657f",
   "metadata": {},
   "outputs": [],
   "source": [
    "LSTM6.load_state_dict(torch.load('../saved_models/symLSTM6.pth'))"
   ]
  },
  {
   "cell_type": "code",
   "execution_count": null,
   "id": "8f90e198-8917-4f83-b541-dc8136c92ad9",
   "metadata": {},
   "outputs": [],
   "source": [
    "LSTM8=models.SimpleLSTM(input_size=16,hidden_sizeL=[32,128,32],output_size=4,lr=1e-3)"
   ]
  },
  {
   "cell_type": "code",
   "execution_count": null,
   "id": "8aded561-fc70-4c21-b540-3ccdf92d98b3",
   "metadata": {},
   "outputs": [],
   "source": [
    "LSTM8.load_state_dict(torch.load('../saved_models/symLSTM8.pth'))"
   ]
  },
  {
   "cell_type": "code",
   "execution_count": null,
   "id": "3eda4909-9298-47cc-a5a1-7e031a156b7a",
   "metadata": {},
   "outputs": [],
   "source": [
    "MLP6=models.MLP(dims=[16,32,128,32,16,4],lr=1e-3,task='classification')"
   ]
  },
  {
   "cell_type": "code",
   "execution_count": null,
   "id": "ec25f3d8-c38b-4c32-accc-dff8ee868257",
   "metadata": {},
   "outputs": [],
   "source": [
    "MLP6.load_state_dict(torch.load('../saved_models/symMLP6.pth'))"
   ]
  },
  {
   "cell_type": "code",
   "execution_count": null,
   "id": "b7fc4f6c-8110-40fb-910c-b205b8a4a09d",
   "metadata": {},
   "outputs": [],
   "source": [
    "MLP8=models.MLP(dims=[16,32,128,32,16,4],lr=1e-3,task='classification')"
   ]
  },
  {
   "cell_type": "code",
   "execution_count": null,
   "id": "14bb5081-cec4-4be7-a161-5322eff18c73",
   "metadata": {},
   "outputs": [],
   "source": [
    "MLP8.load_state_dict(torch.load('../saved_models/symMLP8.pth'))"
   ]
  },
  {
   "cell_type": "code",
   "execution_count": null,
   "id": "a2c92645-7f50-4602-9640-f51a75dd4818",
   "metadata": {},
   "outputs": [],
   "source": [
    "modelConfig=ModelConfig(config,[16,32,128,32,16,4],[32,128,32],MLP6,MLP8,LSTM6,LSTM8,\n",
    "                       train_ds.scaler,train_cs.scaler,train_xs.scaler,tickers)"
   ]
  },
  {
   "cell_type": "code",
   "execution_count": null,
   "id": "f2fb1c17-ed15-45c6-8db8-3a4b97669812",
   "metadata": {},
   "outputs": [],
   "source": [
    "modelConfig=MLConfig(config,[16,32,128,32,16,4],[32,128,32],MLP6,MLP8,LSTM6,LSTM8,\n",
    "                       train_ds.scaler,train_cs.scaler,train_xs.scaler,tickers)"
   ]
  },
  {
   "cell_type": "code",
   "execution_count": null,
   "id": "4eb5b7df-ec52-4eec-b850-9177b5612984",
   "metadata": {},
   "outputs": [],
   "source": [
    "with open('../saved_models/modelConfig.pickle','wb') as f: pickle.dump(modelConfig,f)"
   ]
  },
  {
   "cell_type": "markdown",
   "id": "86f2290e-1740-4b8a-bc45-0e7cc2ead87b",
   "metadata": {},
   "source": [
    "Experiments"
   ]
  },
  {
   "cell_type": "markdown",
   "id": "a78d1ca7-b88c-47ac-bc49-bffeb154d430",
   "metadata": {},
   "source": []
  }
 ],
 "metadata": {
  "kernelspec": {
   "display_name": "Python 3 (ipykernel)",
   "language": "python",
   "name": "python3"
  },
  "language_info": {
   "codemirror_mode": {
    "name": "ipython",
    "version": 3
   },
   "file_extension": ".py",
   "mimetype": "text/x-python",
   "name": "python",
   "nbconvert_exporter": "python",
   "pygments_lexer": "ipython3",
   "version": "3.8.12"
  }
 },
 "nbformat": 4,
 "nbformat_minor": 5
}
