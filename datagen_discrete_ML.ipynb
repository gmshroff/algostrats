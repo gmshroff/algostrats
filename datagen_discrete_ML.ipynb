{
 "cells": [
  {
   "cell_type": "markdown",
   "id": "e6607390-c3cf-4624-b7b2-98623ced623e",
   "metadata": {},
   "source": [
    "### Dataset Utilities for Algo-Fin Data"
   ]
  },
  {
   "cell_type": "code",
   "execution_count": null,
   "id": "0536eb1a-3b33-4c84-be2a-2cd259698dff",
   "metadata": {
    "tags": []
   },
   "outputs": [],
   "source": [
    "import pickle\n",
    "import pandas as pd"
   ]
  },
  {
   "cell_type": "code",
   "execution_count": null,
   "id": "5e0dbc34-e5bb-4180-acac-97ff143c7bb2",
   "metadata": {
    "tags": []
   },
   "outputs": [],
   "source": [
    "import torch\n",
    "import numpy as np\n",
    "from torch.utils.data import Dataset\n",
    "import sklearn.datasets as skds\n",
    "from sklearn.model_selection import train_test_split\n",
    "from torch.utils.data import DataLoader\n",
    "import math\n",
    "from IPython import display\n",
    "from time import sleep\n",
    "import pickle\n",
    "import pandas as pd"
   ]
  },
  {
   "cell_type": "code",
   "execution_count": null,
   "id": "c85f885c-e271-462c-bc64-99f5e70dff1d",
   "metadata": {
    "tags": []
   },
   "outputs": [],
   "source": [
    "import import_ipynb\n",
    "from feeds import DataFeed, BackFeed, clean_feed_nulls\n",
    "from featfuncs import USE_COLS_DICT_ORIG,update_use_cols_dict \n",
    "from featfuncs import add_addl_features_feed,add_sym_feature_feed,add_logical_features_feed\n",
    "from featfuncs import DiscretizeK,discretize_features_feed\n",
    "from utils import MyDS"
   ]
  },
  {
   "cell_type": "code",
   "execution_count": null,
   "id": "783b3e40-25e8-4a70-9998-544e25d5e03b",
   "metadata": {
    "tags": []
   },
   "outputs": [],
   "source": [
    "from sklearn.preprocessing import KBinsDiscretizer\n",
    "from datetime import datetime"
   ]
  },
  {
   "cell_type": "code",
   "execution_count": null,
   "id": "9ef22bca-ef87-402b-bf01-9b810f2381ae",
   "metadata": {
    "tags": []
   },
   "outputs": [],
   "source": [
    "from dsutils_algofin import create_algofin_data"
   ]
  },
  {
   "cell_type": "code",
   "execution_count": null,
   "id": "290a8216-57a2-4e50-ae76-d1caeb25368b",
   "metadata": {
    "tags": []
   },
   "outputs": [],
   "source": [
    "DATAPATH='/Users/a112956/MyCode/algo_fin_root/temp_data/'\n",
    "MODELPATH='./saved_models/'\n",
    "DATAFEED=False\n",
    "VALFEED=False\n",
    "SYNTHETIC=True\n",
    "simple=True\n",
    "sigma=0.01\n",
    "use_cols='alllog'\n",
    "LOADFEED=False\n",
    "nd,nw=5,30\n",
    "PLOTFEED=False"
   ]
  },
  {
   "cell_type": "code",
   "execution_count": null,
   "id": "b3fcd714-8ae8-4602-825c-34a129354b36",
   "metadata": {
    "tags": []
   },
   "outputs": [],
   "source": [
    "if LOADFEED and DATAFEED and not SYNTHETIC: \n",
    "    with open(DATAPATH+'btdatafeed.pickle','rb') as f: datafeed=pickle.load(f)\n",
    "if LOADFEED and VALFEED and not SYNTHETIC: \n",
    "    with open(DATAPATH+'btfeed.pickle','rb') as f: feed=pickle.load(f)\n",
    "if LOADFEED and SYNTHETIC:\n",
    "    feedname='syn_synthetic_'+str(simple)+'.pickle'\n",
    "    with open(DATAPATH+feedname,'rb') as f: feed=pickle.load(f)\n",
    "    datafeed=feed"
   ]
  },
  {
   "cell_type": "markdown",
   "id": "82d1f5d2-2317-40de-9b67-d095a73755ca",
   "metadata": {
    "tags": []
   },
   "source": [
    "## Generate Feed"
   ]
  },
  {
   "cell_type": "code",
   "execution_count": null,
   "id": "55289d56-469b-40d6-b565-b1ab06f2d601",
   "metadata": {
    "tags": []
   },
   "outputs": [],
   "source": [
    "if not LOADFEED and SYNTHETIC:\n",
    "    print('Creating feed')\n",
    "    feed=BackFeed(tickers=None,nd=nd,nw=nw,interval='5m',synthetic=True,simple=simple,sigma=sigma)\n",
    "    print('Processing feed')\n",
    "    add_addl_features_feed(feed,tickers=feed.tickers)\n",
    "    add_sym_feature_feed(feed,tickers=feed.tickers)\n",
    "    add_logical_features_feed(feed)"
   ]
  },
  {
   "cell_type": "markdown",
   "id": "c30960d7-4dd4-4cfb-b232-9c898abbcc8c",
   "metadata": {
    "tags": []
   },
   "source": [
    "## Plot Feed"
   ]
  },
  {
   "cell_type": "code",
   "execution_count": null,
   "id": "c36af489-8de8-46d9-b9d8-f80020baea4f",
   "metadata": {
    "tags": []
   },
   "outputs": [],
   "source": [
    "if SYNTHETIC and PLOTFEED:\n",
    "    _=[feed.plot_ticker_date('SYN',d,show_prev=True) for d in feed.ndata['SYN']]"
   ]
  },
  {
   "cell_type": "markdown",
   "id": "16108d1e-d6d1-4b4b-843b-f367fc9249fc",
   "metadata": {},
   "source": [
    "## Data Generation"
   ]
  },
  {
   "cell_type": "code",
   "execution_count": null,
   "id": "33e19f09-6566-4d80-ad48-246b162df547",
   "metadata": {
    "tags": []
   },
   "outputs": [],
   "source": [
    "clean_feed_nulls(feed)"
   ]
  },
  {
   "cell_type": "code",
   "execution_count": null,
   "id": "01a1391a-0291-4e42-ac88-94cbb0adb766",
   "metadata": {
    "tags": []
   },
   "outputs": [],
   "source": [
    "if not SYNTHETIC: \n",
    "    with open(MODELPATH+'discretizers.pickle','rb') as f: discretizers=pickle.load(f)"
   ]
  },
  {
   "cell_type": "code",
   "execution_count": null,
   "id": "d70f19d9-dddc-4342-ad85-2b5d142a3ba5",
   "metadata": {
    "tags": []
   },
   "outputs": [],
   "source": [
    "if not SYNTHETIC: DkT5,DkT10,DkD=discretizers[0],discretizers[1],discretizers[2]"
   ]
  },
  {
   "cell_type": "code",
   "execution_count": null,
   "id": "939bf531-c277-4bb5-bab2-f08925b53840",
   "metadata": {
    "tags": []
   },
   "outputs": [],
   "source": [
    "if DATAFEED: feed=datafeed\n",
    "if SYNTHETIC or DATAFEED:\n",
    "    df_train,ds_train,train_loader,df_test,ds_test,test_loader,DkT5,DkT10,DkD=create_algofin_data(feed=feed,\n",
    "                                                                            cols='alllog',\n",
    "                                                                            discretize=True,\n",
    "                                                                            SYN=SYNTHETIC)"
   ]
  },
  {
   "cell_type": "code",
   "execution_count": null,
   "id": "05b89948-24bb-4fe5-a7c5-b60352149b88",
   "metadata": {
    "tags": []
   },
   "outputs": [],
   "source": [
    "if not SYNTHETIC:\n",
    "    df_val,ds_val,val_loader,df_val_test,ds_val_test,val_test_loader,DkT5,DkT10,DkD=create_algofin_data(feed=feed,\n",
    "                                                                            cols='alllog',\n",
    "                                                                            discretize=True,\n",
    "                                                                            estgiven=True,\n",
    "                                                                            DkT5=DkT5,DkT10=DkT10,\n",
    "                                                                            DkD=DkD,SYN=SYNTHETIC)"
   ]
  },
  {
   "cell_type": "markdown",
   "id": "8848afd9-cdaa-4752-8865-a6e3bf3de73d",
   "metadata": {},
   "source": [
    "### SAVE & USE data\n",
    "\n",
    "df_train,df_test etc"
   ]
  },
  {
   "cell_type": "raw",
   "id": "363df26d-bc5e-4d6e-88a7-248713a47577",
   "metadata": {
    "tags": []
   },
   "source": [
    "# DO NOT USE # with open(MODELPATH+'discretizers.pickle','wb') as f: pickle.dump(discretizers,f)"
   ]
  },
  {
   "cell_type": "code",
   "execution_count": null,
   "id": "a1e6395f-ffb1-4a5e-b521-87ab3058bceb",
   "metadata": {
    "tags": []
   },
   "outputs": [],
   "source": [
    "# clean_feed_nulls(feed)\n",
    "# MODELPATH='./saved_models/'\n",
    "# with open(MODELPATH+'discretizers.pickle','rb') as f: discretizers=pickle.load(f)\n",
    "# discretize_features_feed(datafeed,discretizers[2],use_cols)"
   ]
  },
  {
   "cell_type": "code",
   "execution_count": null,
   "id": "a2781077-5bac-469c-8796-b0901cf2eaf0",
   "metadata": {
    "tags": []
   },
   "outputs": [],
   "source": [
    "# # SAVE_PATH='~/DataLocal/fin_regression_summer_proj/'\n",
    "# df_train.to_csv(SAVE_PATH+'df_train.csv',index=False)\n",
    "# df_test.to_csv(SAVE_PATH+'df_test.csv',index=False)\n",
    "# df_val.to_csv(SAVE_PATH+'df_val.csv',index=False)\n",
    "# df_val_test.to_csv(SAVE_PATH+'df_val_test.csv',index=False)"
   ]
  },
  {
   "cell_type": "code",
   "execution_count": null,
   "id": "a9f00082-2e5c-4fc2-b8d3-23f474ad2d67",
   "metadata": {},
   "outputs": [],
   "source": [
    "# # for SYNTHETIC data\n",
    "# SAVE_PATH='~/DataLocal/fin_regression_summer_proj/'\n",
    "# df_train.to_csv(SAVE_PATH+'df_train_'+'syn_'+str(simple)+'.csv',index=False)\n",
    "# df_test.to_csv(SAVE_PATH+'df_test_'+'syn_'+str(simple)+'.csv',index=False)"
   ]
  },
  {
   "cell_type": "code",
   "execution_count": null,
   "id": "01eb9820-5673-40e7-80f2-d241f2918ec7",
   "metadata": {},
   "outputs": [],
   "source": []
  }
 ],
 "metadata": {
  "kernelspec": {
   "display_name": "Python 3 (ipykernel)",
   "language": "python",
   "name": "python3"
  },
  "language_info": {
   "codemirror_mode": {
    "name": "ipython",
    "version": 3
   },
   "file_extension": ".py",
   "mimetype": "text/x-python",
   "name": "python",
   "nbconvert_exporter": "python",
   "pygments_lexer": "ipython3",
   "version": "3.8.12"
  }
 },
 "nbformat": 4,
 "nbformat_minor": 5
}
