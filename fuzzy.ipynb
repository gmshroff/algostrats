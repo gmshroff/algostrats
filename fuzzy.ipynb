{
 "cells": [
  {
   "cell_type": "code",
   "execution_count": null,
   "metadata": {},
   "outputs": [],
   "source": [
    "import numpy as np\n",
    "# import matplotlib.pyplot as plt\n",
    "from functools import partial"
   ]
  },
  {
   "cell_type": "code",
   "execution_count": null,
   "metadata": {},
   "outputs": [],
   "source": [
    "ifC=[-.03+i*.01 for i in range(7)]\n",
    "ifL=['NL','NM','NS','AZ','PS','PM','PL']\n",
    "ifD={fv:ifC[i] for i,fv in enumerate(ifL)}"
   ]
  },
  {
   "cell_type": "code",
   "execution_count": 7,
   "metadata": {},
   "outputs": [],
   "source": [
    "thC=[-0.4,-0.2,-0.1,0.0,0.1,0.2,0.4]\n",
    "thL=['SB','SM','SS','N','BS','BM','BB']\n",
    "thD={fv:thC[i] for i,fv in enumerate(thL)}"
   ]
  },
  {
   "cell_type": "code",
   "execution_count": null,
   "metadata": {},
   "outputs": [],
   "source": [
    "# Fuzzy function with centre and width (delta) in the mid or end of a range of fuzzy functions.\n",
    "def fuzzy(x,center=0.0,delta=1.0,shape='mid'):\n",
    "    y =0 \n",
    "    if shape=='mid':\n",
    "        if x>=center-delta and x<=center+delta:\n",
    "            y = 1 - abs(x-center)/delta\n",
    "    elif shape=='top':\n",
    "        if x>=center-delta and x<=center:\n",
    "            y = (x-center+delta)/delta\n",
    "        elif x<center-delta: y = 0\n",
    "        else: y = 1\n",
    "    elif shape=='bot':\n",
    "        if x<=center+delta and x>=center:\n",
    "            y = (center+delta-x)/delta\n",
    "        elif x>center+delta: y=0\n",
    "        else: y=1\n",
    "    return y"
   ]
  },
  {
   "cell_type": "code",
   "execution_count": null,
   "metadata": {},
   "outputs": [],
   "source": [
    "# List of fuzzy functions (partials) with specified centres and deltas.\n",
    "def condfuncs(centers,deltas,bot=True,top=True):\n",
    "    funclist = []\n",
    "    for i in range(len(centers)):\n",
    "        if i==0 and bot: shape='bot'\n",
    "        elif i==len(centers)-1 and top: shape='top'\n",
    "        else: shape='mid'\n",
    "        funclist+=[partial(fuzzy,center=centers[i],delta=deltas[i],shape=shape)]\n",
    "    return funclist"
   ]
  },
  {
   "cell_type": "markdown",
   "metadata": {},
   "source": [
    "Fuzzy function $H(X)$ obtained by applying the rule \"IF $F(x)$ THEN $G(X)$\" where $F(x)$ is an input fuzzy function and $G(x)$ a output fuzzy function with centre $g$:\n",
    "\n",
    "$H(X) = \\frac{g F(X)}{F(X)}$\n",
    "\n",
    "Similarly for conjunction of rules \"IF $F_i(X)$ THEN $G_i(X)$\":\n",
    "\n",
    "$H(X) = \\frac{\\sum_i g_i F_i(X)}{\\sum_i F_i(X)}$"
   ]
  },
  {
   "cell_type": "code",
   "execution_count": null,
   "metadata": {},
   "outputs": [],
   "source": [
    "# Fuzzy function obtained by the rule applying thCL weights to the fuzzy functions in fL \n",
    "def rule(x,thCL=None,fL=None):\n",
    "    num=0.0\n",
    "    den=0.0\n",
    "    for i in range(len(thCL)):\n",
    "        num+=thCL[i]*fL[i](x)\n",
    "        den+=fL[i](x)\n",
    "    if den<=1e-7 : den=.0001\n",
    "    return num/den"
   ]
  },
  {
   "cell_type": "code",
   "execution_count": 13,
   "metadata": {},
   "outputs": [],
   "source": [
    "class Fuzzy():\n",
    "    def __init__(self):\n",
    "        self.ifC=[-.03+i*.01 for i in range(7)]\n",
    "        self.ifL=['NL','NM','NS','AZ','PS','PM','PL']\n",
    "        self.ifD={fv:ifC[i] for i,fv in enumerate(ifL)}\n",
    "        self.thC=[-0.4,-0.2,-0.1,0.0,0.1,0.2,0.4]\n",
    "        self.thL=['SB','SM','SS','N','BS','BM','BB']\n",
    "        self.thD={fv:thC[i] for i,fv in enumerate(thL)}\n",
    "# Fuzzy function obtained by the rule applying thCL weights to the fuzzy functions in fL \n",
    "    def fuzzyrule(self,x,ifL,thenL,bot=True,top=True,ifscale=1,thscale=1):\n",
    "        if len(ifL)!=len(thenL): raise Exception(\"if and then lengths mismatch\")\n",
    "        deltaL=[.01*ifscale]*len(ifL)\n",
    "        centerL=[self.ifD[c]*ifscale for c in ifL]\n",
    "        fL=condfuncs(centerL,deltaL,bot,top)\n",
    "        thCL=[self.thD[t]*thscale for t in thenL]\n",
    "        num=0.0\n",
    "        den=0.0\n",
    "        for i in range(len(thCL)):\n",
    "            num+=thCL[i]*fL[i](x)\n",
    "            den+=fL[i](x)\n",
    "        if den<=1e-7 : den=.0001\n",
    "        return num/den\n",
    "    def dblrule(self,x,y,ifL1,thL1,ifL2,thL2,ifscale=1,thscale=1):\n",
    "        if len(ifL1)!=len(thL1) or len(ifL2)!=len(thL2): \n",
    "            raise Exception(\"if and then lengths mismatch\")\n",
    "        deltaL1=[.01*ifscale]*len(ifL1)\n",
    "        deltaL2=[.01*ifscale]*len(ifL2)\n",
    "        centerL1=[self.ifD[c]*ifscale for c in ifL1]\n",
    "        centerL2=[self.ifD[c]*ifscale for c in ifL2]\n",
    "        fL1=condfuncs(centers=centerL1,deltas=deltaL1)\n",
    "        fL2=condfuncs(centers=centerL2,deltas=deltaL2)\n",
    "        thCL1=[self.thD[t]*thscale for t in thL1]\n",
    "        thCL2=[self.thD[t]*thscale for t in thL2]\n",
    "        num1,num2=0.0,0.0\n",
    "        den1,den2=0.0,0.0\n",
    "        for i in range(len(thCL1)):\n",
    "            num1+=thCL1[i]*fL1[i](x)\n",
    "            den1+=fL1[i](x)\n",
    "        for i in range(len(thCL2)):\n",
    "            num2+=thCL2[i]*fL2[i](y)\n",
    "            den2+=fL2[i](x)\n",
    "        if den1<=1e-7 : den1=.0001\n",
    "        if den2<=1e-7 : den2=.0001\n",
    "        return (num1+num2)/(den1+den2)"
   ]
  },
  {
   "cell_type": "code",
   "execution_count": 1,
   "metadata": {},
   "outputs": [],
   "source": [
    "# Fuzzy function obtained by the rule applying thCL1 weights to the fuzzy functions in fL1\n",
    "# and thCL2 weights to the fuzzy functions in fL2.\n",
    "def dblrule(x,y,thCL1=None,thCL2=None,fL1=None,fL2=None):\n",
    "    num1,num2=0.0,0.0\n",
    "    den1,den2=0.0,0.0\n",
    "    for i in range(len(thCL1)):\n",
    "        num1+=thCL1[i]*fL1[i](x)\n",
    "        den1+=fL1[i](x)\n",
    "    for i in range(len(thCL2)):\n",
    "        num2+=thCL2[i]*fL2[i](y)\n",
    "        den2+=fL2[i](x)\n",
    "    if den1<=1e-7 : den1=.0001\n",
    "    if den2<=1e-7 : den2=.0001\n",
    "    return (num1+num2)/(den1+den2)"
   ]
  }
 ],
 "metadata": {
  "kernelspec": {
   "display_name": "Python 3 (ipykernel)",
   "language": "python",
   "name": "python3"
  },
  "language_info": {
   "codemirror_mode": {
    "name": "ipython",
    "version": 3
   },
   "file_extension": ".py",
   "mimetype": "text/x-python",
   "name": "python",
   "nbconvert_exporter": "python",
   "pygments_lexer": "ipython3",
   "version": "3.8.12"
  }
 },
 "nbformat": 4,
 "nbformat_minor": 4
}
