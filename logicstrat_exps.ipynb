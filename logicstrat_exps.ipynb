{
 "cells": [
  {
   "cell_type": "markdown",
   "id": "55da4cc3-4f25-4ef6-ae60-9e37032f78db",
   "metadata": {},
   "source": [
    "## Logical predicates defined on financial (stock) time-series"
   ]
  },
  {
   "cell_type": "code",
   "execution_count": null,
   "id": "642f809d-cfb8-4192-b007-82e39608d00a",
   "metadata": {},
   "outputs": [],
   "source": [
    "import import_ipynb\n",
    "import pandas as pd\n",
    "import numpy as np\n",
    "import torch\n",
    "from datetime import datetime\n",
    "from datetime import datetime as dt\n",
    "# from tqdm.notebook import tqdm\n",
    "import pickle"
   ]
  },
  {
   "cell_type": "code",
   "execution_count": null,
   "id": "4afded69-01e3-4d92-98e9-7dcd0cb98852",
   "metadata": {},
   "outputs": [],
   "source": [
    "from pyswip import Prolog, registerForeign"
   ]
  },
  {
   "cell_type": "code",
   "execution_count": null,
   "id": "ee14e999-e21e-48a9-a516-dd8880f8194d",
   "metadata": {},
   "outputs": [],
   "source": [
    "FEAT_COLS=['row_num','Open_n','High_n','Low_n','Close_n','Volume_n','VWAP_D',\n",
    "           'MOM_30','CMO_14','RSI_14']\n",
    "TO_SCALE=['Open_n','High_n','Low_n','Close_n','VWAP_D']"
   ]
  },
  {
   "cell_type": "code",
   "execution_count": null,
   "id": "8bd9f8f8-6808-41e0-816a-36158bd10175",
   "metadata": {},
   "outputs": [],
   "source": [
    "from logicstrat import LogicStrat"
   ]
  },
  {
   "cell_type": "code",
   "execution_count": null,
   "id": "ac3cefd0-5d12-460e-a315-93a6d7fb9d0c",
   "metadata": {},
   "outputs": [],
   "source": [
    "logicStrat=LogicStrat()"
   ]
  },
  {
   "cell_type": "code",
   "execution_count": null,
   "id": "b1bd057a-bf64-4451-a5bf-43836ceed5ad",
   "metadata": {
    "tags": []
   },
   "outputs": [],
   "source": [
    "logicStrat.load_log()"
   ]
  },
  {
   "cell_type": "code",
   "execution_count": null,
   "id": "fece17c8-1cf2-43c0-a1b8-1808f8fcce50",
   "metadata": {},
   "outputs": [],
   "source": [
    "df=logicStrat.logL[60]['SBIN.NS']"
   ]
  },
  {
   "cell_type": "code",
   "execution_count": null,
   "id": "c0bf4c13-a653-4ff0-981d-8be65b7a0252",
   "metadata": {},
   "outputs": [],
   "source": [
    "# df.to_csv('./data.csv',index=False)"
   ]
  },
  {
   "cell_type": "markdown",
   "id": "ef348db8-8e76-427c-b23d-5eaeb4f78bab",
   "metadata": {},
   "source": [
    "At any point of time time-series for a particular stock (df above) is used to compute logical predicates."
   ]
  },
  {
   "cell_type": "code",
   "execution_count": null,
   "id": "b290a0e6-5d7b-47a4-a3aa-5b7feabea89f",
   "metadata": {},
   "outputs": [],
   "source": [
    "df[FEAT_COLS].head()"
   ]
  },
  {
   "cell_type": "code",
   "execution_count": null,
   "id": "6fd251c2-db23-4fbb-8fbd-6872a4ed516c",
   "metadata": {},
   "outputs": [],
   "source": [
    "import plotly.graph_objects as go\n",
    "fig = go.Figure(data=\n",
    "    [go.Candlestick(x = df.index,\n",
    "                    open  = df[\"Open_n\"],\n",
    "                    high  = df[\"High_n\"],\n",
    "                    low   = df[\"Low_n\"],\n",
    "                    close = df[\"Close_n\"])]\n",
    ")\n",
    "fig.update_layout(\n",
    "    title='Incoming Window',\n",
    "    yaxis_title=\"Normalized Price\"\n",
    ")\n",
    "fig.show()"
   ]
  },
  {
   "cell_type": "code",
   "execution_count": null,
   "id": "fc942963-f5d5-46c5-8eba-d5cea979013e",
   "metadata": {},
   "outputs": [],
   "source": [
    "p=Prolog()"
   ]
  },
  {
   "cell_type": "code",
   "execution_count": null,
   "id": "06921b54-59b1-4240-b987-f1bc8154ad05",
   "metadata": {},
   "outputs": [],
   "source": [
    "factsD={'tick':'tick(T,O,H,L,C,V,W,B,R)'}"
   ]
  },
  {
   "cell_type": "markdown",
   "id": "438fc644-6e33-4455-b00c-011067357bac",
   "metadata": {},
   "source": [
    "Base fact is a 'tick' at time T open,high,low,close prices and trading volume attributes. The body of the 'candle' B=open-close, and the range beyond the body is R=high-low-body. Additionally W=volume weighted average price is also included (may not be used). Facts are asserted below."
   ]
  },
  {
   "cell_type": "code",
   "execution_count": null,
   "id": "52c17eb9-19fe-4a6b-aa62-9e12ee2ff014",
   "metadata": {},
   "outputs": [],
   "source": [
    "for f in FEAT_COLS:\n",
    "    factsD[f.lower()]=f.lower()+'(R,V)'"
   ]
  },
  {
   "cell_type": "code",
   "execution_count": null,
   "id": "0ee71284-dfad-46c9-a5e1-84e3a2530c34",
   "metadata": {},
   "outputs": [],
   "source": [
    "def clean_kb(factsD):\n",
    "    for pred in factsD:\n",
    "        for f in p.query(\"retract(\"+factsD[pred]+\"),fail\"): pass"
   ]
  },
  {
   "cell_type": "code",
   "execution_count": null,
   "id": "97a6b038-5fd0-4a90-ab84-6306ca61641d",
   "metadata": {},
   "outputs": [],
   "source": [
    "clean_kb(factsD)"
   ]
  },
  {
   "cell_type": "code",
   "execution_count": null,
   "id": "ecc4186e-6bae-4377-8343-3ab9c76f6581",
   "metadata": {},
   "outputs": [],
   "source": [
    "def retract_rules(predsL):\n",
    "    for pred in predsL:\n",
    "        for f in p.query(\"abolish(\"+pred+\"),fail\"): pass"
   ]
  },
  {
   "cell_type": "code",
   "execution_count": null,
   "id": "3b136ab6-5745-406b-8eea-94b33c545c84",
   "metadata": {},
   "outputs": [],
   "source": [
    "predsL=[]"
   ]
  },
  {
   "cell_type": "code",
   "execution_count": null,
   "id": "fe4f26b6-3297-44cf-aa5e-90461dd772b6",
   "metadata": {},
   "outputs": [],
   "source": [
    "retract_rules(predsL)"
   ]
  },
  {
   "cell_type": "code",
   "execution_count": null,
   "id": "2be2af1b-0785-4f01-9f9a-099197474cd7",
   "metadata": {},
   "outputs": [],
   "source": [
    "def assert_rules():\n",
    "    predsL=[]\n",
    "    p.assertz(\"red(T):-tick(T,O,H,L,C,V,W,B,R),O>C\")\n",
    "    predsL+=['red/1']\n",
    "    p.assertz(\"green(T):-tick(T,O,H,L,C,V,W,B,R),O=<C\")\n",
    "    predsL+=['green/1']\n",
    "    p.assertz(\"doji(T):-tick(T,O,H,L,C,V,W,B,R),R>B,small(B)\")\n",
    "    predsL+=['doji/1']\n",
    "    p.assertz(\"small(V):-V<2\")\n",
    "    predsL+=['small/1']\n",
    "    p.assertz(\"list_min([L|Ls], Min) :- foldl(num_num_min, Ls, L, Min)\")\n",
    "    predsL+=['list_min/2']\n",
    "    p.assertz(\"num_num_min(X, Y, Min) :- Min is min(X, Y)\")\n",
    "    predsL+=['num_num_mun/3']\n",
    "    p.assertz(\"list_max([L|Ls], Max) :- foldl(num_num_max, Ls, L, Max)\")\n",
    "    predsL+=['list_max/2']\n",
    "    p.assertz(\"num_num_max(X, Y, Max) :- Max is max(X, Y)\")\n",
    "    predsL+=['num_num_max/3']\n",
    "    p.assertz(\"low(LT,Min):-findall(X, close_n(T,X),L),list_min(L,Min),close_n(LT,Min)\")\n",
    "    predsL+=['low/2']\n",
    "    p.assertz(\"high(LT,Max):-findall(X, close_n(T,X),L),list_max(L,Max),close_n(LT,Max)\")\n",
    "    predsL+=['high/2']\n",
    "    p.assertz(\"len([], LenResult):-LenResult is 0\")\n",
    "    p.assertz(\"len([X|Y], LenResult):-len(Y, L),LenResult is L + 1\")\n",
    "    predsL+=['len/2']\n",
    "    return predsL"
   ]
  },
  {
   "cell_type": "markdown",
   "id": "7b13378b-abf9-4468-a005-a11d0e52ab8b",
   "metadata": {},
   "source": [
    "Addditional rules above include:\n",
    " - 'red(T)' and 'green' indicating whether open>close or open<close at time T\n",
    " - 'low(T,L)' indicates that the lowest value in the history was L at time T and 'high(T,H)' the highest similarly.\n",
    "\n",
    "Further a 'doji' denotes a tick where the body is small (see below)and smaller than than the extented range.\n",
    "                                                                    \n",
    "A few utility predicates are also defined and used in the defintion of the above predicates, including hyper-parameters such as what is 'small' (above, this is defined as anything <2).                                     "
   ]
  },
  {
   "cell_type": "code",
   "execution_count": null,
   "id": "3e86ccd7-5997-45a9-a5f3-f1710a9f9a38",
   "metadata": {},
   "outputs": [],
   "source": [
    "predsL=assert_rules()"
   ]
  },
  {
   "cell_type": "markdown",
   "id": "e2e8063b-0e4b-4664-b4c0-a42431c54fb9",
   "metadata": {},
   "source": [
    "Predicates are asserted below; note that some values are scaled so that Prolog is able to handle these more easily."
   ]
  },
  {
   "cell_type": "code",
   "execution_count": null,
   "id": "4767c340-545f-4314-8790-c0a8fffd33c3",
   "metadata": {},
   "outputs": [],
   "source": [
    "def assert_row(row):\n",
    "    factor=10000 # so that everything is in 'basis points'\n",
    "    def scale(row):\n",
    "        for key in TO_SCALE:\n",
    "            row[key]=factor*row[key]\n",
    "        return row\n",
    "    row=scale(row)\n",
    "    size=abs(row['Open_n']-row['Close_n'])\n",
    "    wick=abs(row['High_n']-row['Low_n'])-size\n",
    "    argstr=str(row['row_num'])+','+str(row['Open_n'])+','+str(\n",
    "        row['High_n'])+','+str(row['Low_n'])+','+str(\n",
    "        row['Close_n'])+','+str(row['Volume_n'])+','+str(\n",
    "        row['VWAP_D'])+','+str(size)+','+str(wick)\n",
    "    factstr='tick('+argstr+')'\n",
    "    p.assertz(factstr)\n",
    "    for key in FEAT_COLS:\n",
    "        factstr=key.lower()+'('+str(row['row_num'])+','+str(row[key])+')'\n",
    "        p.assertz(factstr)"
   ]
  },
  {
   "cell_type": "code",
   "execution_count": null,
   "id": "7a023246-5ec8-4c4b-bafc-67cf5d5c896f",
   "metadata": {
    "tags": []
   },
   "outputs": [],
   "source": [
    "_=df.apply(assert_row,axis=1)"
   ]
  },
  {
   "cell_type": "markdown",
   "id": "57c52b76-aa02-4d7d-9d4e-932240a51dff",
   "metadata": {},
   "source": [
    "- 'now(T)' indicates the 'current' time, i.e., last element of the time-series"
   ]
  },
  {
   "cell_type": "code",
   "execution_count": null,
   "id": "967da023-1c75-4463-9a9a-b6c817291903",
   "metadata": {},
   "outputs": [],
   "source": [
    "p.assertz(\"now(\"+str(df.iloc[-1]['row_num'])+\")\")"
   ]
  },
  {
   "cell_type": "markdown",
   "id": "6b42979b-1bb3-4d9e-9e51-5c937c6252a6",
   "metadata": {},
   "source": [
    "some test queries"
   ]
  },
  {
   "cell_type": "code",
   "execution_count": null,
   "id": "e386a39b-df0f-4489-a5fd-1d9542d63554",
   "metadata": {},
   "outputs": [],
   "source": [
    "list(p.query('now(T)'))"
   ]
  },
  {
   "cell_type": "code",
   "execution_count": null,
   "id": "43076517-845b-459b-91f2-7dd642d83ae2",
   "metadata": {
    "scrolled": true,
    "tags": []
   },
   "outputs": [],
   "source": [
    "list(p.query('tick(T,O,H,L,C,V,W,B,R)'))"
   ]
  },
  {
   "cell_type": "code",
   "execution_count": null,
   "id": "31355d84-af88-4560-9f42-3d03c01586cb",
   "metadata": {
    "tags": []
   },
   "outputs": [],
   "source": [
    "list(p.query('open_n(R,V)'))"
   ]
  },
  {
   "cell_type": "code",
   "execution_count": null,
   "id": "26f73c1b-c554-4775-baa1-64da33d36a05",
   "metadata": {
    "tags": []
   },
   "outputs": [],
   "source": [
    "list(p.query('rsi_14(R,V)'))"
   ]
  },
  {
   "cell_type": "markdown",
   "id": "8c42f86c-f9cc-4837-95bb-8c2c35afcdb4",
   "metadata": {},
   "source": [
    "Above: number of technical analysis features, such as rse_14 (relative strength index), mom_30 and cmo_14 (two different momentum measures) etc. are also asserted according to those listed in FEAT_COLS way above."
   ]
  },
  {
   "cell_type": "code",
   "execution_count": null,
   "id": "837cb912-f58b-4a43-85cb-a85b4736b016",
   "metadata": {},
   "outputs": [],
   "source": [
    "list(p.query('low(T,L)'))"
   ]
  },
  {
   "cell_type": "code",
   "execution_count": null,
   "id": "a90c0a8b-ce7d-4758-823a-6c96053862d7",
   "metadata": {
    "tags": []
   },
   "outputs": [],
   "source": [
    "list(p.query('doji(T)'))"
   ]
  },
  {
   "cell_type": "code",
   "execution_count": null,
   "id": "52cb86c0-56e5-4419-911a-2e479993772d",
   "metadata": {},
   "outputs": [],
   "source": [
    "p.query('row_num(T,T),not(doji(T))')"
   ]
  },
  {
   "cell_type": "code",
   "execution_count": null,
   "id": "e9908ab6-0bb0-4ae4-bea6-befcb93910d2",
   "metadata": {
    "tags": []
   },
   "outputs": [],
   "source": [
    "list(p.query('green(T)'))"
   ]
  },
  {
   "cell_type": "markdown",
   "id": "dcb1816c-abbf-478e-b21b-3bebe33688d0",
   "metadata": {},
   "source": [
    "## More Complex Logical Patterns"
   ]
  },
  {
   "cell_type": "code",
   "execution_count": null,
   "id": "d200e84b-5e59-4d8f-9099-59e15e49209d",
   "metadata": {},
   "outputs": [],
   "source": [
    "for f in p.query(\"abolish(\"+\"bearish/2\"+\"),fail\"): pass\n",
    "for f in p.query(\"abolish(\"+\"bullish/2\"+\"),fail\"): pass"
   ]
  },
  {
   "cell_type": "markdown",
   "id": "187b6545-25b7-4ebb-90ee-3d7ac3711424",
   "metadata": {},
   "source": [
    "'bullish' pattern is a subsequence where the number of greens is delta more than reds, and vice versa for 'bearish'. Value of delta is a hyperparameter asserted also."
   ]
  },
  {
   "cell_type": "code",
   "execution_count": null,
   "id": "d5a65d3e-9621-4f78-9698-1212973e8268",
   "metadata": {},
   "outputs": [],
   "source": [
    "p.assertz(\"delta(3)\")"
   ]
  },
  {
   "cell_type": "code",
   "execution_count": null,
   "id": "79e362da-7554-4527-8206-19f64e19a947",
   "metadata": {},
   "outputs": [],
   "source": [
    "p.assertz(\"bearish(TB,TN):-findall(TZ,(red(TZ),TZ>=TB,TZ=<TN),RL),\\\n",
    "                            findall(TY,(green(TY),TY>=TB,TY=<TN),GL),\\\n",
    "                            len(RL,LRL),len(GL,LGL),delta(D),LRL>=LGL+D\")"
   ]
  },
  {
   "cell_type": "code",
   "execution_count": null,
   "id": "3cca7e8f-31ec-46a7-a676-64e5ad62987e",
   "metadata": {},
   "outputs": [],
   "source": [
    "p.assertz(\"bullish(TB,TN):-findall(TZ,(red(TZ),TZ>=TB,TZ=<TN),RL),\\\n",
    "                            findall(TY,(green(TY),TY>=TB,TY=<TN),GL),\\\n",
    "                            len(RL,LRL),len(GL,LGL),delta(D),LRL+D<LGL\")"
   ]
  },
  {
   "cell_type": "markdown",
   "id": "dc928146-170a-40b6-9446-6e6377e902fa",
   "metadata": {},
   "source": [
    "there are many 'candlestick patterns' that can be asserted as rules, e.g. three-horsemen and three-crows:"
   ]
  },
  {
   "cell_type": "code",
   "execution_count": null,
   "id": "329346f9-9bf8-407c-80ed-b0810c6e2306",
   "metadata": {},
   "outputs": [],
   "source": [
    "p.assertz(\"succ(T2,T1):-T2>T1,T2=<T1+1\")"
   ]
  },
  {
   "cell_type": "code",
   "execution_count": null,
   "id": "af1b11a5-17f5-4f1c-8d9a-0e224a775b02",
   "metadata": {},
   "outputs": [],
   "source": [
    "for f in p.query(\"abolish(\"+\"threehorsemen/1\"+\"),fail\"): pass\n",
    "for f in p.query(\"abolish(\"+\"threecrows/1\"+\"),fail\"): pass"
   ]
  },
  {
   "cell_type": "code",
   "execution_count": null,
   "id": "63f06054-f12e-4021-9a9b-a19fa0abfbbd",
   "metadata": {},
   "outputs": [],
   "source": [
    "threehorsemen=\"threehorsemen(T3):-green(T3),green(T2),green(T1),succ(T3,T2),succ(T2,T1),\"\n",
    "threehorsemen+=\"open_n(T3,O3),close_n(T3,C3),open_n(T2,O2),close_n(T2,C2),open_n(T1,O1),close_n(T1,C1),\"\n",
    "threehorsemen+=\"O2>O1,C2>C1,O3>O2,C3>C2\"\n",
    "p.assertz(threehorsemen)"
   ]
  },
  {
   "cell_type": "code",
   "execution_count": null,
   "id": "40cb6cdb-4b3a-4407-beb1-1769f0b615c7",
   "metadata": {},
   "outputs": [],
   "source": [
    "threecrows=\"threecrows(T3):-red(T3),red(T2),red(T1),succ(T3,T2),succ(T2,T1),\"\n",
    "threecrows+=\"open_n(T3,O3),close_n(T3,C3),open_n(T2,O2),close_n(T2,C2),open_n(T1,O1),close_n(T1,C1),\"\n",
    "threecrows+=\"O2<O1,C2<C1,O3<O2,C3<C2\"\n",
    "p.assertz(threecrows)"
   ]
  },
  {
   "cell_type": "code",
   "execution_count": null,
   "id": "406e92a1-5306-4059-a2f4-67a3b3ba4784",
   "metadata": {
    "tags": []
   },
   "outputs": [],
   "source": [
    "list(p.query(\"threehorsemen(T)\"))"
   ]
  },
  {
   "cell_type": "code",
   "execution_count": null,
   "id": "e84581e3-51e2-4a54-b6f1-d8efeab4a9c7",
   "metadata": {},
   "outputs": [],
   "source": [
    "list(p.query(\"threecrows(T)\"))"
   ]
  },
  {
   "cell_type": "markdown",
   "id": "a885ac2e-774b-49e8-8608-c3c15779b6d4",
   "metadata": {},
   "source": [
    "Similarly we assert thresholds and associated predicates for various technical indicators:"
   ]
  },
  {
   "cell_type": "code",
   "execution_count": null,
   "id": "8fc2fa82-e5f1-4ba4-8661-92bd417ce080",
   "metadata": {},
   "outputs": [],
   "source": [
    "p.assertz(\"cmohighval(50)\")\n",
    "p.assertz(\"cmolowval(-50)\")"
   ]
  },
  {
   "cell_type": "code",
   "execution_count": null,
   "id": "368d23df-59fd-4453-8367-8eeb71a87b25",
   "metadata": {},
   "outputs": [],
   "source": [
    "p.assertz(\"highcmo(H):-cmo(T,V),cmohighval(H),V>H\")\n",
    "p.assertz(\"lowcmo(H):-cmo(T,V),cmolowval(L),V<L\")"
   ]
  },
  {
   "cell_type": "markdown",
   "id": "0120c04a-2e9e-48ef-bea5-784e9ea94df0",
   "metadata": {},
   "source": [
    "We also define when an interval follows another:"
   ]
  },
  {
   "cell_type": "code",
   "execution_count": null,
   "id": "6294b681-3598-4682-bae7-a5b4c37b421e",
   "metadata": {},
   "outputs": [],
   "source": [
    "p.assertz(\"follows([AS,AE],[BS,BE]):-BS>AE,BS<BE,AS<AE\")"
   ]
  },
  {
   "cell_type": "markdown",
   "id": "b759c6e3-d6d3-4f58-9c4d-40f5bed2fb60",
   "metadata": {},
   "source": [
    "## Goal is to use the above logical predicates to learn a policy"
   ]
  },
  {
   "cell_type": "code",
   "execution_count": null,
   "id": "5e7e0581-2024-4709-beb4-e5c5e53cfa7d",
   "metadata": {},
   "outputs": [],
   "source": [
    "policy_predicates=['policy_buy','policy_sell','policy_hold'] "
   ]
  },
  {
   "cell_type": "markdown",
   "id": "21705c14-6b87-4eb0-b049-f068e8ea967c",
   "metadata": {},
   "source": [
    "## in terms of the above background knowledge"
   ]
  },
  {
   "cell_type": "markdown",
   "id": "761eb304-0776-47d2-a624-9a13e0179045",
   "metadata": {},
   "source": [
    "For example, we assert all the facts as above as well as all that are true at time T where now(T), including bearish or bullish trends ending at T, values of technical indicators at T and whether they are above or below thresholds, as well as above or below zero."
   ]
  },
  {
   "cell_type": "markdown",
   "id": "787613b6-740f-4fc0-8a87-49058fef7b03",
   "metadata": {},
   "source": [
    "Now, if we were doing pure ILP, we might learn policies such as:"
   ]
  },
  {
   "cell_type": "code",
   "execution_count": null,
   "id": "36e37532-e193-4aff-b221-f7bc21b04a26",
   "metadata": {},
   "outputs": [],
   "source": [
    "\"policy_buy:-now(N),bullish(TS,N),cmo_14(TS,C),C>0\""
   ]
  },
  {
   "cell_type": "code",
   "execution_count": null,
   "id": "5eaa0ac4-fb0a-4519-9eff-b8840047b2b1",
   "metadata": {},
   "outputs": [],
   "source": [
    "\"policy_sell:-now(N),bullish(TS,N),follows([TS,N],[BS,TS]),bearish(BS,TS),N>BS-TS-2,cmo_14(N,C),C>0\""
   ]
  },
  {
   "cell_type": "markdown",
   "id": "7e7f2be8-c494-4639-9d28-7049cdcc01cf",
   "metadata": {},
   "source": [
    "## Questions (for Ashwin):\n",
    "(a) can we learn such policies without labels in pure ILP, i.e., in an RL setting?\n",
    "(b) which differentiable logical neural network formulation might be best to learn a policy using logical background knowledge as above. (c) ideally one would also like to learn various thresholds (hyperparameters in the logical theory above) during the process of learning a policy."
   ]
  },
  {
   "cell_type": "markdown",
   "id": "e0015b5b-0a09-4556-a82c-15ed14e0c922",
   "metadata": {},
   "source": [
    "## Experiments: \n",
    "various complex queries just to test"
   ]
  },
  {
   "cell_type": "code",
   "execution_count": null,
   "id": "ab29c4eb-0193-47de-b2e3-cb8b73def8b9",
   "metadata": {
    "tags": []
   },
   "outputs": [],
   "source": [
    "list(p.query(\"findall(TS,(row_num(TS,TS),now(N),bullish(TS,N),cmo_14(TS,C),C>0),BL)\"))"
   ]
  },
  {
   "cell_type": "code",
   "execution_count": null,
   "id": "921f6bb4-ad9b-4b0b-b9c9-9f32f7fa4d65",
   "metadata": {
    "tags": []
   },
   "outputs": [],
   "source": [
    "list(p.query(\"findall([TS,C],(row_num(TS,TS),now(N),bearish(TS,N),cmo_14(TS,C),C<0),BL)\"))"
   ]
  },
  {
   "cell_type": "code",
   "execution_count": null,
   "id": "9151da03-3f88-4067-b709-f45a64d8888c",
   "metadata": {
    "tags": []
   },
   "outputs": [],
   "source": [
    "list(p.query(\"findall([TS,TE,BS,BE],(row_num(TS,TS),row_num(TE,TE),row_num(BS,BS),row_num(BE,BE),follows([TS,TE],[BS,BE]),bearish(TS,TE),bearish(BS,BE)),BL)\"))"
   ]
  },
  {
   "cell_type": "markdown",
   "id": "141e02d4-26cb-496e-8d1f-f2c80e18f581",
   "metadata": {},
   "source": [
    "# Saving Data as csv for Ashwin"
   ]
  },
  {
   "cell_type": "code",
   "execution_count": null,
   "id": "91e022ce-99dd-4927-969d-cdf008f6246b",
   "metadata": {},
   "outputs": [],
   "source": [
    "L=logicStrat.logL"
   ]
  },
  {
   "cell_type": "code",
   "execution_count": null,
   "id": "079b744a-0263-4209-9d08-017b5792df64",
   "metadata": {},
   "outputs": [],
   "source": [
    "#!mkdir ../temp_data/for_ashwin"
   ]
  },
  {
   "cell_type": "code",
   "execution_count": null,
   "id": "7c980ed3-590b-4442-8fc1-ce7e38d93c40",
   "metadata": {},
   "outputs": [],
   "source": [
    "for i in range(1):#range(len(L)):\n",
    "    for s in L[i]:\n",
    "        L[0][s].to_csv('../temp_data/for_ashwin/'+str(s)+'_'+str(i))"
   ]
  },
  {
   "cell_type": "code",
   "execution_count": null,
   "id": "26c91979-2dd1-4812-8aa9-dc01df00fba8",
   "metadata": {},
   "outputs": [],
   "source": [
    "# Directly from Feed:\n",
    "with open('../temp_data/feed_sim.pickle','rb') as f: feed_sim=pickle.load(f)"
   ]
  },
  {
   "cell_type": "code",
   "execution_count": null,
   "id": "06a9f917-3db5-4cb9-8c5a-44d0c640e746",
   "metadata": {},
   "outputs": [],
   "source": [
    "feed_sim.data[list(feed_sim.data.keys())[0]].columns"
   ]
  },
  {
   "cell_type": "code",
   "execution_count": null,
   "id": "72dc6244-bd55-467f-9c6b-4455e3963d97",
   "metadata": {},
   "outputs": [],
   "source": [
    "for s in feed_sim.data:\n",
    "    feed_sim.data[s].to_csv('../temp_data/for_ashwin/'+str(s)+'.csv')"
   ]
  },
  {
   "cell_type": "markdown",
   "id": "41673b99-9b66-4da7-9133-3953315f4566",
   "metadata": {},
   "source": [
    "# ADF Test"
   ]
  },
  {
   "cell_type": "code",
   "execution_count": null,
   "id": "d62adbb5-88ec-42c1-8cc3-93779938e340",
   "metadata": {},
   "outputs": [],
   "source": [
    "from statsmodels.tsa.stattools import adfuller"
   ]
  },
  {
   "cell_type": "code",
   "execution_count": null,
   "id": "333d557b-966f-436a-90e5-b45770641d0f",
   "metadata": {},
   "outputs": [],
   "source": [
    "X=df['Close'].values"
   ]
  },
  {
   "cell_type": "code",
   "execution_count": null,
   "id": "7fa7943b-07be-4490-8ba9-dfbe4f0bf7cd",
   "metadata": {},
   "outputs": [],
   "source": [
    "result = adfuller(X[10:50])\n",
    "print('ADF Statistic: %f' % result[0])\n",
    "print('p-value: %f' % result[1])\n",
    "print('Critical Values:')\n",
    "for key, value in result[4].items():\n",
    "\tprint('\\t%s: %.3f' % (key, value))"
   ]
  },
  {
   "cell_type": "code",
   "execution_count": null,
   "id": "ad10a5d7-c2c7-41d5-ba38-85de627882d8",
   "metadata": {},
   "outputs": [],
   "source": [
    "from matplotlib import pyplot as plt"
   ]
  },
  {
   "cell_type": "code",
   "execution_count": null,
   "id": "bde46085-6258-4aee-851f-3ec8aa5469f5",
   "metadata": {},
   "outputs": [],
   "source": [
    "plt.plot(X)"
   ]
  },
  {
   "cell_type": "code",
   "execution_count": null,
   "id": "fa67b6e5-9a80-4f95-b2f8-1197d859ddb1",
   "metadata": {},
   "outputs": [],
   "source": []
  }
 ],
 "metadata": {
  "kernelspec": {
   "display_name": "Python 3 (ipykernel)",
   "language": "python",
   "name": "python3"
  },
  "language_info": {
   "codemirror_mode": {
    "name": "ipython",
    "version": 3
   },
   "file_extension": ".py",
   "mimetype": "text/x-python",
   "name": "python",
   "nbconvert_exporter": "python",
   "pygments_lexer": "ipython3",
   "version": "3.8.12"
  }
 },
 "nbformat": 4,
 "nbformat_minor": 5
}
