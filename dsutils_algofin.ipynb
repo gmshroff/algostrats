{
 "cells": [
  {
   "cell_type": "markdown",
   "id": "e6607390-c3cf-4624-b7b2-98623ced623e",
   "metadata": {},
   "source": [
    "### Dataset Utilities for Algo-Fin Data"
   ]
  },
  {
   "cell_type": "code",
   "execution_count": null,
   "id": "0536eb1a-3b33-4c84-be2a-2cd259698dff",
   "metadata": {
    "tags": []
   },
   "outputs": [],
   "source": [
    "import torch\n",
    "import numpy as np\n",
    "from torch.utils.data import Dataset\n",
    "import sklearn.datasets as skds\n",
    "from sklearn.model_selection import train_test_split\n",
    "from torch.utils.data import DataLoader\n",
    "import math\n",
    "from IPython import display\n",
    "from time import sleep\n",
    "import pickle\n",
    "import pandas as pd"
   ]
  },
  {
   "cell_type": "code",
   "execution_count": null,
   "id": "c85f885c-e271-462c-bc64-99f5e70dff1d",
   "metadata": {
    "tags": []
   },
   "outputs": [],
   "source": [
    "import import_ipynb\n",
    "from feeds import DataFeed, BackFeed\n",
    "from featfuncs import USE_COLS_DICT_ORIG,update_use_cols_dict \n",
    "from featfuncs import DiscretizeK,discretize_features_feed\n",
    "from utils import MyDS"
   ]
  },
  {
   "cell_type": "code",
   "execution_count": null,
   "id": "783b3e40-25e8-4a70-9998-544e25d5e03b",
   "metadata": {
    "tags": []
   },
   "outputs": [],
   "source": [
    "from sklearn.preprocessing import KBinsDiscretizer\n",
    "from datetime import datetime"
   ]
  },
  {
   "cell_type": "code",
   "execution_count": null,
   "id": "a528a228-5285-4803-b517-08bc5406cfc8",
   "metadata": {
    "tags": []
   },
   "outputs": [],
   "source": [
    "def get_date_era(d):\n",
    "    return (datetime.strptime(d,'%d-%b-%Y')-datetime.strptime('31-Oct-2021','%d-%b-%Y')).days"
   ]
  },
  {
   "cell_type": "code",
   "execution_count": null,
   "id": "59b70a15-1365-45ae-b1cb-032e15dd5d96",
   "metadata": {
    "tags": []
   },
   "outputs": [],
   "source": [
    "# dataset to be created - # dates test data # dates train data before\n",
    "# train tickers even test tickers odd\n",
    "# target return = 10 (default)\n",
    "# feed to use DATAFEED (default)\n",
    "# counters to use per date (default: range(75,260,20) i.e. 10 samples per date)\n",
    "# size per sample (default 20)\n",
    "# regression task (for now)\n",
    "def make_regression_sample(feed,date,ticker,counter,size,retwins=[5,10],suffixes=['_5','_10']):\n",
    "    maxretwin=max(retwins)\n",
    "    data=feed.ndata[ticker][date]\n",
    "    batch=data.iloc[counter-maxretwin:counter+size+maxretwin]\n",
    "    for retwin,suffix in zip(retwins,suffixes):\n",
    "        batch['target'+suffix]=batch.shift(-retwin)['Close_n']-batch['Close_n']\n",
    "    return batch.iloc[maxretwin:maxretwin+size]\n",
    "def create_algofin_dataset(feed,kind='train',discretize=False,estgiven=False,\n",
    "                           cols='mincols',batch_size=32,size=20,\n",
    "                          DkT5=None,DkT10=None,DkD=None,SYN=False):\n",
    "    counters=[i for i in range(75,135,size)]\n",
    "    dfL=[]\n",
    "    USE_COLS_DICT=update_use_cols_dict(USE_COLS_DICT_ORIG)\n",
    "    COLS=USE_COLS_DICT[cols]\n",
    "    if kind is 'train': tickers=[i for i in range(0,len(feed.tickers),2)]\n",
    "    elif kind is 'test': tickers=[i for i in range(1,len(feed.tickers),2)]\n",
    "    dwin=10\n",
    "    if SYN: tickers,dwin=[0],int(len([date for date in feed.ndata['SYN']])/2)\n",
    "    for ti in tickers:\n",
    "        t=feed.tickers[ti]\n",
    "        if kind is 'train': dates=[date for date in feed.ndata[t]][1:-dwin]\n",
    "        elif kind is 'test': dates=[date for date in feed.ndata[t]][-dwin:]\n",
    "        for d in dates:\n",
    "            for counter in counters:\n",
    "                df=make_regression_sample(feed,d,t,counter,size)\n",
    "                dfL+=[df[['ticker']+COLS+['target_5','target_10','Date']]]\n",
    "    df=pd.concat(dfL,axis=0)\n",
    "    df.dropna(inplace=True)\n",
    "    df.reset_index(inplace=True)\n",
    "    df['era']=df['Date'].apply(get_date_era)\n",
    "    if discretize:\n",
    "        if not estgiven:\n",
    "            DkT5=DiscretizeK()\n",
    "            DkT10=DiscretizeK()\n",
    "            DkD={c:DiscretizeK()for c in COLS} \n",
    "        DkT5.discretizeK(df,col='target_5')\n",
    "        DkT10.discretizeK(df,col='target_10')\n",
    "        _=[DkD[c].discretizeK(df,col=c,zeromean=False) for c in COLS if c is not 'row_num']\n",
    "        VALCOLS=[c+'_val' for c in COLS if c is not 'row_num']\n",
    "        X,y=df[VALCOLS+['row_num','era']].values,df['target_10_val'].values\n",
    "    else:\n",
    "        X,y=df[COLS+['row_num'+'era']].values,df['target_10_val'].values\n",
    "    ds=MyDS(X,y,task='regression')\n",
    "    dsloader = torch.utils.data.DataLoader(dataset=ds,batch_size=batch_size,shuffle=False)\n",
    "    if discretize: return df[VALCOLS+['row_num','era','target_10_val','target_5_val']],ds,dsloader,DkT5,DkT10,DkD\n",
    "    else: return df[COLS+['row_num','era','target_10_val','target_5_val']],ds,dsloader,DkT5,DkT10,DkD"
   ]
  },
  {
   "cell_type": "code",
   "execution_count": null,
   "id": "9c31807e-8700-46dd-b8dd-d01afe2b1c81",
   "metadata": {
    "tags": []
   },
   "outputs": [],
   "source": [
    "def create_algofin_data(feed,cols='mincols',size=20,batch_size=32,\n",
    "                        discretize=False,estgiven=False,DkT5=None,DkT10=None,DkD=None,SYN=False):\n",
    "    df_train,ds_train,train_loader,DkT5,DkT10,DkD=create_algofin_dataset(feed,kind='train',cols=cols,\n",
    "                                                          batch_size=batch_size,\n",
    "                                                          discretize=discretize,estgiven=estgiven,\n",
    "                                                          DkT5=DkT5,DkT10=DkT10,DkD=DkD,SYN=SYN)\n",
    "    df_test,ds_test,test_loader,_,_,_=create_algofin_dataset(feed,kind='test',cols=cols,size=size,\n",
    "                                                       batch_size=batch_size,\n",
    "                                                       discretize=discretize,estgiven=True,\n",
    "                                                       DkT5=DkT5,DkT10=DkT10,DkD=DkD,SYN=SYN)\n",
    "    return df_train,ds_train,train_loader,df_test,ds_test,test_loader,DkT5,DkT10,DkD"
   ]
  },
  {
   "cell_type": "code",
   "execution_count": null,
   "id": "01eb9820-5673-40e7-80f2-d241f2918ec7",
   "metadata": {},
   "outputs": [],
   "source": []
  }
 ],
 "metadata": {
  "kernelspec": {
   "display_name": "Python 3 (ipykernel)",
   "language": "python",
   "name": "python3"
  },
  "language_info": {
   "codemirror_mode": {
    "name": "ipython",
    "version": 3
   },
   "file_extension": ".py",
   "mimetype": "text/x-python",
   "name": "python",
   "nbconvert_exporter": "python",
   "pygments_lexer": "ipython3",
   "version": "3.8.12"
  }
 },
 "nbformat": 4,
 "nbformat_minor": 5
}
